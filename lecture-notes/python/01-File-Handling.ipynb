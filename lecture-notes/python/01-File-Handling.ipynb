{
 "cells": [
  {
   "cell_type": "markdown",
   "metadata": {},
   "source": [
    "# File Handling\n",
    "\n",
    "\n",
    "File handling in Python requires no importing of modules. \n",
    "\n",
    "Python provides the built-in _object file_\n",
    "\n",
    "Source: https://docs.python.org/2/tutorial/inputoutput.html"
   ]
  },
  {
   "cell_type": "markdown",
   "metadata": {},
   "source": [
    "## open()\n",
    "\n",
    "open() returns a file object, and is most commonly used with two arguments: open(filename, mode).\n",
    "The **mode** indicates, how the file is going to be opened **r** for reading,\n",
    "**w** for writing and **a** for a appending, **r+** or **w+** from reading and writing, etc. See [fopen](http://www.manpagez.com/man/3/fopen/) for more options."
   ]
  },
  {
   "cell_type": "code",
   "execution_count": 166,
   "metadata": {
    "scrolled": true
   },
   "outputs": [
    {
     "name": "stdout",
     "output_type": "stream",
     "text": [
      "<open file 'file1.txt', mode 'r' at 0x7fe9b4d66ae0>\n"
     ]
    }
   ],
   "source": [
    "f = open('file1.txt', 'r')\n",
    "\n",
    "print f\n",
    "f.close()"
   ]
  },
  {
   "cell_type": "markdown",
   "metadata": {},
   "source": [
    "### Reading a file\n",
    "\n",
    "To read entire file, use:"
   ]
  },
  {
   "cell_type": "code",
   "execution_count": 167,
   "metadata": {},
   "outputs": [
    {
     "name": "stdout",
     "output_type": "stream",
     "text": [
      "first line\n",
      "second line\n",
      "third line\n",
      "\n"
     ]
    }
   ],
   "source": [
    "f = open('file1.txt', 'r')\n",
    "\n",
    "print f.read()\n",
    "f.close()"
   ]
  },
  {
   "cell_type": "markdown",
   "metadata": {},
   "source": [
    "To read a block of file's contents, use *read(size)*: "
   ]
  },
  {
   "cell_type": "code",
   "execution_count": 168,
   "metadata": {},
   "outputs": [
    {
     "name": "stdout",
     "output_type": "stream",
     "text": [
      "first li\n"
     ]
    }
   ],
   "source": [
    "f = open('file1.txt', 'r')\n",
    "\n",
    "print f.read(8),\n",
    "f.close()"
   ]
  },
  {
   "cell_type": "markdown",
   "metadata": {},
   "source": [
    "To read one line at a time, use:"
   ]
  },
  {
   "cell_type": "code",
   "execution_count": 169,
   "metadata": {},
   "outputs": [
    {
     "name": "stdout",
     "output_type": "stream",
     "text": [
      "first line\n",
      "second line\n",
      "third line\n"
     ]
    }
   ],
   "source": [
    "f = open('file1.txt', 'r')\n",
    "\n",
    "print f.readline(), \n",
    "print f.readline(),\n",
    "print f.readline(),\n",
    "f.close()"
   ]
  },
  {
   "cell_type": "markdown",
   "metadata": {},
   "source": [
    "For reading lines from a file, it's possible to loop over the file object:"
   ]
  },
  {
   "cell_type": "code",
   "execution_count": 170,
   "metadata": {},
   "outputs": [
    {
     "name": "stdout",
     "output_type": "stream",
     "text": [
      "first line\n",
      "second line\n",
      "third line\n"
     ]
    }
   ],
   "source": [
    "f = open('file1.txt', 'r')\n",
    "\n",
    "for line in f:\n",
    "    print line,  \n",
    "f.close()"
   ]
  },
  {
   "cell_type": "markdown",
   "metadata": {},
   "source": [
    "To read a list of lines, use:"
   ]
  },
  {
   "cell_type": "code",
   "execution_count": 171,
   "metadata": {},
   "outputs": [
    {
     "name": "stdout",
     "output_type": "stream",
     "text": [
      "Total lines: 3 \n",
      "\n",
      "first line\n",
      "second line\n",
      "third line\n"
     ]
    }
   ],
   "source": [
    "f = open('file1.txt', 'r')\n",
    "\n",
    "lines = f.readlines()\n",
    "\n",
    "print(\"Total lines: {} \\n\".format(len(lines)))\n",
    "for line in lines:\n",
    "    print line, \n",
    "f.close()"
   ]
  },
  {
   "cell_type": "markdown",
   "metadata": {},
   "source": [
    "### Writing to file\n",
    "\n",
    "To write something to a file, use:"
   ]
  },
  {
   "cell_type": "code",
   "execution_count": 172,
   "metadata": {
    "collapsed": true
   },
   "outputs": [],
   "source": [
    "f = open('file2.txt', 'w')\n",
    "\n",
    "f.write('Introduction to Data Science !!!')\n",
    "f.close() "
   ]
  },
  {
   "cell_type": "markdown",
   "metadata": {},
   "source": [
    "To write something other than a string, it needs to be converted to a string first:"
   ]
  },
  {
   "cell_type": "code",
   "execution_count": 173,
   "metadata": {},
   "outputs": [],
   "source": [
    "value = ['my string', 42, 10+5j, 1./3.0]\n",
    "\n",
    "f = open('file2.txt', 'w')\n",
    "\n",
    "s = str(value)\n",
    "f.write(s)\n",
    "\n",
    "f.close() \n",
    "\n",
    "f = open('file2.txt', 'r')\n",
    "\n",
    "f.read()\n",
    "f.close()"
   ]
  },
  {
   "cell_type": "markdown",
   "metadata": {},
   "source": [
    "### File seeking\n",
    "\n",
    "To change file object's position, use f.seek(offset, from_what). The new position is calculated adding _offset_ to a _from_what_ value. The _from_what_ allowed values are \n",
    " - **0**: the beginning of the file\n",
    " - **1**: to the current position \n",
    " - **2**: uses the end of the file \n"
   ]
  },
  {
   "cell_type": "code",
   "execution_count": 174,
   "metadata": {},
   "outputs": [
    {
     "data": {
      "text/plain": [
       "'to'"
      ]
     },
     "execution_count": 174,
     "metadata": {},
     "output_type": "execute_result"
    }
   ],
   "source": [
    "f = open('file3.txt', 'w+')\n",
    "\n",
    "f.write('Introduction to Data Science')\n",
    "f.seek(13)      # Go to the 13th byte\n",
    "f.read(2)"
   ]
  },
  {
   "cell_type": "code",
   "execution_count": 175,
   "metadata": {
    "scrolled": true
   },
   "outputs": [
    {
     "data": {
      "text/plain": [
       "'Science'"
      ]
     },
     "execution_count": 175,
     "metadata": {},
     "output_type": "execute_result"
    }
   ],
   "source": [
    "f.seek(-7, 2)  # Go to the 7th byte before the end\n",
    "f.read(7)"
   ]
  },
  {
   "cell_type": "markdown",
   "metadata": {},
   "source": [
    "### close()\n",
    "\n",
    "Python automatically closes a file when the reference object of a file is reassigned to another file. It is a good practice to use the close() method to close a file.\n",
    "\n",
    "Read about others ways to use close(): [Is necessary to use close()?](https://stackoverflow.com/a/1832589).\n",
    "\n",
    "To close a file, use:"
   ]
  },
  {
   "cell_type": "code",
   "execution_count": 176,
   "metadata": {
    "scrolled": true
   },
   "outputs": [
    {
     "data": {
      "text/plain": [
       "<closed file 'file3.txt', mode 'w+' at 0x7fe9b4d66b70>"
      ]
     },
     "execution_count": 176,
     "metadata": {},
     "output_type": "execute_result"
    }
   ],
   "source": [
    "f = open('file3.txt', 'w+')\n",
    "# do something \n",
    "f.close()\n",
    "\n",
    "f"
   ]
  },
  {
   "cell_type": "markdown",
   "metadata": {},
   "source": [
    "To check if a file is closed, use:"
   ]
  },
  {
   "cell_type": "code",
   "execution_count": 177,
   "metadata": {},
   "outputs": [
    {
     "name": "stdout",
     "output_type": "stream",
     "text": [
      "File is opened\n"
     ]
    }
   ],
   "source": [
    "f = open('file3.txt', 'w+')\n",
    "# f.close()\n",
    "\n",
    "if f.closed:\n",
    "    print 'File is closed'\n",
    "else:\n",
    "    print 'File is opened'"
   ]
  },
  {
   "cell_type": "markdown",
   "metadata": {},
   "source": [
    "### Using with statement\n",
    "\n",
    "We can use the **with** statement to let Python call a função automatically. A short example:"
   ]
  },
  {
   "cell_type": "code",
   "execution_count": 178,
   "metadata": {},
   "outputs": [
    {
     "name": "stdout",
     "output_type": "stream",
     "text": [
      "first line\n",
      "second line\n",
      "third line\n"
     ]
    }
   ],
   "source": [
    "with open(\"file1.txt\") as f:\n",
    "    for line in f:\n",
    "        print line,"
   ]
  },
  {
   "cell_type": "markdown",
   "metadata": {},
   "source": [
    "## CSV Files\n",
    "\n",
    "There is a python *csv* module that implements classes to read and write tabular data in CSV format. \n",
    "Read more about csv module [here](https://docs.python.org/2/library/csv.html).\n",
    "\n",
    "### Reading a CSV file\n",
    "\n",
    "Each row read from the csv file is returned as a list of strings. No automatic data type conversion is performed.\n",
    "A short example:"
   ]
  },
  {
   "cell_type": "code",
   "execution_count": 183,
   "metadata": {},
   "outputs": [
    {
     "name": "stdout",
     "output_type": "stream",
     "text": [
      "['ID', 'Name', 'Age']\n",
      "['1', 'Smith', '11']\n",
      "['2', 'Johnson', '22']\n",
      "['3', 'Williams', '33']\n"
     ]
    }
   ],
   "source": [
    "import csv\n",
    "\n",
    "fcsv = open('simple.csv', 'r')\n",
    "csvreader = csv.reader(fcsv)\n",
    "\n",
    "for row in csvreader:\n",
    "    print row\n",
    "fcsv.close()"
   ]
  },
  {
   "cell_type": "markdown",
   "metadata": {},
   "source": [
    "### Writing a CSV File\n",
    "\n",
    "The writer() function will create an object suitable for writing. To iterate the data over the rows, you will need to use the writerow() function. A short example:"
   ]
  },
  {
   "cell_type": "code",
   "execution_count": 185,
   "metadata": {
    "collapsed": true
   },
   "outputs": [],
   "source": [
    "import csv\n",
    "\n",
    "fcsv = open('simple2.csv', 'w')\n",
    "csvwriter = csv.writer(fcsv)\n",
    "\n",
    "csvwriter.writerow(['4','Jones','44'])\n",
    "fcsv.close()"
   ]
  },
  {
   "cell_type": "markdown",
   "metadata": {},
   "source": [
    "### Loading CSV into dictionary structure\n",
    "\n",
    "The module **csv** always allows to read row of a csv file into a dictionary structure. See the example:"
   ]
  },
  {
   "cell_type": "code",
   "execution_count": 184,
   "metadata": {},
   "outputs": [
    {
     "name": "stdout",
     "output_type": "stream",
     "text": [
      "{'Age': '11', 'ID': '1', 'Name': 'Smith'}\n",
      "{'Age': '22', 'ID': '2', 'Name': 'Johnson'}\n",
      "{'Age': '33', 'ID': '3', 'Name': 'Williams'}\n"
     ]
    }
   ],
   "source": [
    "import csv\n",
    "\n",
    "fcsv = open('simple.csv','r')\n",
    "csvreader = csv.DictReader(fcsv)\n",
    "\n",
    "for row in csvreader:\n",
    "    print row\n",
    "fcsv.close()"
   ]
  },
  {
   "cell_type": "markdown",
   "metadata": {},
   "source": [
    "### Creating a CSV file from a dictionary structure\n"
   ]
  },
  {
   "cell_type": "code",
   "execution_count": 186,
   "metadata": {},
   "outputs": [],
   "source": [
    "import csv\n",
    "\n",
    "fields= ['ID','Age','Name']\n",
    "users = [\n",
    "            {'Age': '11', 'ID': '1', 'Name': 'Smith'},\n",
    "            {'Age': '22', 'ID': '2', 'Name': 'Johnson'},\n",
    "            {'Age': '33', 'ID': '3', 'Name': 'Williams'}\n",
    "        ]\n",
    "\n",
    "fcsv = open('simple3.csv','w')\n",
    "csvwriter = csv.DictWriter(fcsv, fieldnames=fields)\n",
    "\n",
    "csvwriter.writeheader()\n",
    "for user in users:\n",
    "    csvwriter.writerow(user)\n",
    "\n",
    "fcsv.close()"
   ]
  },
  {
   "cell_type": "markdown",
   "metadata": {},
   "source": [
    "Read about [dialects](https://docs.python.org/2/library/csv.html#dialects-and-formatting-parameters) and [deducing the format of a CSV format](https://docs.python.org/2/library/csv.html#csv.Sniffer)."
   ]
  }
 ],
 "metadata": {
  "kernelspec": {
   "display_name": "Python 2",
   "language": "python",
   "name": "python2"
  },
  "language_info": {
   "codemirror_mode": {
    "name": "ipython",
    "version": 2
   },
   "file_extension": ".py",
   "mimetype": "text/x-python",
   "name": "python",
   "nbconvert_exporter": "python",
   "pygments_lexer": "ipython2",
   "version": "2.7.13"
  }
 },
 "nbformat": 4,
 "nbformat_minor": 2
}

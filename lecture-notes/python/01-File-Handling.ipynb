{
 "cells": [
  {
   "cell_type": "markdown",
   "metadata": {},
   "source": [
    "# File Handling\n",
    "\n",
    "\n",
    "File handling in Python requires no importing of modules. \n",
    "\n",
    "Python provides the built-in _object file_\n",
    "\n",
    "Source: https://docs.python.org/2/tutorial/inputoutput.html"
   ]
  },
  {
   "cell_type": "markdown",
   "metadata": {},
   "source": [
    "## open()\n",
    "\n",
    "open() returns a file object, and is most commonly used with two arguments: open(filename, mode).\n",
    "The **mode** indicates, how the file is going to be opened **r** for reading,\n",
    "**w** for writing and **a** for a appending, **r+** or **w+** from reading and writing, etc. See [fopen](http://www.manpagez.com/man/3/fopen/) for more options."
   ]
  },
  {
   "cell_type": "code",
   "execution_count": 34,
   "metadata": {
    "scrolled": true
   },
   "outputs": [
    {
     "name": "stdout",
     "output_type": "stream",
     "text": [
      "<open file 'file1.txt', mode 'r' at 0x7fb7d03f6270>\n",
      "<closed file 'file1.txt', mode 'r' at 0x7fb7d03f6270>\n"
     ]
    }
   ],
   "source": [
    "f = open('file1.txt', 'r')\n",
    "\n",
    "print f\n",
    "f.close()\n",
    "print f"
   ]
  },
  {
   "cell_type": "markdown",
   "metadata": {},
   "source": [
    "### Reading a file\n",
    "\n",
    "To read entire file, use:"
   ]
  },
  {
   "cell_type": "code",
   "execution_count": 35,
   "metadata": {},
   "outputs": [
    {
     "name": "stdout",
     "output_type": "stream",
     "text": [
      "first line\n",
      "second line\n",
      "third line\n",
      "\n"
     ]
    }
   ],
   "source": [
    "f = open('file1.txt', 'r')\n",
    "\n",
    "print f.read()\n",
    "f.close()"
   ]
  },
  {
   "cell_type": "markdown",
   "metadata": {},
   "source": [
    "To read a block of file's contents, use *read(size)*: "
   ]
  },
  {
   "cell_type": "code",
   "execution_count": 36,
   "metadata": {},
   "outputs": [
    {
     "name": "stdout",
     "output_type": "stream",
     "text": [
      "first li\n"
     ]
    }
   ],
   "source": [
    "f = open('file1.txt', 'r')\n",
    "\n",
    "print f.read(8),\n",
    "f.close()"
   ]
  },
  {
   "cell_type": "markdown",
   "metadata": {},
   "source": [
    "To read one line at a time, use:"
   ]
  },
  {
   "cell_type": "code",
   "execution_count": 37,
   "metadata": {},
   "outputs": [
    {
     "name": "stdout",
     "output_type": "stream",
     "text": [
      "first line\n",
      "second line\n",
      "third line\n"
     ]
    }
   ],
   "source": [
    "f = open('file1.txt', 'r')\n",
    "\n",
    "print f.readline(), \n",
    "print f.readline(),\n",
    "print f.readline(),\n",
    "f.close()"
   ]
  },
  {
   "cell_type": "markdown",
   "metadata": {},
   "source": [
    "For reading lines from a file, it's possible to loop over the file object:"
   ]
  },
  {
   "cell_type": "code",
   "execution_count": 38,
   "metadata": {},
   "outputs": [
    {
     "name": "stdout",
     "output_type": "stream",
     "text": [
      "first line\n",
      "second line\n",
      "third line\n"
     ]
    }
   ],
   "source": [
    "f = open('file1.txt', 'r')\n",
    "\n",
    "for line in f:\n",
    "    print line,  \n",
    "f.close()"
   ]
  },
  {
   "cell_type": "markdown",
   "metadata": {},
   "source": [
    "To read a list of lines, use:"
   ]
  },
  {
   "cell_type": "code",
   "execution_count": 39,
   "metadata": {},
   "outputs": [
    {
     "name": "stdout",
     "output_type": "stream",
     "text": [
      "Total lines: 3 \n",
      "\n",
      "first line\n",
      "second line\n",
      "third line\n"
     ]
    }
   ],
   "source": [
    "f = open('file1.txt', 'r')\n",
    "\n",
    "lines = f.readlines()\n",
    "\n",
    "print(\"Total lines: {} \\n\".format(len(lines)))\n",
    "for line in lines:\n",
    "    print line, \n",
    "f.close()"
   ]
  },
  {
   "cell_type": "markdown",
   "metadata": {},
   "source": [
    "### Writing to file\n",
    "\n",
    "To write something to a file, use:"
   ]
  },
  {
   "cell_type": "code",
   "execution_count": 40,
   "metadata": {},
   "outputs": [],
   "source": [
    "f = open('file2.txt', 'w')\n",
    "\n",
    "f.write('Introduction to Data Science 2!!!')\n",
    "f.close() "
   ]
  },
  {
   "cell_type": "markdown",
   "metadata": {},
   "source": [
    "To write something other than a string, it needs to be converted to a string first:"
   ]
  },
  {
   "cell_type": "code",
   "execution_count": 41,
   "metadata": {
    "collapsed": true
   },
   "outputs": [],
   "source": [
    "value = ['my string', 42, 10+5j, 1./3.0]\n",
    "\n",
    "f = open('file2.txt', 'w')\n",
    "\n",
    "s = str(value)\n",
    "f.write(s)\n",
    "\n",
    "f.close() \n",
    "\n",
    "f = open('file2.txt', 'r')\n",
    "\n",
    "f.read()\n",
    "f.close()"
   ]
  },
  {
   "cell_type": "markdown",
   "metadata": {},
   "source": [
    "### File seeking\n",
    "\n",
    "To change file object's position, use f.seek(offset, from_what). The new position is calculated adding _offset_ to a _from_what_ value. The _from_what_ allowed values are \n",
    " - **0**: the beginning of the file\n",
    " - **1**: to the current position \n",
    " - **2**: uses the end of the file \n"
   ]
  },
  {
   "cell_type": "code",
   "execution_count": 42,
   "metadata": {},
   "outputs": [
    {
     "data": {
      "text/plain": [
       "'to'"
      ]
     },
     "execution_count": 42,
     "metadata": {},
     "output_type": "execute_result"
    }
   ],
   "source": [
    "f = open('file3.txt', 'w+')\n",
    "\n",
    "f.write('Introduction to Data Science')\n",
    "f.seek(13)      # Go to the 13th byte\n",
    "f.read(2)"
   ]
  },
  {
   "cell_type": "code",
   "execution_count": 43,
   "metadata": {
    "scrolled": true
   },
   "outputs": [
    {
     "data": {
      "text/plain": [
       "'Science'"
      ]
     },
     "execution_count": 43,
     "metadata": {},
     "output_type": "execute_result"
    }
   ],
   "source": [
    "f.seek(-7, 2)  # Go to the 7th byte before the end\n",
    "f.read(7)"
   ]
  },
  {
   "cell_type": "markdown",
   "metadata": {},
   "source": [
    "### close()\n",
    "\n",
    "Python automatically closes a file when the reference object of a file is reassigned to another file. It is a good practice to use the close() method to close a file.\n",
    "\n",
    "Read about others ways to use close(): [Is necessary to use close()?](https://stackoverflow.com/a/1832589).\n",
    "\n",
    "To close a file, use:"
   ]
  },
  {
   "cell_type": "code",
   "execution_count": 44,
   "metadata": {
    "scrolled": true
   },
   "outputs": [],
   "source": [
    "f = open('file3.txt', 'w+')\n",
    "# do something \n",
    "f.close()"
   ]
  },
  {
   "cell_type": "markdown",
   "metadata": {},
   "source": [
    "To check if a file is closed, use:"
   ]
  },
  {
   "cell_type": "code",
   "execution_count": 45,
   "metadata": {},
   "outputs": [
    {
     "name": "stdout",
     "output_type": "stream",
     "text": [
      "File is opened\n"
     ]
    }
   ],
   "source": [
    "f = open('file3.txt', 'w+')\n",
    "# f.close()\n",
    "\n",
    "if f.closed:\n",
    "    print 'File is closed'\n",
    "else:\n",
    "    print 'File is opened'"
   ]
  },
  {
   "cell_type": "markdown",
   "metadata": {},
   "source": [
    "### Using with statement\n",
    "\n",
    "We can use the **with** statement to let Python call a função automatically. A short example:"
   ]
  },
  {
   "cell_type": "code",
   "execution_count": 46,
   "metadata": {},
   "outputs": [
    {
     "name": "stdout",
     "output_type": "stream",
     "text": [
      "first line\n",
      "second line\n",
      "third line\n"
     ]
    }
   ],
   "source": [
    "with open(\"file1.txt\") as f:\n",
    "    for line in f:\n",
    "        print line,"
   ]
  },
  {
   "cell_type": "markdown",
   "metadata": {},
   "source": [
    "## CSV Files\n",
    "\n",
    "There is a python *csv* module that implements classes to read and write tabular data in CSV format. \n",
    "Read more about csv module [here](https://docs.python.org/2/library/csv.html).\n",
    "\n",
    "### Reading a CSV file\n",
    "\n",
    "Each row read from the csv file is returned as a list of strings. No automatic data type conversion is performed.\n",
    "A short example:"
   ]
  },
  {
   "cell_type": "code",
   "execution_count": 47,
   "metadata": {},
   "outputs": [
    {
     "name": "stdout",
     "output_type": "stream",
     "text": [
      "['ID', 'Name', 'Age']\n",
      "['1', 'Smith', '11']\n",
      "['2', 'Johnson', '22']\n",
      "['3', 'Williams', '33']\n"
     ]
    }
   ],
   "source": [
    "import csv\n",
    "\n",
    "fcsv = open('simple.csv', 'r')\n",
    "csvreader = csv.reader(fcsv)\n",
    "\n",
    "for row in csvreader:\n",
    "    print row\n",
    "fcsv.close()"
   ]
  },
  {
   "cell_type": "markdown",
   "metadata": {},
   "source": [
    "### Writing a CSV File\n",
    "\n",
    "The writer() function will create an object suitable for writing. To iterate the data over the rows, you will need to use the writerow() function. A short example:"
   ]
  },
  {
   "cell_type": "code",
   "execution_count": 48,
   "metadata": {
    "collapsed": true
   },
   "outputs": [],
   "source": [
    "import csv\n",
    "\n",
    "fcsv = open('simple2.csv', 'w')\n",
    "csvwriter = csv.writer(fcsv)\n",
    "\n",
    "csvwriter.writerow(['4','Jones','44'])\n",
    "fcsv.close()"
   ]
  },
  {
   "cell_type": "markdown",
   "metadata": {},
   "source": [
    "### Loading CSV into dictionary structure\n",
    "\n",
    "The module **csv** always allows to read row of a csv file into a dictionary structure. See the example:"
   ]
  },
  {
   "cell_type": "code",
   "execution_count": 49,
   "metadata": {},
   "outputs": [
    {
     "name": "stdout",
     "output_type": "stream",
     "text": [
      "{'Age': '11', 'ID': '1', 'Name': 'Smith'}\n",
      "{'Age': '22', 'ID': '2', 'Name': 'Johnson'}\n",
      "{'Age': '33', 'ID': '3', 'Name': 'Williams'}\n"
     ]
    }
   ],
   "source": [
    "import csv\n",
    "\n",
    "fcsv = open('simple.csv','r')\n",
    "csvreader = csv.DictReader(fcsv)\n",
    "\n",
    "for row in csvreader:\n",
    "    print row\n",
    "fcsv.close()"
   ]
  },
  {
   "cell_type": "markdown",
   "metadata": {},
   "source": [
    "### Creating a CSV file from a dictionary structure\n"
   ]
  },
  {
   "cell_type": "code",
   "execution_count": 50,
   "metadata": {
    "collapsed": true
   },
   "outputs": [],
   "source": [
    "import csv\n",
    "\n",
    "fields= ['ID','Age','Name']\n",
    "users = [\n",
    "            {'Age': '11', 'ID': '1', 'Name': 'Smith'},\n",
    "            {'Age': '22', 'ID': '2', 'Name': 'Johnson'},\n",
    "            {'Age': '33', 'ID': '3', 'Name': 'Williams'}\n",
    "        ]\n",
    "\n",
    "fcsv = open('simple3.csv','w')\n",
    "csvwriter = csv.DictWriter(fcsv, fieldnames=fields)\n",
    "\n",
    "csvwriter.writeheader()\n",
    "for user in users:\n",
    "    csvwriter.writerow(user)\n",
    "\n",
    "fcsv.close()"
   ]
  },
  {
   "cell_type": "markdown",
   "metadata": {},
   "source": [
    "Reading the Baltimore data of Hot Dogs Vendors:"
   ]
  },
  {
   "cell_type": "code",
   "execution_count": 51,
   "metadata": {},
   "outputs": [
    {
     "data": {
      "text/plain": [
       "[{'Cart_Descr': \"Two add'l tables to be added to current 6' table in U shape, with grill & warming pans, Tent\",\n",
       "  'Id': '0',\n",
       "  'ItemsSold': 'Grilled food, pizza slices, gyro sandwiches',\n",
       "  'LicenseNum': 'DF000166',\n",
       "  'Location 1': 'Towson 21204\\n(39.28540000000, -76.62260000000)',\n",
       "  'St': 'MD',\n",
       "  'VendorAddr': '508 Washington Blvd, confined within 10 x 10 space',\n",
       "  'VendorName': 'Abdul-Ghani, Christina, \"The Bullpen Bar\"'},\n",
       " {'Cart_Descr': 'Pushcart',\n",
       "  'Id': '0',\n",
       "  'ItemsSold': 'Hot Dogs, Sausage, Snacks, Gum, Candies, Drinks',\n",
       "  'LicenseNum': 'DF000075',\n",
       "  'Location 1': 'Owings Mill 21117\\n(39.29860000000, -76.61280000000)',\n",
       "  'St': 'MD',\n",
       "  'VendorAddr': 'SEC Calvert & Madison on Calvert',\n",
       "  'VendorName': 'Ali, Fathi'},\n",
       " {'Cart_Descr': 'Pushcart',\n",
       "  'Id': '0',\n",
       "  'ItemsSold': 'Hot dogs, Sausage, drinks, snacks, gum, & candy',\n",
       "  'LicenseNum': 'DF000133',\n",
       "  'Location 1': 'Owings Mill 21117\\n(39.28920000000, -76.62670000000)',\n",
       "  'St': 'MD',\n",
       "  'VendorAddr': 'NEC Baltimore & Pine Sts',\n",
       "  'VendorName': 'Ali, Fathi'},\n",
       " {'Cart_Descr': 'Pushcart',\n",
       "  'Id': '0',\n",
       "  'ItemsSold': 'Hot dogs, sausages, chips, snacks, drinks, gum',\n",
       "  'LicenseNum': 'DF000136',\n",
       "  'Location 1': 'Owings Mill 21117\\n(39.28870000000, -76.61360000000)',\n",
       "  'St': 'MD',\n",
       "  'VendorAddr': 'NEC Light & Redwood Sts',\n",
       "  'VendorName': 'Ali, Fathi'},\n",
       " {'Cart_Descr': 'grey pushcart on three wheels',\n",
       "  'Id': '0',\n",
       "  'ItemsSold': 'Large & Small beef franks, soft drinks, water, all types of nuts & chips',\n",
       "  'LicenseNum': 'DF000001',\n",
       "  'Location 1': 'Baltimore 21239\\n(39.27920000000, -76.62200000000)',\n",
       "  'St': 'MD',\n",
       "  'VendorAddr': 'On Hamburg St across from the rear end of the Ravens Stadium (Johnny Unitis Plaza). The cart is facing the back parking lots of the baseball stadium. SITE IS NOT TO BE WORKED DURING FOOTBALL GAMES.',\n",
       "  'VendorName': 'Ali, Yusuf'},\n",
       " {'Cart_Descr': 'pushcart with hot/cold running water',\n",
       "  'Id': '0',\n",
       "  'ItemsSold': 'Hot dogs, Sodas, Chips',\n",
       "  'LicenseNum': 'DF000078',\n",
       "  'Location 1': 'Baltimore 21244\\n(39.30250000000, -76.61610000000)',\n",
       "  'St': 'MD',\n",
       "  'VendorAddr': 'NWC Charles & Chase Sts',\n",
       "  'VendorName': 'Amatullah, Maidah'},\n",
       " {'Cart_Descr': 'Hot dog cart',\n",
       "  'Id': '0',\n",
       "  'ItemsSold': 'Hot dogs, Sausages, Prepackaged snacks, Sodas, Water, Juice, Coffee',\n",
       "  'LicenseNum': 'DF000068',\n",
       "  'Location 1': 'Baltimore 21206\\n(39.28760000000, -76.61350000000)',\n",
       "  'St': 'MD',\n",
       "  'VendorAddr': 'SEC Lombard & Light Sts.',\n",
       "  'VendorName': 'Amer, Mohamed'},\n",
       " {'Cart_Descr': '2 Carts on wheels, 4 tables on wheels',\n",
       "  'Id': '0',\n",
       "  'ItemsSold': 'Hot dogs, snacks, coffee and soda',\n",
       "  'LicenseNum': 'DF000002',\n",
       "  'Location 1': 'Baltimore 21236\\n(39.27520000000, -76.62030000000)',\n",
       "  'St': 'MD',\n",
       "  'VendorAddr': 'SW Ostend St & Sharp (Under the bridge)',\n",
       "  'VendorName': 'Blimline, Lisa'},\n",
       " {'Cart_Descr': 'Hot Dog Cart & Grill',\n",
       "  'Id': '0',\n",
       "  'ItemsSold': 'Hot Dogs, Burgers, Sausage, Chips, Soda, Water, Pretzels',\n",
       "  'LicenseNum': 'DF000004',\n",
       "  'Location 1': 'Baltimore 21217\\n(39.28530000000, -76.62270000000)',\n",
       "  'St': 'MD',\n",
       "  'VendorAddr': 'SWC Washington & Paca',\n",
       "  'VendorName': 'Paul & Elizabeth Carter'},\n",
       " {'Cart_Descr': 'Hot Dog Cart & Grill',\n",
       "  'Id': '0',\n",
       "  'ItemsSold': 'Hot Dogs, Burgers, Sausage, Chips, Soda, Water, Pretzels',\n",
       "  'LicenseNum': 'DF000005',\n",
       "  'Location 1': 'Baltimore 21217\\n(39.27720000000, -76.62650000000)',\n",
       "  'St': 'MD',\n",
       "  'VendorAddr': 'NEC Ostend & Ridgely on Ostend (along fence on E side of Ostend facing lot)',\n",
       "  'VendorName': 'Paul & Elizabeth Carter'},\n",
       " {'Cart_Descr': 'Pushcart & table',\n",
       "  'Id': '0',\n",
       "  'ItemsSold': 'Hot dogs, hamburgers, soda, water',\n",
       "  'LicenseNum': 'DF000007',\n",
       "  'Location 1': 'Baltimore 21205\\n(39.27710000000, -76.62690000000)',\n",
       "  'St': 'MD',\n",
       "  'VendorAddr': 'Ridgely & Ostend Sts.',\n",
       "  'VendorName': 'Ellenberger, Penny'},\n",
       " {'Cart_Descr': '3 x 4 table, 2 coolers',\n",
       "  'Id': '0',\n",
       "  'ItemsSold': 'Peanuts, Pistachios, Water & Soda',\n",
       "  'LicenseNum': 'DF000006',\n",
       "  'Location 1': 'Laurel 20723\\n(39.28420000000, -76.61890000000)',\n",
       "  'St': 'MD',\n",
       "  'VendorAddr': 'Conway & Howard St. behind Convention Ctr, on Conway',\n",
       "  'VendorName': 'Wheatley, Lisa'},\n",
       " {'Cart_Descr': 'Hot dog cart',\n",
       "  'Id': '0',\n",
       "  'ItemsSold': 'Hot dogs, sodas, peanuts & chips',\n",
       "  'LicenseNum': 'DF000010',\n",
       "  'Location 1': 'Randallstown 21133\\n(39.28530000000, -76.61900000000)',\n",
       "  'St': 'MD',\n",
       "  'VendorAddr': 'ES of Howard St near Camden St',\n",
       "  'VendorName': 'Isreal, David'},\n",
       " {'Cart_Descr': 'stainless steel hot dog cart',\n",
       "  'Id': '0',\n",
       "  'ItemsSold': 'Hot dogs, chips, sodas',\n",
       "  'LicenseNum': 'DF000012',\n",
       "  'Location 1': 'Baltimore 21224\\n(39.28860000000, -76.62360000000)',\n",
       "  'St': 'MD',\n",
       "  'VendorAddr': 'NEC Redwood/Greene',\n",
       "  'VendorName': 'Kastanakis, Theodore'},\n",
       " {'Cart_Descr': 'Stainless steel hot dog cart',\n",
       "  'Id': '0',\n",
       "  'ItemsSold': 'Hot dogs, chips & sodas',\n",
       "  'LicenseNum': 'DF000014',\n",
       "  'Location 1': 'Baltimore 21224\\n(39.28920000000, -76.62530000000)',\n",
       "  'St': 'MD',\n",
       "  'VendorAddr': 'NWC Baltimore & Arch St.',\n",
       "  'VendorName': 'Kouloumbre, Iaonnis'},\n",
       " {'Cart_Descr': 'Stainless steel hot dog cart',\n",
       "  'Id': '0',\n",
       "  'ItemsSold': 'Hot dogs, sodas, chips',\n",
       "  'LicenseNum': 'DF000019',\n",
       "  'Location 1': 'Baltimore 21224\\n(39.29050000000, -76.61400000000)',\n",
       "  'St': 'MD',\n",
       "  'VendorAddr': 'NWC of St Paul & Fayette',\n",
       "  'VendorName': 'Marangos, Toula & Filipos'},\n",
       " {'Cart_Descr': 'pushcart - metal cart & dollies',\n",
       "  'Id': '0',\n",
       "  'ItemsSold': 'bottled water, soda & gatorade',\n",
       "  'LicenseNum': 'DF000020',\n",
       "  'Location 1': 'Baltimore 21212\\n(39.28620000000, -76.61910000000)',\n",
       "  'St': 'MD',\n",
       "  'VendorAddr': 'SEC Pratt & Howard, next to the Convention Center',\n",
       "  'VendorName': 'Markiewicz, Robin'},\n",
       " {'Cart_Descr': 'stainless steel hot dog cart',\n",
       "  'Id': '0',\n",
       "  'ItemsSold': 'Hot dogs, chips, sodas & candy',\n",
       "  'LicenseNum': 'DF000022',\n",
       "  'Location 1': 'Baltimore 21237\\n(39.28730000000, -76.62500000000)',\n",
       "  'St': 'MD',\n",
       "  'VendorAddr': \"SS of Baltimore St, approx. 75' west of Green St. on the north side of the University of Md. Hospital Bldg.\",\n",
       "  'VendorName': 'Papastefanou, Stanley'},\n",
       " {'Cart_Descr': \"wagon, standard 3' x 6' table w/extensions not to exceed 6 ft. high\",\n",
       "  'Id': '0',\n",
       "  'ItemsSold': 'Hot dogs, sodas & peanuts',\n",
       "  'LicenseNum': 'DF000026',\n",
       "  'Location 1': 'Baltimore 21218\\n(39.28610000000, -76.61900000000)',\n",
       "  'St': 'MD',\n",
       "  'VendorAddr': 'Howard St @ Corner of Convention Center Pratt Sts.',\n",
       "  'VendorName': 'Rouse, Donald'},\n",
       " {'Cart_Descr': \"wagon, standard 3' x 6' table w/extensions not to exceed 6 ft. high\",\n",
       "  'Id': '0',\n",
       "  'ItemsSold': 'Hot dogs, sodas & peanuts',\n",
       "  'LicenseNum': 'DF000027',\n",
       "  'Location 1': 'Baltimore 21218\\n(39.27650000000, -76.62400000000)',\n",
       "  'St': 'MD',\n",
       "  'VendorAddr': 'Corner of 1300 Warner & Ostend St.',\n",
       "  'VendorName': 'Rouse, Donald'},\n",
       " {'Cart_Descr': 'orange pushcart w/totes & wheels for drinks table w/wheels for lemonade & snowballs',\n",
       "  'Id': '0',\n",
       "  'ItemsSold': 'nuts & confections, hot dogs,burgers,& tenders, chili,hot & cold sandwiches, chips,nachos & fries, crab/fish cakes, tacos, breakfast sandwiches & pastries, snowballs, hot & cold drinks',\n",
       "  'LicenseNum': 'DF000032',\n",
       "  'Location 1': 'Baltimore 21230\\n(39.28200000000, -76.62090000000)',\n",
       "  'St': 'MD',\n",
       "  'VendorAddr': 'NEC Lee St/400-500 block (between the two poles next to the entrance leading into Camden Yards)',\n",
       "  'VendorName': 'Shiflett, Roger'},\n",
       " {'Cart_Descr': \"Plastic cart w/wheels, 3 shelf metal pushcart white table 6' by 3', stainless steel hot dog cart\",\n",
       "  'Id': '0',\n",
       "  'ItemsSold': 'soda, water, peanuts & hot dogs',\n",
       "  'LicenseNum': 'DF000034',\n",
       "  'Location 1': 'Baltimore 21202\\n(39.28520000000, -76.62280000000)',\n",
       "  'St': 'MD',\n",
       "  'VendorAddr': 'On the island between Paca & Washington Blvd',\n",
       "  'VendorName': 'Solomon, Damon'},\n",
       " {'Cart_Descr': \"Plastic cart w/wheels, 3 shelf metal pushcart white table 6' by 3', stainless steel hot dog cart\",\n",
       "  'Id': '0',\n",
       "  'ItemsSold': 'soda, water, peanuts & hot dogs',\n",
       "  'LicenseNum': 'DF000035',\n",
       "  'Location 1': 'Baltimore 21202\\n(39.28430000000, -76.61780000000)',\n",
       "  'St': 'MD',\n",
       "  'VendorAddr': '200 W Conway & Sharp Sts behind the convention center',\n",
       "  'VendorName': 'Solomon, Damon'},\n",
       " {'Cart_Descr': 'pickup truck',\n",
       "  'Id': '0',\n",
       "  'ItemsSold': 'Produce, fruit, vegetables',\n",
       "  'LicenseNum': 'DF000036',\n",
       "  'Location 1': 'Baltimore 21201\\n(39.29130000000, -76.61200000000)',\n",
       "  'St': 'MD',\n",
       "  'VendorAddr': 'NWC Lexington & Davis',\n",
       "  'VendorName': 'Stansbury, Joseph'},\n",
       " {'Cart_Descr': \"1-6' table\",\n",
       "  'Id': '0',\n",
       "  'ItemsSold': 'Peanuts, sodas',\n",
       "  'LicenseNum': 'DF000037',\n",
       "  'Location 1': 'Baltimore 21244\\n(39.28620000000, -76.61890000000)',\n",
       "  'St': 'MD',\n",
       "  'VendorAddr': 'Eastside Howard St/South of Pratt St',\n",
       "  'VendorName': 'Reid, Gloria'},\n",
       " {'Cart_Descr': 'hot dog cart, table',\n",
       "  'Id': '0',\n",
       "  'ItemsSold': 'hot dogs, italian sausages, hamburgers, peanuts, pistachios, water & soda',\n",
       "  'LicenseNum': 'DF000039',\n",
       "  'Location 1': 'Laurel 20723\\n(39.28420000000, -76.61880000000)',\n",
       "  'St': 'MD',\n",
       "  'VendorAddr': 'Conway & Howard St behind the Convention Center',\n",
       "  'VendorName': 'Wheatley, Vinnie'},\n",
       " {'Cart_Descr': 'Handcart',\n",
       "  'Id': '0',\n",
       "  'ItemsSold': 'hot dogs, peanuts & sodas',\n",
       "  'LicenseNum': 'DF000041',\n",
       "  'Location 1': 'Owings Mill 21117\\n(39.28640000000, -76.62060000000)',\n",
       "  'St': 'MD',\n",
       "  'VendorAddr': 'NEC Eutaw & Pratt Sts.',\n",
       "  'VendorName': 'Lerman, Abraham'},\n",
       " {'Cart_Descr': 'Hot dog cart',\n",
       "  'Id': '0',\n",
       "  'ItemsSold': 'Hot dogs, sodas, peanuts, chips, water',\n",
       "  'LicenseNum': 'DF000043',\n",
       "  'Location 1': 'Baltimore 21217\\n(39.28000000000, -76.62410000000)',\n",
       "  'St': 'MD',\n",
       "  'VendorAddr': 'Hamburg & Russell',\n",
       "  'VendorName': 'Bamba, Youssouf'},\n",
       " {'Cart_Descr': 'Pushcart',\n",
       "  'Id': '0',\n",
       "  'ItemsSold': 'Beef hot dogs, chicken kabobs, soda, chips',\n",
       "  'LicenseNum': 'DF000046',\n",
       "  'Location 1': 'Baltimore 21224\\n(39.28950000000, -76.61530000000)',\n",
       "  'St': 'MD',\n",
       "  'VendorAddr': 'SWC Charles & Baltimore on Baltimore',\n",
       "  'VendorName': 'Mazouz, Abdelkarim & Argoum, Mohamed'},\n",
       " {'Cart_Descr': '3x6 brown table',\n",
       "  'Id': '0',\n",
       "  'ItemsSold': 'Soda, water,peanuts, sunflower seeds',\n",
       "  'LicenseNum': 'DF000047',\n",
       "  'Location 1': 'Glen Burnie 21060\\n(39.28430000000, -76.61890000000)',\n",
       "  'St': 'MD',\n",
       "  'VendorAddr': 'NEC Howard & Conway',\n",
       "  'VendorName': 'Hynson, Jr., Raymond C.'},\n",
       " {'Cart_Descr': 'pushcart',\n",
       "  'Id': '0',\n",
       "  'ItemsSold': 'kebab (lamb & Chicken) over rice or sandwich,',\n",
       "  'LicenseNum': 'DF000049',\n",
       "  'Location 1': 'Baltimore 21218\\n(39.28700000000, -76.61760000000)',\n",
       "  'St': 'MD',\n",
       "  'VendorAddr': 'Hopkins Place',\n",
       "  'VendorName': 'Djelassi, Chaouki'},\n",
       " {'Cart_Descr': 'stainless steel hot dog cart',\n",
       "  'Id': '0',\n",
       "  'ItemsSold': 'Hot Dogs, Pre-Packaged Snacks, Pre-Packaged Soft Drinks',\n",
       "  'LicenseNum': 'DF000052',\n",
       "  'Location 1': 'Middle River 21220\\n(39.28870000000, -76.61520000000)',\n",
       "  'St': 'MD',\n",
       "  'VendorAddr': 'SWC Charles/Redwood',\n",
       "  'VendorName': 'K&B Enterprises'},\n",
       " {'Cart_Descr': 'Stainless Steel Hot Dog Cart',\n",
       "  'Id': '0',\n",
       "  'ItemsSold': 'Gyros, Hot Dogs, Souvlaki & soda',\n",
       "  'LicenseNum': 'DF000055',\n",
       "  'Location 1': 'Baltimore 21224\\n(39.28730000000, -76.62370000000)',\n",
       "  'St': 'MD',\n",
       "  'VendorAddr': 'SWC Greene & Lombard',\n",
       "  'VendorName': 'Giorgakis, Kalliopi'},\n",
       " {'Cart_Descr': 'Pushcart',\n",
       "  'Id': '0',\n",
       "  'ItemsSold': 'Hot dogs, Burgers',\n",
       "  'LicenseNum': 'DF000060',\n",
       "  'Location 1': 'Baltimore 21216\\n(39.29140000000, -76.60890000000)',\n",
       "  'St': 'MD',\n",
       "  'VendorAddr': 'NEC Lexington & Gay',\n",
       "  'VendorName': 'Omar, Khalid'},\n",
       " {'Cart_Descr': '2x4 food warmer, grill, food holder, 2 8x8 tables, 10x10 tent',\n",
       "  'Id': '0',\n",
       "  'ItemsSold': 'Snowballs, \"Pickles Pub\" Game Day Menu',\n",
       "  'LicenseNum': 'DF000063',\n",
       "  'Location 1': 'Baltimore 21230\\n(39.28510000000, -76.62300000000)',\n",
       "  'St': 'MD',\n",
       "  'VendorAddr': 'Island between 500 block Washington Blvd.& Russell Street',\n",
       "  'VendorName': 'Cotton, Eric'},\n",
       " {'Cart_Descr': 'trailer/hot dog cart',\n",
       "  'Id': '0',\n",
       "  'ItemsSold': 'Hot dogs, sandwiches, pretzels, chips, soda, desserts, water, jucie',\n",
       "  'LicenseNum': 'DF000065',\n",
       "  'Location 1': 'Baltimore 21201\\n(39.28960000000, -76.61760000000)',\n",
       "  'St': 'MD',\n",
       "  'VendorAddr': 'Southside of Baltimore St @ SEC Hanover (near subway entrance) Due to construction in Hopkins Plaza this location is: Temporarily relocated to the NS Baltimore St, extending from the NEC Baltimore & Liberty',\n",
       "  'VendorName': 'Quint, Brad (The Beef Brothers)'},\n",
       " {'Cart_Descr': 'Pushcart',\n",
       "  'Id': '0',\n",
       "  'ItemsSold': 'Hot Dogs, Jumbo Hot Dogs, Polish Sausage, Bottled Beverages',\n",
       "  'LicenseNum': 'DF000066',\n",
       "  'Location 1': 'Reisterstown 21136\\n(39.28500000000, -76.62310000000)',\n",
       "  'St': 'MD',\n",
       "  'VendorAddr': 'On the \"island\" bet. Washington Blvd & Russell St., directly across from \"Pickles Pub\"',\n",
       "  'VendorName': 'Kohlhepp, III, Mrs William'},\n",
       " {'Cart_Descr': 'Hot Dog Cart',\n",
       "  'Id': '0',\n",
       "  'ItemsSold': 'Hot Dogs, Jumbo Hot Dogs, Polish Hot Dogs, Chips, Drinks',\n",
       "  'LicenseNum': 'DF000067',\n",
       "  'Location 1': 'Reisterstown 21136\\n(39.28430000000, -76.61790000000)',\n",
       "  'St': 'MD',\n",
       "  'VendorAddr': 'NWC of Conway & Sharp behind Convention Ctr',\n",
       "  'VendorName': 'Brewer, Donald Thomas'},\n",
       " {'Cart_Descr': 'Table',\n",
       "  'Id': '0',\n",
       "  'ItemsSold': 'Hot dogs, soda, nachos, pretzels, Italian sausage',\n",
       "  'LicenseNum': 'DF000070',\n",
       "  'Location 1': 'Baltimore 21223\\n(39.27720000000, -76.62680000000)',\n",
       "  'St': 'MD',\n",
       "  'VendorAddr': 'NWC Ostend @ Ridgely to be on Ostend',\n",
       "  'VendorName': 'Dunlap, Patricia'},\n",
       " {'Cart_Descr': 'pushcart',\n",
       "  'Id': '0',\n",
       "  'ItemsSold': 'gyro over rice, chicken over rice,gyro on pita,',\n",
       "  'LicenseNum': 'DF000076',\n",
       "  'Location 1': 'Baltimore 21218\\n(39.29110000000, -76.61390000000)',\n",
       "  'St': 'MD',\n",
       "  'VendorAddr': 'SEC of St. Paul St @ Lexington',\n",
       "  'VendorName': 'Djelassi, Chaouki'},\n",
       " {'Cart_Descr': 'ONE Table',\n",
       "  'Id': '0',\n",
       "  'ItemsSold': 'Snacks, Drinks, cotton candy, hot dogs',\n",
       "  'LicenseNum': 'DF000077',\n",
       "  'Location 1': 'Baltimore 21236\\n(39.28190000000, -76.62030000000)',\n",
       "  'St': 'MD',\n",
       "  'VendorAddr': 'NWC Lee/Eutaw',\n",
       "  'VendorName': 'Blimline, Lisa'},\n",
       " {'Cart_Descr': 'ONE Table',\n",
       "  'Id': '0',\n",
       "  'ItemsSold': 'Snacks, Drinks, cotton candy, hot dogs',\n",
       "  'LicenseNum': 'DF000077',\n",
       "  'Location 1': 'Baltimore 21236\\n(39.28500000000, -76.62320000000)',\n",
       "  'St': 'MD',\n",
       "  'VendorAddr': 'NWC Lee/Eutaw',\n",
       "  'VendorName': 'Blimline, Lisa'},\n",
       " {'Cart_Descr': 'pushcart & table',\n",
       "  'Id': '0',\n",
       "  'ItemsSold': 'Hot dogs, peanuts, sodas, water, chips, snacks',\n",
       "  'LicenseNum': 'DF000090',\n",
       "  'Location 1': 'Baltimore 21218\\n(39.28550000000, -76.62230000000)',\n",
       "  'St': 'MD',\n",
       "  'VendorAddr': 'W. Camden St & Paca St',\n",
       "  'VendorName': 'Rouse, Nicole'},\n",
       " {'Cart_Descr': 'Table & cooler',\n",
       "  'Id': '0',\n",
       "  'ItemsSold': 'Peanuts, Soda, Water, Pistachios',\n",
       "  'LicenseNum': 'DF000092',\n",
       "  'Location 1': 'Baltimore 21206\\n(39.28430000000, -76.61810000000)',\n",
       "  'St': 'MD',\n",
       "  'VendorAddr': \"20' from the Corner of Conway & Sharp on the Convention Ctr. Side\",\n",
       "  'VendorName': 'Lee, Gary'},\n",
       " {'Cart_Descr': 'Pushcart',\n",
       "  'Id': '0',\n",
       "  'ItemsSold': 'Mediterranean Rice w/meat, Mediterranean Wrap Sandwiches, Chips, Soda',\n",
       "  'LicenseNum': 'DF000094',\n",
       "  'Location 1': 'Windsor Mill 21244\\n(39.29030000000, -76.61090000000)',\n",
       "  'St': 'MD',\n",
       "  'VendorAddr': 'SE Guilford Ave @ the intersection with E Fayette St to be on Fayette',\n",
       "  'VendorName': 'Azzouni, Jaafer'},\n",
       " {'Cart_Descr': 'Pushcart',\n",
       "  'Id': '0',\n",
       "  'ItemsSold': 'Burgers, hot dogs, chawrma, falafel, deli sandwiches, Beverage, coffee',\n",
       "  'LicenseNum': 'DF000118',\n",
       "  'Location 1': 'Baltimore 21213\\n(39.28780000000, -76.61760000000)',\n",
       "  'St': 'MD',\n",
       "  'VendorAddr': 'NEC Hopkins Pl & Lombard to be on North Hopkins Pl.',\n",
       "  'VendorName': 'Mazouz, Abdelkarim'},\n",
       " {'Cart_Descr': 'Pushcart & table',\n",
       "  'Id': '0',\n",
       "  'ItemsSold': 'Hot dogs, sausage & meatballs, soda, juice,water, chips, candy, cookies, fresh fruit',\n",
       "  'LicenseNum': 'DF000124',\n",
       "  'Location 1': 'Baltimore 21206\\n(39.29110000000, -76.61260000000)',\n",
       "  'St': 'MD',\n",
       "  'VendorAddr': 'Calvert & Lexington/Courthouse westside',\n",
       "  'VendorName': 'Stallings, Sha-nel'},\n",
       " {'Cart_Descr': 'pushcart',\n",
       "  'Id': '0',\n",
       "  'ItemsSold': 'Chicken or lamb over rice, wraps & sandwiches, Hot dogs, breakfast, chips, soda',\n",
       "  'LicenseNum': 'DF000127',\n",
       "  'Location 1': 'Windsor Mill 21244\\n(39.28820000000, -76.60700000000)',\n",
       "  'St': 'MD',\n",
       "  'VendorAddr': 'NWC Market Pl & Lombard, to be on Market, mid-block MUST CLOSE BY 8:00 PM\\xc3\\xa0HOURS OF OPERATION 7:00AM-8:00PM',\n",
       "  'VendorName': 'Azzouni, Jaafer'},\n",
       " {'Cart_Descr': '2 coolers, pushcart',\n",
       "  'Id': '0',\n",
       "  'ItemsSold': 'Assorted nuts, soda, water, Gatorade, cooked food',\n",
       "  'LicenseNum': 'DF000132',\n",
       "  'Location 1': 'Baltimore 21212\\n(39.28540000000, -76.61900000000)',\n",
       "  'St': 'MD',\n",
       "  'VendorAddr': 'NS corner Howard & Camden (in middle of block)',\n",
       "  'VendorName': 'Roberts, Melvin'},\n",
       " {'Cart_Descr': 'pushcart',\n",
       "  'Id': '0',\n",
       "  'ItemsSold': 'Grilled hot dogs, burgers, chicken sandwiches, chicken & pork souvlaki, grilled cheese, nachos & cheese, lamb, chops & sandwiches, soda, juice, snacks',\n",
       "  'LicenseNum': 'DF000135',\n",
       "  'Location 1': 'Baltimore 21221\\n(39.29250000000, -76.61260000000)',\n",
       "  'St': 'MD',\n",
       "  'VendorAddr': 'NWC Calvert & Saratoga',\n",
       "  'VendorName': 'Diakgeorgiou, Euthoxia t/a \"Georgey Dee\\'s Food Cart\"'},\n",
       " {'Cart_Descr': 'Pushcart',\n",
       "  'Id': '0',\n",
       "  'ItemsSold': 'Hot dogs, chips, candy, bottled water, canned sodas',\n",
       "  'LicenseNum': 'DF000153',\n",
       "  'Location 1': 'Baltimore 21239\\n(39.29140000000, -76.61040000000)',\n",
       "  'St': 'MD',\n",
       "  'VendorAddr': 'NWC Holliday & lexington Sts.',\n",
       "  'VendorName': 'Winfield, Brian   \"Hollywood Dogs\"'},\n",
       " {'Cart_Descr': 'Hotdog Cart',\n",
       "  'Id': '0',\n",
       "  'ItemsSold': 'Hot Dogs, Sodas, Waters, Chips',\n",
       "  'LicenseNum': 'DF000174',\n",
       "  'Location 1': 'Pikesville 21208\\n(39.28880000000, -76.60810000000)',\n",
       "  'St': 'MD',\n",
       "  'VendorAddr': 'NWC Water St & S Frederick St',\n",
       "  'VendorName': 'Holmes, Robin'},\n",
       " {'Cart_Descr': 'table',\n",
       "  'Id': '0',\n",
       "  'ItemsSold': 'water, drinks and peanuts',\n",
       "  'LicenseNum': 'DF000190',\n",
       "  'Location 1': 'Baltimore 21218\\n(39.27930000000, -76.62250000000)',\n",
       "  'St': 'MD',\n",
       "  'VendorAddr': 'on Hamburg St between the Stadiums, during baseball  season only',\n",
       "  'VendorName': 'Rouse, Donald'},\n",
       " {'Cart_Descr': 'one table 6x3',\n",
       "  'Id': '0',\n",
       "  'ItemsSold': 'Water, peanuts, hot dogs',\n",
       "  'LicenseNum': 'OF000001',\n",
       "  'Location 1': 'Baltimore 21224\\n(39.27800000000, -76.62620000000)',\n",
       "  'St': 'MD',\n",
       "  'VendorAddr': 'SE 700 West St',\n",
       "  'VendorName': 'Strunk, Kum Cha'},\n",
       " {'Cart_Descr': 'one table 6x3',\n",
       "  'Id': '0',\n",
       "  'ItemsSold': 'Water & peanuts',\n",
       "  'LicenseNum': 'OF000002',\n",
       "  'Location 1': 'Baltimore 21224\\n(39.28560000000, -76.62230000000)',\n",
       "  'St': 'MD',\n",
       "  'VendorAddr': 'NW W Camden, Washington & Paca',\n",
       "  'VendorName': 'Strunk, Kum Cha'},\n",
       " {'Cart_Descr': 'pushcart',\n",
       "  'Id': '0',\n",
       "  'ItemsSold': 'Hot dogs, burgers, subs, soda, chips, water, candy, Chicken',\n",
       "  'LicenseNum': 'OF000008',\n",
       "  'Location 1': 'Edgewood 21040\\n(39.29850000000, -76.62110000000)',\n",
       "  'St': 'MD',\n",
       "  'VendorAddr': '800 Blk. Linden & Madison',\n",
       "  'VendorName': 'Johnson, Antoine'},\n",
       " {'Cart_Descr': 'Mobile Cart Unit',\n",
       "  'Id': '0',\n",
       "  'ItemsSold': 'Mexican Food, Sodas, Water, Coffee,Chips',\n",
       "  'LicenseNum': 'OF000014',\n",
       "  'Location 1': 'Baltimore 21227\\n(39.20270000000, -76.55870000000)',\n",
       "  'St': 'MD',\n",
       "  'VendorAddr': '2803 Hawkins Point RD',\n",
       "  'VendorName': 'Saldana, Maria Teresa Luna'},\n",
       " {'Cart_Descr': \"6' table & cooler\",\n",
       "  'Id': '0',\n",
       "  'ItemsSold': 'Water, Soda',\n",
       "  'LicenseNum': 'OF000015',\n",
       "  'Location 1': 'Baltimore 21230\\n(39.28910000000, -76.62820000000)',\n",
       "  'St': 'MD',\n",
       "  'VendorAddr': 'NWC MLK Blvd & W Baltimore',\n",
       "  'VendorName': 'Canty, Albert'},\n",
       " {'Cart_Descr': 'Pushcart',\n",
       "  'Id': '0',\n",
       "  'ItemsSold': 'Hot dogs, Chips, Soda',\n",
       "  'LicenseNum': 'OF000016',\n",
       "  'Location 1': 'Baltimore 21221\\n(39.32840000000, -76.61360000000)',\n",
       "  'St': 'MD',\n",
       "  'VendorAddr': '33rd & Calvert Sts.',\n",
       "  'VendorName': 'Hummel, Gary'},\n",
       " {'Cart_Descr': 'Pushcart',\n",
       "  'Id': '0',\n",
       "  'ItemsSold': 'Gyro Sandwiches, Hot Dogs, Chips, Sodas',\n",
       "  'LicenseNum': 'OF000019',\n",
       "  'Location 1': 'Baltimore 21237\\n(39.29860000000, -76.59100000000)',\n",
       "  'St': 'MD',\n",
       "  'VendorAddr': 'NEC Wolfe & Monument',\n",
       "  'VendorName': 'Polychronis, Aristides'},\n",
       " {'Cart_Descr': 'Stainless steel hot dog cart',\n",
       "  'Id': '0',\n",
       "  'ItemsSold': 'Hot dogs, Chips, Sodas,Cookies, Snowballs, Juice',\n",
       "  'LicenseNum': 'OF000020',\n",
       "  'Location 1': 'Baltimore 21213\\n(39.29850000000, -76.59210000000)',\n",
       "  'St': 'MD',\n",
       "  'VendorAddr': 'NEC Rutland & Monument',\n",
       "  'VendorName': 'Jarava, Edgar & Gustavo'},\n",
       " {'Cart_Descr': 'Stainless steel hot dog cart',\n",
       "  'Id': '0',\n",
       "  'ItemsSold': 'Hot dogs, Chips, Sodas, Cookies, Snowballs, Juice',\n",
       "  'LicenseNum': 'OF000021',\n",
       "  'Location 1': 'Baltimore 21213\\n(39.29640000000, -76.59390000000)',\n",
       "  'St': 'MD',\n",
       "  'VendorAddr': 'NEC Broadway & Jefferson St.',\n",
       "  'VendorName': 'Jarava, Edgar & Gustavo'},\n",
       " {'Cart_Descr': 'Stainless steel hot dog cart',\n",
       "  'Id': '0',\n",
       "  'ItemsSold': 'Hot dogs, Chips, Sodas, Cookies, Snowballs, Juice',\n",
       "  'LicenseNum': 'OF000022',\n",
       "  'Location 1': 'Baltimore 21213\\n(39.29730000000, -76.59070000000)',\n",
       "  'St': 'MD',\n",
       "  'VendorAddr': 'SEC Wolfe & McElderry Sts.',\n",
       "  'VendorName': 'Jarava, Edgar & Gustava'},\n",
       " {'Cart_Descr': 'Hot dog cart',\n",
       "  'Id': '0',\n",
       "  'ItemsSold': 'Hot Dogs, Soda, Chips',\n",
       "  'LicenseNum': 'OF000023',\n",
       "  'Location 1': 'Baltimore 21221\\n(39.32520000000, -76.62200000000)',\n",
       "  'St': 'MD',\n",
       "  'VendorAddr': '3100 Wyman Park Drive',\n",
       "  'VendorName': 'Hummel, Gary'},\n",
       " {'Cart_Descr': 'Pushcart',\n",
       "  'Id': '0',\n",
       "  'ItemsSold': 'Hot Dogs, Polish, Potato Chips, Soda, Juice, Cookies and Candy',\n",
       "  'LicenseNum': 'OF000025',\n",
       "  'Location 1': 'Baltimore 21213\\n(39.29850000000, -76.59190000000)',\n",
       "  'St': 'MD',\n",
       "  'VendorAddr': '1800 Blk. of Monument St.',\n",
       "  'VendorName': 'McCoy, Patrice'},\n",
       " {'Cart_Descr': 'Pushcart',\n",
       "  'Id': '0',\n",
       "  'ItemsSold': 'Hot dogs, hamburgers, chips, soda',\n",
       "  'LicenseNum': 'OF000040',\n",
       "  'Location 1': 'Pasadena 21122\\n(39.28890000000, -76.63260000000)',\n",
       "  'St': 'MD',\n",
       "  'VendorAddr': '900 Blk. W. Baltimore St, NS of street, middle of blk',\n",
       "  'VendorName': 'Barr, Nomiki'},\n",
       " {'Cart_Descr': 'Handcart',\n",
       "  'Id': '0',\n",
       "  'ItemsSold': 'Hot & Cold Beverages, Packaged Snacks, &',\n",
       "  'LicenseNum': 'OF000043',\n",
       "  'Location 1': 'Towson 21204\\n(39.30720000000, -76.61480000000)',\n",
       "  'St': 'MD',\n",
       "  'VendorAddr': 'West Side of the 1600 Block St Paul Street',\n",
       "  'VendorName': 'Gilliam, Gwendolyn'},\n",
       " {'Cart_Descr': 'Pushcart',\n",
       "  'Id': '0',\n",
       "  'ItemsSold': 'Hot dogs, chicken, lamb, rice, gyros, chips, soda, water',\n",
       "  'LicenseNum': 'OF000046',\n",
       "  'Location 1': 'Baltimore 21211\\n(39.30650000000, -76.61770000000)',\n",
       "  'St': 'MD',\n",
       "  'VendorAddr': 'SWC Maryland & Oliver',\n",
       "  'VendorName': 'Elmonir, Elsayed M.'},\n",
       " {'Cart_Descr': 'hot dog cart',\n",
       "  'Id': '0',\n",
       "  'ItemsSold': 'hot dogs, chili & cheese, popcorn, coffee, tea, hot chocolate, sodas, chips, candy, sodas,',\n",
       "  'LicenseNum': 'OF000049',\n",
       "  'Location 1': 'Baltimore 21201\\n(39.28560000000, -76.63670000000)',\n",
       "  'St': 'MD',\n",
       "  'VendorAddr': 'SWC Pratt & Carrollton',\n",
       "  'VendorName': 'Lewis, Cynthia'},\n",
       " {'Cart_Descr': '2 1/2\" x 3 1/2\" Compact pushcart',\n",
       "  'Id': '0',\n",
       "  'ItemsSold': 'Hot Dogs, Drinks, Snacks, Sausages',\n",
       "  'LicenseNum': 'OF000050',\n",
       "  'Location 1': 'Laurel 20707\\n(39.29330000000, -76.60780000000)',\n",
       "  'St': 'MD',\n",
       "  'VendorAddr': 'NEC Gay & Front',\n",
       "  'VendorName': 'Parrott, Aaron'},\n",
       " {'Cart_Descr': \"6' x 3' table\",\n",
       "  'Id': '0',\n",
       "  'ItemsSold': 'Mango, pineapple, strawberry, melon, cane, avocado, watermelon, coconut',\n",
       "  'LicenseNum': 'OF000051',\n",
       "  'Location 1': 'Rosedale 21237\\n(39.29980000000, -76.56500000000)',\n",
       "  'St': 'MD',\n",
       "  'VendorAddr': '3900 Block of E Monument, north side of street',\n",
       "  'VendorName': 'Vasquez, Emenegildo \" Vasquez Fresh Fruit\"'},\n",
       " {'Cart_Descr': 'pushcart',\n",
       "  'Id': '0',\n",
       "  'ItemsSold': 'hot dogs, chips, cookies, candy, packaged goods, sodas, bottled water',\n",
       "  'LicenseNum': 'OF000053',\n",
       "  'Location 1': 'Baltimore 21215\\n(39.35320000000, -76.66470000000)',\n",
       "  'St': 'MD',\n",
       "  'VendorAddr': 'Belvedere & Lanier',\n",
       "  'VendorName': 'Johns, Farley'},\n",
       " {'Cart_Descr': 'hot dog cart',\n",
       "  'Id': '0',\n",
       "  'ItemsSold': 'Hot dogs, Polish sausage, sodas, chips, juices, candy',\n",
       "  'LicenseNum': 'OF000054',\n",
       "  'Location 1': 'Baltimore 21224\\n(39.28470000000, -76.59320000000)',\n",
       "  'St': 'MD',\n",
       "  'VendorAddr': 'NS Fleet, NEC Broadway',\n",
       "  'VendorName': 'Guzman, Irma  \"Irma\\'s Best Hot Dogs\"'},\n",
       " {'Cart_Descr': 'Pushcart',\n",
       "  'Id': '0',\n",
       "  'ItemsSold': 'Mediterranean wraps & sandwiches, chicken or beef, over rice, Beverages (water, soda, coffee), chips',\n",
       "  'LicenseNum': 'OF000055',\n",
       "  'Location 1': 'Windsor Mill 21244\\n(39.33050000000, -76.61490000000)',\n",
       "  'St': 'MD',\n",
       "  'VendorAddr': '3500 Blk of N Calvert @ corner of University Pkwy, to be on Calvert',\n",
       "  'VendorName': 'Azzouni, Jaafer'},\n",
       " {'Cart_Descr': 'pushcart',\n",
       "  'Id': '0',\n",
       "  'ItemsSold': 'Hot dogs, chips, cookies, soda, water, juice, donuts, bagels, candy',\n",
       "  'LicenseNum': 'OF000056',\n",
       "  'Location 1': 'Baltimore 21229\\n(39.25990000000, -76.66540000000)',\n",
       "  'St': 'MD',\n",
       "  'VendorAddr': 'SWC of Joh & Caton Ave',\n",
       "  'VendorName': 'Bethea, Anthony \"Biggs Food Cart\"'},\n",
       " {'Cart_Descr': 'Hot Dog Cart & 1 cooler on wheels',\n",
       "  'Id': '0',\n",
       "  'ItemsSold': 'Hot Dogs, Snacks, Soda & Water, Candy',\n",
       "  'LicenseNum': 'OF000060',\n",
       "  'Location 1': 'Baltimore 21229\\n(39.31110000000, -76.60970000000)',\n",
       "  'St': 'MD',\n",
       "  'VendorAddr': 'SWC Greenmount & North Ave, to be on North Ave  away from Rite Aid wall',\n",
       "  'VendorName': 'Brown, April'},\n",
       " {'Cart_Descr': 'Pushcart, Cooler on wheels',\n",
       "  'Id': '0',\n",
       "  'ItemsSold': 'Hot Dogs, Hamburgers, Chips, Candy, Gum, Soda, Juice',\n",
       "  'LicenseNum': 'OF000061',\n",
       "  'Location 1': 'Pikesville 21208\\n(39.31440000000, -76.67700000000)',\n",
       "  'St': 'MD',\n",
       "  'VendorAddr': '2300 Garrison Blvd, NWC, at the Garwyn Medical Center',\n",
       "  'VendorName': 'Arlene Gordon'}]"
      ]
     },
     "execution_count": 51,
     "metadata": {},
     "output_type": "execute_result"
    }
   ],
   "source": [
    "import csv\n",
    "\n",
    "fcsv = open('Food_Vendor_Locations.csv','r')\n",
    "csvreader = csv.DictReader(fcsv)\n",
    "\n",
    "vendors = []\n",
    "for row in csvreader:\n",
    "    vendors.append(row)\n",
    "fcsv.close()\n",
    "\n",
    "vendors"
   ]
  },
  {
   "cell_type": "markdown",
   "metadata": {},
   "source": [
    "Read about [dialects](https://docs.python.org/2/library/csv.html#dialects-and-formatting-parameters) and [deducing the format of a CSV format](https://docs.python.org/2/library/csv.html#csv.Sniffer)."
   ]
  }
 ],
 "metadata": {
  "kernelspec": {
   "display_name": "Python 2",
   "language": "python",
   "name": "python2"
  },
  "language_info": {
   "codemirror_mode": {
    "name": "ipython",
    "version": 2
   },
   "file_extension": ".py",
   "mimetype": "text/x-python",
   "name": "python",
   "nbconvert_exporter": "python",
   "pygments_lexer": "ipython2",
   "version": "2.7.13"
  }
 },
 "nbformat": 4,
 "nbformat_minor": 2
}

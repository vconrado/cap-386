{
 "cells": [
  {
   "cell_type": "markdown",
   "metadata": {},
   "source": [
    "\n",
    "# Expressões regulares\n",
    "\n",
    "O Python disponibiliza o módulo **re** para a utilização de expressões regulares.\n",
    "\n",
    "Fontes: https://docs.python.org/2/library/re.html, http://wiki.portugal-a-programar.pt/dev_geral:python:regex"
   ]
  },
  {
   "cell_type": "markdown",
   "metadata": {},
   "source": [
    "Verificando se uma string existe em outra:"
   ]
  },
  {
   "cell_type": "code",
   "execution_count": 190,
   "metadata": {},
   "outputs": [
    {
     "name": "stdout",
     "output_type": "stream",
     "text": [
      "Achou\n"
     ]
    }
   ],
   "source": [
    "import re\n",
    " \n",
    "name = 'Edgar Allan Poe'\n",
    "if re.search(r'Allan', name):\n",
    "    print 'Achou'"
   ]
  },
  {
   "cell_type": "markdown",
   "metadata": {},
   "source": [
    "Recomenda-se o uso do **compile** quando o padrão for usado várias vezes:"
   ]
  },
  {
   "cell_type": "code",
   "execution_count": 191,
   "metadata": {},
   "outputs": [
    {
     "name": "stdout",
     "output_type": "stream",
     "text": [
      "Achou em Edgar Allan Poe\n",
      "Achou em Allan Quatermain\n"
     ]
    }
   ],
   "source": [
    "import re\n",
    "\n",
    "pattern = re.compile(r'Allan')\n",
    "names = (\"Edgar Allan Poe\",\"Edgar Rice Burroughs\",\"Alanis Morissette\",\"Allan Quatermain\")\n",
    "\n",
    "for name in names:\n",
    "    if re.search(pattern, name):\n",
    "        print('Achou em {}'.format(name))"
   ]
  },
  {
   "cell_type": "code",
   "execution_count": 192,
   "metadata": {},
   "outputs": [],
   "source": [
    "if re.search(\"^Allan\", 'Edgar Poe'):\n",
    "    print 'Achou'"
   ]
  },
  {
   "cell_type": "markdown",
   "metadata": {},
   "source": [
    "## Caracteres especiais\n",
    "\n",
    "( ) [ ] ^ \\$ .  + ? \\{ \\} | "
   ]
  },
  {
   "cell_type": "markdown",
   "metadata": {},
   "source": [
    "O padrão que for buscando vir re.search() usando **( )** é armazenado no objeto match e pode ser obtido:"
   ]
  },
  {
   "cell_type": "code",
   "execution_count": 193,
   "metadata": {},
   "outputs": [
    {
     "data": {
      "text/plain": [
       "('Allan',)"
      ]
     },
     "execution_count": 193,
     "metadata": {},
     "output_type": "execute_result"
    }
   ],
   "source": [
    "pattern = re.compile(\"(Allan)\")\n",
    "name = 'Edgar Allan Poe'\n",
    "groups = re.search(pattern, name).groups()\n",
    "groups"
   ]
  },
  {
   "cell_type": "markdown",
   "metadata": {},
   "source": [
    "Os **[ ]** servem para indicar alternativas. Por exemplo [xyz] procura por **a** ou **b** ou **c**"
   ]
  },
  {
   "cell_type": "code",
   "execution_count": 194,
   "metadata": {},
   "outputs": [
    {
     "name": "stdout",
     "output_type": "stream",
     "text": [
      "Não achou\n"
     ]
    }
   ],
   "source": [
    "pattern = re.compile(\"[xyz]\")\n",
    "if re.search(pattern, 'Edgar Allan Poe'):\n",
    "    print 'Achou',\n",
    "else:\n",
    "    print 'Não achou'"
   ]
  },
  {
   "cell_type": "code",
   "execution_count": 195,
   "metadata": {},
   "outputs": [
    {
     "name": "stdout",
     "output_type": "stream",
     "text": [
      "Achou\n"
     ]
    }
   ],
   "source": [
    "pattern = re.compile(\"[abc]\")\n",
    "if re.search(pattern, 'Edgar Allan Poe'):\n",
    "    print 'Achou',\n",
    "else:\n",
    "    print 'Não achou'"
   ]
  },
  {
   "cell_type": "markdown",
   "metadata": {},
   "source": [
    "### Juntando os dois **( )** com **[ ]**"
   ]
  },
  {
   "cell_type": "code",
   "execution_count": 196,
   "metadata": {},
   "outputs": [
    {
     "data": {
      "text/plain": [
       "('a',)"
      ]
     },
     "execution_count": 196,
     "metadata": {},
     "output_type": "execute_result"
    }
   ],
   "source": [
    "pattern = re.compile(\"([abc])\")\n",
    "groups = re.search(pattern, 'Edgar Allan Poe').groups()\n",
    "groups"
   ]
  },
  {
   "cell_type": "markdown",
   "metadata": {},
   "source": [
    "Desta forma o re.search trás somente o primeiro **a** que encontrar. Para buscar todos, podemos usar o **re.findall()**. \n",
    "PS: ele ja retorna os grupos."
   ]
  },
  {
   "cell_type": "code",
   "execution_count": 197,
   "metadata": {},
   "outputs": [
    {
     "data": {
      "text/plain": [
       "['a', 'a']"
      ]
     },
     "execution_count": 197,
     "metadata": {},
     "output_type": "execute_result"
    }
   ],
   "source": [
    "pattern = re.compile(\"([abc])\")\n",
    "re.findall(pattern, 'Edgar Allan Poe')"
   ]
  },
  {
   "cell_type": "markdown",
   "metadata": {},
   "source": [
    "### Caracteres especiais dentro do **[ ]**"
   ]
  },
  {
   "cell_type": "code",
   "execution_count": 198,
   "metadata": {},
   "outputs": [
    {
     "data": {
      "text/plain": [
       "['d', 'a', 'a']"
      ]
     },
     "execution_count": 198,
     "metadata": {},
     "output_type": "execute_result"
    }
   ],
   "source": [
    "pattern = re.compile(\"([a-d])\")\n",
    "re.findall(pattern, 'Edgar Allan Poe')"
   ]
  },
  {
   "cell_type": "code",
   "execution_count": 199,
   "metadata": {},
   "outputs": [
    {
     "data": {
      "text/plain": [
       "['E', 'g', 'r', ' ', 'A', 'l', 'l', 'n', ' ', 'P', 'o', 'e']"
      ]
     },
     "execution_count": 199,
     "metadata": {},
     "output_type": "execute_result"
    }
   ],
   "source": [
    "pattern = re.compile(\"([^abcd])\")\n",
    "re.findall(pattern, 'Edgar Allan Poe')"
   ]
  },
  {
   "cell_type": "markdown",
   "metadata": {},
   "source": [
    "Fora do **[ ]** os caracteres **^**e **$** tem outro significado.\n",
    "**^** indica o início da string e **\\$** indica o final."
   ]
  },
  {
   "cell_type": "code",
   "execution_count": 200,
   "metadata": {},
   "outputs": [
    {
     "data": {
      "text/plain": [
       "<_sre.SRE_Match at 0x7f38b0213648>"
      ]
     },
     "execution_count": 200,
     "metadata": {},
     "output_type": "execute_result"
    }
   ],
   "source": [
    "pattern = re.compile(\"^Edgar\")\n",
    "re.search(pattern, 'Edgar Allan Poe')"
   ]
  },
  {
   "cell_type": "code",
   "execution_count": 201,
   "metadata": {
    "collapsed": true
   },
   "outputs": [],
   "source": [
    "pattern = re.compile(\"Allan$\")\n",
    "re.search(pattern, 'Edgar Allan Poe')"
   ]
  },
  {
   "cell_type": "markdown",
   "metadata": {},
   "source": [
    "O carácter **.** (ponto) representa qualquer caracter, exceto o \\n."
   ]
  },
  {
   "cell_type": "code",
   "execution_count": 202,
   "metadata": {},
   "outputs": [
    {
     "data": {
      "text/plain": [
       "['E', 'd', 'g', 'a', 'r', ' ', 'A', 'l', 'l', 'a', 'n', ' ', 'P', 'o', 'e']"
      ]
     },
     "execution_count": 202,
     "metadata": {},
     "output_type": "execute_result"
    }
   ],
   "source": [
    "pattern = re.compile(\".\")\n",
    "re.findall(pattern, 'Edgar Allan Poe')"
   ]
  },
  {
   "cell_type": "markdown",
   "metadata": {},
   "source": [
    "### Procurando caracteres repetidos\n",
    "\n",
    "Os caracteres para as repetições são **\\***, **+**, **?** e **{ }**."
   ]
  },
  {
   "cell_type": "markdown",
   "metadata": {},
   "source": [
    "O **\\*** representa \"procure por 0 ou mais repetições\"."
   ]
  },
  {
   "cell_type": "code",
   "execution_count": 203,
   "metadata": {},
   "outputs": [
    {
     "data": {
      "text/plain": [
       "<_sre.SRE_Match at 0x7f38b02137e8>"
      ]
     },
     "execution_count": 203,
     "metadata": {},
     "output_type": "execute_result"
    }
   ],
   "source": [
    "pattern = re.compile(\"Al*an\")\n",
    "re.search(pattern, 'Edgar Allan Poe') # Match"
   ]
  },
  {
   "cell_type": "code",
   "execution_count": 204,
   "metadata": {},
   "outputs": [
    {
     "data": {
      "text/plain": [
       "<_sre.SRE_Match at 0x7f38b0213850>"
      ]
     },
     "execution_count": 204,
     "metadata": {},
     "output_type": "execute_result"
    }
   ],
   "source": [
    "pattern = re.compile(\"Edi*gar\")\n",
    "re.search(pattern, 'Edgar Allan Poe') # Match"
   ]
  },
  {
   "cell_type": "markdown",
   "metadata": {},
   "source": [
    "O **+** representa \"procure por 1 ou mais repetições\"."
   ]
  },
  {
   "cell_type": "code",
   "execution_count": 205,
   "metadata": {},
   "outputs": [
    {
     "data": {
      "text/plain": [
       "<_sre.SRE_Match at 0x7f38b0213920>"
      ]
     },
     "execution_count": 205,
     "metadata": {},
     "output_type": "execute_result"
    }
   ],
   "source": [
    "pattern = re.compile(\"Al+an\")\n",
    "re.search(pattern, 'Edgar Allan Poe') # Match"
   ]
  },
  {
   "cell_type": "code",
   "execution_count": 206,
   "metadata": {},
   "outputs": [],
   "source": [
    "pattern = re.compile(\"Edi+gar\")\n",
    "re.search(pattern, 'Edgar Allan Poe') # No match"
   ]
  },
  {
   "cell_type": "markdown",
   "metadata": {},
   "source": [
    "O carácter **+** representa \"procure por 0 ou 1 repetição\"."
   ]
  },
  {
   "cell_type": "code",
   "execution_count": 207,
   "metadata": {},
   "outputs": [
    {
     "data": {
      "text/plain": [
       "<_sre.SRE_Match at 0x7f38b02139f0>"
      ]
     },
     "execution_count": 207,
     "metadata": {},
     "output_type": "execute_result"
    }
   ],
   "source": [
    "pattern = re.compile(\"All?an\")\n",
    "re.search(pattern, 'Edgar Allan Poe') # Match"
   ]
  },
  {
   "cell_type": "code",
   "execution_count": 208,
   "metadata": {},
   "outputs": [
    {
     "data": {
      "text/plain": [
       "<_sre.SRE_Match at 0x7f38b0213bf8>"
      ]
     },
     "execution_count": 208,
     "metadata": {},
     "output_type": "execute_result"
    }
   ],
   "source": [
    "pattern = re.compile(\"Edi?gar\")\n",
    "re.search(pattern, 'Edgar Allan Poe') # Match"
   ]
  },
  {
   "cell_type": "markdown",
   "metadata": {},
   "source": [
    "### Greedy e non greey match\n",
    "\n",
    "Imagine que queremos pegar cada palavra de uma frase. Poderíamos procurar pelo padrão **(.*)** (Qualquer coisa seguida por um espaço. Vamos tentar:"
   ]
  },
  {
   "cell_type": "code",
   "execution_count": 209,
   "metadata": {},
   "outputs": [
    {
     "data": {
      "text/plain": [
       "['Edgar Allan']"
      ]
     },
     "execution_count": 209,
     "metadata": {},
     "output_type": "execute_result"
    }
   ],
   "source": [
    "pattern = re.compile(\"(.*) \")\n",
    "re.findall(pattern, 'Edgar Allan Poe')"
   ]
  },
  {
   "cell_type": "markdown",
   "metadata": {},
   "source": [
    "O problema neste caso é que esse tipo de busca tenta pegar o máximo possível de carácter (greedy). Uma versão não greedy pode ser feita usando o **?**:"
   ]
  },
  {
   "cell_type": "code",
   "execution_count": 210,
   "metadata": {},
   "outputs": [
    {
     "data": {
      "text/plain": [
       "['Edgar', 'Allan']"
      ]
     },
     "execution_count": 210,
     "metadata": {},
     "output_type": "execute_result"
    }
   ],
   "source": [
    "pattern = re.compile(\"(.*?) \")\n",
    "re.findall(pattern, 'Edgar Allan Poe')"
   ]
  },
  {
   "cell_type": "markdown",
   "metadata": {},
   "source": [
    "Ou seja, se o **?** estiver depois de um **\\*** ou um **+**, significa **non-greddy match**, senão significa \"procurar o carácter 0 ou 1 vezes\"."
   ]
  },
  {
   "cell_type": "code",
   "execution_count": 211,
   "metadata": {},
   "outputs": [
    {
     "data": {
      "text/plain": [
       "['Edgar', 'Allan']"
      ]
     },
     "execution_count": 211,
     "metadata": {},
     "output_type": "execute_result"
    }
   ],
   "source": [
    "pattern = re.compile(\"(.*?|) \")\n",
    "re.findall(pattern, 'Edgar Allan Poe')"
   ]
  },
  {
   "cell_type": "markdown",
   "metadata": {},
   "source": [
    "O **{}** possuem dois argumentos, o primeiro indica o mínimo e o segundo o máximo de repetições. \n",
    "\n",
    "Um ou dois **s**"
   ]
  },
  {
   "cell_type": "code",
   "execution_count": 212,
   "metadata": {},
   "outputs": [
    {
     "data": {
      "text/plain": [
       "<_sre.SRE_Match at 0x7f38b0213b28>"
      ]
     },
     "execution_count": 212,
     "metadata": {},
     "output_type": "execute_result"
    }
   ],
   "source": [
    "pattern = re.compile(\"Moris{1,2}ette\")\n",
    "re.search(pattern, 'Alanis Morissette') # Match"
   ]
  },
  {
   "cell_type": "code",
   "execution_count": 213,
   "metadata": {},
   "outputs": [
    {
     "data": {
      "text/plain": [
       "<_sre.SRE_Match at 0x7f38b0213e68>"
      ]
     },
     "execution_count": 213,
     "metadata": {},
     "output_type": "execute_result"
    }
   ],
   "source": [
    "re.search(pattern, 'Alanis Morisette') # Match"
   ]
  },
  {
   "cell_type": "markdown",
   "metadata": {},
   "source": [
    "Dois ou mais **s**"
   ]
  },
  {
   "cell_type": "code",
   "execution_count": 214,
   "metadata": {},
   "outputs": [
    {
     "data": {
      "text/plain": [
       "<_sre.SRE_Match at 0x7f38b0213f38>"
      ]
     },
     "execution_count": 214,
     "metadata": {},
     "output_type": "execute_result"
    }
   ],
   "source": [
    "pattern = re.compile(\"Moris{2,}ette\")\n",
    "re.search(pattern, 'Alanis Morissette') # Match"
   ]
  },
  {
   "cell_type": "code",
   "execution_count": 215,
   "metadata": {},
   "outputs": [],
   "source": [
    "re.search(pattern, 'Alanis Morisette') # No match"
   ]
  },
  {
   "cell_type": "code",
   "execution_count": 216,
   "metadata": {},
   "outputs": [
    {
     "data": {
      "text/plain": [
       "<_sre.SRE_Match at 0x7f38b022d100>"
      ]
     },
     "execution_count": 216,
     "metadata": {},
     "output_type": "execute_result"
    }
   ],
   "source": [
    "re.search(pattern, 'Alanis Morissssssette') # Match"
   ]
  },
  {
   "cell_type": "markdown",
   "metadata": {},
   "source": [
    "### O carácter |\n",
    "\n",
    "O carácter **|** apenas significa OU. Por exemplo, usar \"Allan|Alan\" significa procurar por \"Allan\" ou \"Alan\"."
   ]
  },
  {
   "cell_type": "code",
   "execution_count": 217,
   "metadata": {},
   "outputs": [
    {
     "data": {
      "text/plain": [
       "<_sre.SRE_Match at 0x7f38b022d1d0>"
      ]
     },
     "execution_count": 217,
     "metadata": {},
     "output_type": "execute_result"
    }
   ],
   "source": [
    "pattern = re.compile(\"Allan|Alan\")\n",
    "re.search(pattern, 'Edgar Allan Poe') # Match"
   ]
  },
  {
   "cell_type": "markdown",
   "metadata": {},
   "source": [
    "### Atalhos para expressões comuns\n",
    "\n",
    "- **\\d** qualquer dígito (=[0-9])\n",
    "- **\\D** qualquer não dígito (=[^0-9])"
   ]
  },
  {
   "cell_type": "code",
   "execution_count": 218,
   "metadata": {},
   "outputs": [
    {
     "data": {
      "text/plain": [
       "['10', '20']"
      ]
     },
     "execution_count": 218,
     "metadata": {},
     "output_type": "execute_result"
    }
   ],
   "source": [
    "re.findall(\"(\\d+)\",\"Idadae: 10, Peso: 20\")"
   ]
  },
  {
   "cell_type": "code",
   "execution_count": 219,
   "metadata": {},
   "outputs": [
    {
     "data": {
      "text/plain": [
       "['Idadae: ', ', Peso: ']"
      ]
     },
     "execution_count": 219,
     "metadata": {},
     "output_type": "execute_result"
    }
   ],
   "source": [
    "re.findall(\"(\\D+)\",\"Idadae: 10, Peso: 20\")"
   ]
  },
  {
   "cell_type": "markdown",
   "metadata": {},
   "source": [
    "- **\\s**: qualquer espaço (espaço, tab, new lines, return carriage)"
   ]
  },
  {
   "cell_type": "code",
   "execution_count": 220,
   "metadata": {},
   "outputs": [
    {
     "data": {
      "text/plain": [
       "[' ', ' ', ' ']"
      ]
     },
     "execution_count": 220,
     "metadata": {},
     "output_type": "execute_result"
    }
   ],
   "source": [
    "re.findall(\"(\\s)\",\"Idadae: 10, Peso: 20\")"
   ]
  },
  {
   "cell_type": "markdown",
   "metadata": {},
   "source": [
    "- **\\w**: qualquer caracter alfanumérico (=[a-zA-Z0-9_])\n",
    "- **\\W**: qualquer caracter não alfanumérico (=[^a-zA-Z0-9_])"
   ]
  },
  {
   "cell_type": "code",
   "execution_count": 221,
   "metadata": {},
   "outputs": [
    {
     "data": {
      "text/plain": [
       "['Idadae', '10', 'Peso', '20']"
      ]
     },
     "execution_count": 221,
     "metadata": {},
     "output_type": "execute_result"
    }
   ],
   "source": [
    "re.findall(\"(\\w+)\",\"Idadae: 10, Peso: 20\")"
   ]
  },
  {
   "cell_type": "code",
   "execution_count": 222,
   "metadata": {},
   "outputs": [
    {
     "data": {
      "text/plain": [
       "[':', ' ', ',', ' ', ':', ' ']"
      ]
     },
     "execution_count": 222,
     "metadata": {},
     "output_type": "execute_result"
    }
   ],
   "source": [
    "re.findall(\"(\\W)\",\"Idadae: 10, Peso: 20\")"
   ]
  },
  {
   "cell_type": "markdown",
   "metadata": {},
   "source": [
    "### search() vs match\n",
    "\n",
    "\n",
    "Python oferece duas operações básicas para fazer o casamento com expressões regulares: \n",
    "- re.search(): verifica se um padrão casa em qualquer posição da string\n",
    "- re.match() verifica se o padrão casa no início da string\n",
    "\n",
    "Fonte: [search() vs match()](https://docs.python.org/2/library/re.html#search-vs-match)"
   ]
  },
  {
   "cell_type": "code",
   "execution_count": 223,
   "metadata": {},
   "outputs": [
    {
     "data": {
      "text/plain": [
       "<_sre.SRE_Match at 0x7f38b022d440>"
      ]
     },
     "execution_count": 223,
     "metadata": {},
     "output_type": "execute_result"
    }
   ],
   "source": [
    "re.match(\"c\", \"abcdef\")    # No match\n",
    "re.search(\"c\", \"abcdef\")   # Match"
   ]
  }
 ],
 "metadata": {
  "kernelspec": {
   "display_name": "Python [geospatial]",
   "language": "python",
   "name": "geospatial"
  },
  "language_info": {
   "codemirror_mode": {
    "name": "ipython",
    "version": 2
   },
   "file_extension": ".py",
   "mimetype": "text/x-python",
   "name": "python",
   "nbconvert_exporter": "python",
   "pygments_lexer": "ipython2",
   "version": "2.7.13"
  }
 },
 "nbformat": 4,
 "nbformat_minor": 2
}

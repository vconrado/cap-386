{
 "cells": [
  {
   "cell_type": "markdown",
   "metadata": {},
   "source": [
    "\n",
    "# Expressões regulares\n",
    "\n",
    "O Python disponibiliza o módulo **re** para a utilização de expressões regulares.\n",
    "\n",
    "Fontes: https://docs.python.org/2/library/re.html, http://wiki.portugal-a-programar.pt/dev_geral:python:regex"
   ]
  },
  {
   "cell_type": "markdown",
   "metadata": {},
   "source": [
    "Verificando se uma string existe em outra:"
   ]
  },
  {
   "cell_type": "code",
   "execution_count": 130,
   "metadata": {},
   "outputs": [
    {
     "name": "stdout",
     "output_type": "stream",
     "text": [
      "Achou\n"
     ]
    },
    {
     "data": {
      "text/plain": [
       "<_sre.SRE_Match at 0x7fa21c2b9f38>"
      ]
     },
     "execution_count": 130,
     "metadata": {},
     "output_type": "execute_result"
    }
   ],
   "source": [
    "import re\n",
    " \n",
    "name = 'Edgar Allan Poe'\n",
    "if re.search('Allan', name):\n",
    "    print 'Achou'\n",
    "re.search('Allan', name)"
   ]
  },
  {
   "cell_type": "markdown",
   "metadata": {},
   "source": [
    "Recomenda-se o uso do **compile** quando o padrão for usado várias vezes:"
   ]
  },
  {
   "cell_type": "code",
   "execution_count": 131,
   "metadata": {},
   "outputs": [
    {
     "name": "stdout",
     "output_type": "stream",
     "text": [
      "Achou em Edgar Allan Poe\n",
      "Achou em Allan Quatermain\n",
      "<type '_sre.SRE_Pattern'>\n"
     ]
    }
   ],
   "source": [
    "import re\n",
    "\n",
    "pattern = re.compile(r'Allan')\n",
    "names = (\"Edgar Allan Poe\",\"Edgar Rice Burroughs\",\"Alanis Morissette\",\"Allan Quatermain\")\n",
    "\n",
    "for name in names:\n",
    "    if re.search(pattern, name):\n",
    "        print('Achou em {}'.format(name))\n",
    "        \n",
    "print type(pattern)"
   ]
  },
  {
   "cell_type": "markdown",
   "metadata": {},
   "source": [
    "## Caracteres especiais\n",
    "\n",
    "( ) [ ] ^ \\$ .  + ? \\{ \\} | "
   ]
  },
  {
   "cell_type": "markdown",
   "metadata": {},
   "source": [
    "O padrão que for buscando vir re.search() usando **( )** é armazenado no objeto match e pode ser obtido:"
   ]
  },
  {
   "cell_type": "code",
   "execution_count": 132,
   "metadata": {},
   "outputs": [
    {
     "data": {
      "text/plain": [
       "('Allan',)"
      ]
     },
     "execution_count": 132,
     "metadata": {},
     "output_type": "execute_result"
    }
   ],
   "source": [
    "pattern = re.compile(\"(Allan)\")\n",
    "name = 'Edgar Allan Poe'\n",
    "groups = re.search(pattern, name).groups()\n",
    "groups"
   ]
  },
  {
   "cell_type": "markdown",
   "metadata": {},
   "source": [
    "Os **[ ]** servem para indicar alternativas. Por exemplo [xyz] procura por **a** ou **b** ou **c**"
   ]
  },
  {
   "cell_type": "code",
   "execution_count": 133,
   "metadata": {},
   "outputs": [
    {
     "name": "stdout",
     "output_type": "stream",
     "text": [
      "Não achou\n"
     ]
    }
   ],
   "source": [
    "pattern = re.compile(\"[xyz]\")\n",
    "if re.search(pattern, 'Edgar Allan Poe'):\n",
    "    print 'Achou',\n",
    "else:\n",
    "    print 'Não achou'"
   ]
  },
  {
   "cell_type": "code",
   "execution_count": 134,
   "metadata": {},
   "outputs": [
    {
     "name": "stdout",
     "output_type": "stream",
     "text": [
      "Achou\n"
     ]
    }
   ],
   "source": [
    "pattern = re.compile(\"[abc]\")\n",
    "if re.search(pattern, 'Edgar Allan Poe'):\n",
    "    print 'Achou',\n",
    "else:\n",
    "    print 'Não achou'"
   ]
  },
  {
   "cell_type": "markdown",
   "metadata": {},
   "source": [
    "### Juntando os dois **( )** com **[ ]**"
   ]
  },
  {
   "cell_type": "code",
   "execution_count": 135,
   "metadata": {},
   "outputs": [
    {
     "data": {
      "text/plain": [
       "('a',)"
      ]
     },
     "execution_count": 135,
     "metadata": {},
     "output_type": "execute_result"
    }
   ],
   "source": [
    "pattern = re.compile(\"([abc])\")\n",
    "groups = re.search(pattern, 'Edgar Allan Poe').groups()\n",
    "groups"
   ]
  },
  {
   "cell_type": "markdown",
   "metadata": {},
   "source": [
    "Desta forma o re.search trás somente o primeiro **a** que encontrar. Para buscar todos, podemos usar o **re.findall()**. \n",
    "PS: ele ja retorna os grupos."
   ]
  },
  {
   "cell_type": "code",
   "execution_count": 136,
   "metadata": {},
   "outputs": [
    {
     "data": {
      "text/plain": [
       "['a', 'a']"
      ]
     },
     "execution_count": 136,
     "metadata": {},
     "output_type": "execute_result"
    }
   ],
   "source": [
    "pattern = re.compile(\"([abc])\")\n",
    "re.findall(pattern, 'Edgar Allan Poe')"
   ]
  },
  {
   "cell_type": "markdown",
   "metadata": {},
   "source": [
    "### Caracteres especiais dentro do **[ ]**"
   ]
  },
  {
   "cell_type": "code",
   "execution_count": 137,
   "metadata": {},
   "outputs": [
    {
     "data": {
      "text/plain": [
       "['d', 'a', 'a']"
      ]
     },
     "execution_count": 137,
     "metadata": {},
     "output_type": "execute_result"
    }
   ],
   "source": [
    "pattern = re.compile(\"([a-d])\")\n",
    "re.findall(pattern, 'Edgar Allan Poe')"
   ]
  },
  {
   "cell_type": "code",
   "execution_count": 138,
   "metadata": {},
   "outputs": [
    {
     "data": {
      "text/plain": [
       "['E', 'g', 'r', ' ', 'A', 'l', 'l', 'n', ' ', 'P', 'o', 'e']"
      ]
     },
     "execution_count": 138,
     "metadata": {},
     "output_type": "execute_result"
    }
   ],
   "source": [
    "pattern = re.compile(\"([^abcd])\")\n",
    "re.findall(pattern, 'Edgar Allan Poe')"
   ]
  },
  {
   "cell_type": "markdown",
   "metadata": {},
   "source": [
    "Fora do **[ ]** os caracteres **^**e **$** tem outro significado.\n",
    "**^** indica o início da string e **\\$** indica o final."
   ]
  },
  {
   "cell_type": "code",
   "execution_count": 139,
   "metadata": {},
   "outputs": [
    {
     "data": {
      "text/plain": [
       "<_sre.SRE_Match at 0x7fa21c2c1370>"
      ]
     },
     "execution_count": 139,
     "metadata": {},
     "output_type": "execute_result"
    }
   ],
   "source": [
    "pattern = re.compile(\"^Edgar\")\n",
    "re.search(pattern, 'Edgar Allan Poe')"
   ]
  },
  {
   "cell_type": "code",
   "execution_count": 140,
   "metadata": {
    "collapsed": true
   },
   "outputs": [],
   "source": [
    "pattern = re.compile(\"Allan$\")\n",
    "re.search(pattern, 'Edgar Allan Poe')"
   ]
  },
  {
   "cell_type": "markdown",
   "metadata": {},
   "source": [
    "O carácter **.** (ponto) representa qualquer caracter, exceto o \\n."
   ]
  },
  {
   "cell_type": "code",
   "execution_count": 141,
   "metadata": {},
   "outputs": [
    {
     "data": {
      "text/plain": [
       "['E', 'd', 'g', 'a', 'r', ' ', 'A', 'l', 'l', 'a', 'n', ' ', 'P', 'o', 'e']"
      ]
     },
     "execution_count": 141,
     "metadata": {},
     "output_type": "execute_result"
    }
   ],
   "source": [
    "pattern = re.compile(\".\")\n",
    "re.findall(pattern, 'Edgar Allan Poe')"
   ]
  },
  {
   "cell_type": "markdown",
   "metadata": {},
   "source": [
    "### Procurando caracteres repetidos\n",
    "\n",
    "Os caracteres para as repetições são **\\***, **+**, **?** e **{ }**."
   ]
  },
  {
   "cell_type": "markdown",
   "metadata": {},
   "source": [
    "O **\\*** representa \"procure por 0 ou mais repetições\"."
   ]
  },
  {
   "cell_type": "code",
   "execution_count": 142,
   "metadata": {},
   "outputs": [
    {
     "data": {
      "text/plain": [
       "<_sre.SRE_Match at 0x7fa21c2c15e0>"
      ]
     },
     "execution_count": 142,
     "metadata": {},
     "output_type": "execute_result"
    }
   ],
   "source": [
    "pattern = re.compile(\"Al*an\")\n",
    "re.search(pattern, 'Edgar Allan Poe') # Match"
   ]
  },
  {
   "cell_type": "code",
   "execution_count": 143,
   "metadata": {},
   "outputs": [
    {
     "data": {
      "text/plain": [
       "<_sre.SRE_Match at 0x7fa21c2c1510>"
      ]
     },
     "execution_count": 143,
     "metadata": {},
     "output_type": "execute_result"
    }
   ],
   "source": [
    "pattern = re.compile(\"Edi*gar\")\n",
    "re.search(pattern, 'Edgar Allan Poe') # Match"
   ]
  },
  {
   "cell_type": "markdown",
   "metadata": {},
   "source": [
    "O **+** representa \"procure por 1 ou mais repetições\"."
   ]
  },
  {
   "cell_type": "code",
   "execution_count": 144,
   "metadata": {},
   "outputs": [
    {
     "data": {
      "text/plain": [
       "<_sre.SRE_Match at 0x7fa21c2c1718>"
      ]
     },
     "execution_count": 144,
     "metadata": {},
     "output_type": "execute_result"
    }
   ],
   "source": [
    "pattern = re.compile(\"Al+an\")\n",
    "re.search(pattern, 'Edgar Allan Poe') # Match"
   ]
  },
  {
   "cell_type": "code",
   "execution_count": 145,
   "metadata": {},
   "outputs": [],
   "source": [
    "pattern = re.compile(\"Edi+gar\")\n",
    "re.search(pattern, 'Edgar Allan Poe') # No match"
   ]
  },
  {
   "cell_type": "markdown",
   "metadata": {},
   "source": [
    "O carácter **?** representa \"procure por 0 ou 1 repetição\"."
   ]
  },
  {
   "cell_type": "code",
   "execution_count": 146,
   "metadata": {},
   "outputs": [
    {
     "data": {
      "text/plain": [
       "<_sre.SRE_Match at 0x7fa21c2c1850>"
      ]
     },
     "execution_count": 146,
     "metadata": {},
     "output_type": "execute_result"
    }
   ],
   "source": [
    "pattern = re.compile(\"All?an\")\n",
    "re.search(pattern, 'Edgar Allan Poe') # Match"
   ]
  },
  {
   "cell_type": "code",
   "execution_count": 147,
   "metadata": {},
   "outputs": [
    {
     "data": {
      "text/plain": [
       "<_sre.SRE_Match at 0x7fa21c2c1920>"
      ]
     },
     "execution_count": 147,
     "metadata": {},
     "output_type": "execute_result"
    }
   ],
   "source": [
    "pattern = re.compile(\"Edi?gar\")\n",
    "re.search(pattern, 'Edgar Allan Poe') # Match"
   ]
  },
  {
   "cell_type": "markdown",
   "metadata": {},
   "source": [
    "### Greedy e non greey match\n",
    "\n",
    "Imagine que queremos pegar cada palavra de uma frase. Poderíamos procurar pelo padrão **(.*)** (Qualquer coisa seguida por um espaço. Vamos tentar:"
   ]
  },
  {
   "cell_type": "code",
   "execution_count": 148,
   "metadata": {},
   "outputs": [
    {
     "data": {
      "text/plain": [
       "['Edgar Allan']"
      ]
     },
     "execution_count": 148,
     "metadata": {},
     "output_type": "execute_result"
    }
   ],
   "source": [
    "pattern = re.compile(\"(.*) \")\n",
    "re.findall(pattern, 'Edgar Allan Poe')"
   ]
  },
  {
   "cell_type": "markdown",
   "metadata": {},
   "source": [
    "O problema neste caso é que esse tipo de busca tenta pegar o máximo possível de carácter (greedy). Uma versão não greedy pode ser feita usando o **?**:"
   ]
  },
  {
   "cell_type": "code",
   "execution_count": 149,
   "metadata": {},
   "outputs": [
    {
     "data": {
      "text/plain": [
       "['Edgar', 'Allan']"
      ]
     },
     "execution_count": 149,
     "metadata": {},
     "output_type": "execute_result"
    }
   ],
   "source": [
    "pattern = re.compile(\"(.*?) \")\n",
    "re.findall(pattern, 'Edgar Allan Poe')"
   ]
  },
  {
   "cell_type": "markdown",
   "metadata": {},
   "source": [
    "Ou seja, se o **?** estiver depois de um **\\*** ou um **+**, significa **non-greddy match**, senão significa \"procurar o carácter 0 ou 1 vezes\"."
   ]
  },
  {
   "cell_type": "code",
   "execution_count": 150,
   "metadata": {},
   "outputs": [
    {
     "data": {
      "text/plain": [
       "['Edgar', 'Allan']"
      ]
     },
     "execution_count": 150,
     "metadata": {},
     "output_type": "execute_result"
    }
   ],
   "source": [
    "pattern = re.compile(\"(.*?|) \")\n",
    "re.findall(pattern, 'Edgar Allan Poe')"
   ]
  },
  {
   "cell_type": "markdown",
   "metadata": {},
   "source": [
    "O **{}** possuem dois argumentos, o primeiro indica o mínimo e o segundo o máximo de repetições. \n",
    "\n",
    "Um ou dois **s**"
   ]
  },
  {
   "cell_type": "code",
   "execution_count": 151,
   "metadata": {},
   "outputs": [
    {
     "data": {
      "text/plain": [
       "<_sre.SRE_Match at 0x7fa21c2c1780>"
      ]
     },
     "execution_count": 151,
     "metadata": {},
     "output_type": "execute_result"
    }
   ],
   "source": [
    "pattern = re.compile(\"Moris{1,2}ette\")\n",
    "re.search(pattern, 'Alanis Morissette') # Match"
   ]
  },
  {
   "cell_type": "code",
   "execution_count": 152,
   "metadata": {},
   "outputs": [
    {
     "data": {
      "text/plain": [
       "<_sre.SRE_Match at 0x7fa21c2c1b90>"
      ]
     },
     "execution_count": 152,
     "metadata": {},
     "output_type": "execute_result"
    }
   ],
   "source": [
    "re.search(pattern, 'Alanis Morisette') # Match"
   ]
  },
  {
   "cell_type": "markdown",
   "metadata": {},
   "source": [
    "Dois ou mais **s**"
   ]
  },
  {
   "cell_type": "code",
   "execution_count": 153,
   "metadata": {},
   "outputs": [
    {
     "data": {
      "text/plain": [
       "<_sre.SRE_Match at 0x7fa21c2c1cc8>"
      ]
     },
     "execution_count": 153,
     "metadata": {},
     "output_type": "execute_result"
    }
   ],
   "source": [
    "pattern = re.compile(\"Moris{2,}ette\")\n",
    "re.search(pattern, 'Alanis Morissette') # Match"
   ]
  },
  {
   "cell_type": "code",
   "execution_count": 154,
   "metadata": {
    "collapsed": true
   },
   "outputs": [],
   "source": [
    "re.search(pattern, 'Alanis Morisette') # No match"
   ]
  },
  {
   "cell_type": "code",
   "execution_count": 155,
   "metadata": {},
   "outputs": [
    {
     "data": {
      "text/plain": [
       "<_sre.SRE_Match at 0x7fa21c2c1e00>"
      ]
     },
     "execution_count": 155,
     "metadata": {},
     "output_type": "execute_result"
    }
   ],
   "source": [
    "re.search(pattern, 'Alanis Morissssssette') # Match"
   ]
  },
  {
   "cell_type": "markdown",
   "metadata": {},
   "source": [
    "### O carácter |\n",
    "\n",
    "O carácter **|** apenas significa OU. Por exemplo, usar \"Allan|Alan\" significa procurar por \"Allan\" ou \"Alan\"."
   ]
  },
  {
   "cell_type": "code",
   "execution_count": 156,
   "metadata": {},
   "outputs": [
    {
     "data": {
      "text/plain": [
       "<_sre.SRE_Match at 0x7fa21c2c1ed0>"
      ]
     },
     "execution_count": 156,
     "metadata": {},
     "output_type": "execute_result"
    }
   ],
   "source": [
    "pattern = re.compile(\"Allan|Alan\")\n",
    "re.search(pattern, 'Edgar Alan Poe') # Match"
   ]
  },
  {
   "cell_type": "markdown",
   "metadata": {},
   "source": [
    "### Atalhos para expressões comuns\n",
    "\n",
    "- **\\d** qualquer dígito (=[0-9])\n",
    "- **\\D** qualquer não dígito (=[^0-9])"
   ]
  },
  {
   "cell_type": "code",
   "execution_count": 157,
   "metadata": {},
   "outputs": [
    {
     "data": {
      "text/plain": [
       "['10', '20', '3']"
      ]
     },
     "execution_count": 157,
     "metadata": {},
     "output_type": "execute_result"
    }
   ],
   "source": [
    "re.findall(\"(\\d+)\",\"Idade: 10, Peso: 20.3\")"
   ]
  },
  {
   "cell_type": "code",
   "execution_count": 158,
   "metadata": {},
   "outputs": [
    {
     "data": {
      "text/plain": [
       "['Idade: ', ', Peso: ']"
      ]
     },
     "execution_count": 158,
     "metadata": {},
     "output_type": "execute_result"
    }
   ],
   "source": [
    "re.findall(\"(\\D+)\",\"Idade: 10, Peso: 20\")"
   ]
  },
  {
   "cell_type": "markdown",
   "metadata": {},
   "source": [
    "- **\\s**: qualquer espaço (espaço, tab, new lines, return carriage)"
   ]
  },
  {
   "cell_type": "code",
   "execution_count": 159,
   "metadata": {},
   "outputs": [
    {
     "data": {
      "text/plain": [
       "[' ', ' ', ' ']"
      ]
     },
     "execution_count": 159,
     "metadata": {},
     "output_type": "execute_result"
    }
   ],
   "source": [
    "re.findall(\"(\\s)\",\"Idade: 10, Peso: 20\")"
   ]
  },
  {
   "cell_type": "markdown",
   "metadata": {},
   "source": [
    "- **\\w**: qualquer caracter alfanumérico (=[a-zA-Z0-9_])\n",
    "- **\\W**: qualquer caracter não alfanumérico (=[^a-zA-Z0-9_])"
   ]
  },
  {
   "cell_type": "code",
   "execution_count": 160,
   "metadata": {},
   "outputs": [
    {
     "data": {
      "text/plain": [
       "['Idade', '10', 'Peso', '20']"
      ]
     },
     "execution_count": 160,
     "metadata": {},
     "output_type": "execute_result"
    }
   ],
   "source": [
    "re.findall(\"(\\w+)\",\"Idade: 10, Peso: 20\")"
   ]
  },
  {
   "cell_type": "code",
   "execution_count": 161,
   "metadata": {},
   "outputs": [
    {
     "data": {
      "text/plain": [
       "[':', ' ', ',', ' ', ':', ' ']"
      ]
     },
     "execution_count": 161,
     "metadata": {},
     "output_type": "execute_result"
    }
   ],
   "source": [
    "re.findall(\"(\\W)\",\"Idade: 10, Peso: 20\")"
   ]
  },
  {
   "cell_type": "markdown",
   "metadata": {},
   "source": [
    "### search() vs match()\n",
    "\n",
    "\n",
    "Python oferece duas operações básicas para fazer o casamento com expressões regulares: \n",
    "- re.search(): verifica se um padrão casa em qualquer posição da string\n",
    "- re.match() verifica se o padrão casa no início da string\n",
    "\n",
    "Fonte: [search() vs match()](https://docs.python.org/2/library/re.html#search-vs-match)"
   ]
  },
  {
   "cell_type": "code",
   "execution_count": 162,
   "metadata": {},
   "outputs": [],
   "source": [
    "re.match(\"c\", \"abcdef\")    # No match"
   ]
  },
  {
   "cell_type": "code",
   "execution_count": 163,
   "metadata": {},
   "outputs": [
    {
     "data": {
      "text/plain": [
       "<_sre.SRE_Match at 0x7fa21c2cf1d0>"
      ]
     },
     "execution_count": 163,
     "metadata": {},
     "output_type": "execute_result"
    }
   ],
   "source": [
    "re.search(\"c\", \"abcdef\")   # Match"
   ]
  },
  {
   "cell_type": "markdown",
   "metadata": {},
   "source": [
    "Este [site](https://regex101.com/) permite testar expressões regulares com visualização."
   ]
  }
 ],
 "metadata": {
  "kernelspec": {
   "display_name": "Python [geospatial]",
   "language": "python",
   "name": "geospatial"
  },
  "language_info": {
   "codemirror_mode": {
    "name": "ipython",
    "version": 2
   },
   "file_extension": ".py",
   "mimetype": "text/x-python",
   "name": "python",
   "nbconvert_exporter": "python",
   "pygments_lexer": "ipython2",
   "version": "2.7.13"
  }
 },
 "nbformat": 4,
 "nbformat_minor": 2
}

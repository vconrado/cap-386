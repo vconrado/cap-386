{
 "cells": [
  {
   "cell_type": "markdown",
   "metadata": {
    "slideshow": {
     "slide_type": "slide"
    }
   },
   "source": [
    " # Dados de Queimadas\n",
    "<hr style=\"border:2px solid #0077b9;\">\n",
    "\n",
    "Disciplina: CAP-389 Introdução a *Data Science*\n",
    "- Vitor Gomes\n",
    "- Orientadores: Gilberto Ribeiro e Karine Ferreira\n",
    "- Colaborador: Fabiano Morelli"
   ]
  },
  {
   "cell_type": "markdown",
   "metadata": {
    "slideshow": {
     "slide_type": "slide"
    }
   },
   "source": [
    "## Objetivos\n",
    "<hr style=\"border:2px solid #0077b9;\">\n",
    "\n",
    "Fornecer uma estrutura para a utilização de grandes volumes de dados de queimadas com aplicações em *Data Science* e explorar esses dados para avaliar o índice de risco de queimada.\n"
   ]
  },
  {
   "cell_type": "markdown",
   "metadata": {
    "slideshow": {
     "slide_type": "slide"
    }
   },
   "source": [
    "## Agenda\n",
    "<hr style=\"border:2px solid #0077b9;\">\n",
    "- Sobre os dados\n",
    "- Infraestrutura\n",
    "- Acesso aos dados (BDQ.py)\n",
    "    - *Features*\n",
    "    - *Coverages*\n",
    "- Carga de dados\n",
    "- Explorando os dados"
   ]
  },
  {
   "cell_type": "markdown",
   "metadata": {
    "slideshow": {
     "slide_type": "subslide"
    }
   },
   "source": [
    "## Sobre os dados: BDQ\n",
    "<hr style=\"border:2px solid #0077b9;\">\n",
    "Os dados utilizados neste trabalho são referentes ao ano de **2016** e foram obtidos no **Programa Queimadas-INPE**.\n",
    "<table style=\"font-size: 16px;\">\n",
    "<thead>\n",
    "<tr>\n",
    "<th style=\"text-align: left\">#</th>\n",
    "<th style=\"text-align: left\">Dado</th>\n",
    "<th>Descrição</th>\n",
    "<th style=\"text-align: center\">Formato</th>\n",
    "<th style=\"text-align: center\">Res. Temp.</th>\n",
    "<th style=\"text-align: center\">Res. Espacial</th>\n",
    "<th style=\"text-align: center\">Dimensões</th>\n",
    "<th style=\"text-align: center\">Tipo</th>\n",
    "<th style=\"text-align: center\">Serviços</th>\n",
    "<th style=\"text-align: center\">Tamanho</th>\n",
    "</tr>\n",
    "</thead>\n",
    "<tbody>\n",
    "<tr>\n",
    "<td style=\"text-align: left\">1</td>\n",
    "<td style=\"text-align: left\">Focos de Queimadas</td>\n",
    "<td>2.039.394 registros</td>\n",
    "<td style=\"text-align: center\">PostgreSQL</td>\n",
    "<td style=\"text-align: center\">Dados obtidos em 2017-08-11</td>\n",
    "<td style=\"text-align: center\">-</td>\n",
    "<td style=\"text-align: center\">-</td>\n",
    "<td style=\"text-align: center\">Feature</td>\n",
    "<td style=\"text-align: center\">WFS</td>\n",
    "<td style=\"text-align: center\">5GB+10GB</td>\n",
    "</tr>\n",
    "<tr>\n",
    "<td style=\"text-align: left\">2</td>\n",
    "<td style=\"text-align: left\">Landcover IGBP 2012</td>\n",
    "<td>-</td>\n",
    "<td style=\"text-align: center\">TIFF</td>\n",
    "<td style=\"text-align: center\">Anual (1 cena)</td>\n",
    "<td style=\"text-align: center\">5km</td>\n",
    "<td style=\"text-align: center\">1200x1400</td>\n",
    "<td style=\"text-align: center\">Coverage</td>\n",
    "<td style=\"text-align: center\">WTSS</td>\n",
    "<td style=\"text-align: center\">6.5MB</td>\n",
    "</tr>\n",
    "<tr>\n",
    "<td style=\"text-align: left\">3</td>\n",
    "<td style=\"text-align: left\">Temperatura</td>\n",
    "<td>-</td>\n",
    "<td style=\"text-align: center\">NetCDF</td>\n",
    "<td style=\"text-align: center\">Diário (366 cenas)</td>\n",
    "<td style=\"text-align: center\">5km</td>\n",
    "<td style=\"text-align: center\">1200x1400</td>\n",
    "<td style=\"text-align: center\">Coverage</td>\n",
    "<td style=\"text-align: center\">WTSS</td>\n",
    "<td style=\"text-align: center\">2.3GB</td>\n",
    "</tr>\n",
    "<tr>\n",
    "<td style=\"text-align: left\">4</td>\n",
    "<td style=\"text-align: left\">Humidade</td>\n",
    "<td>-</td>\n",
    "<td style=\"text-align: center\">NetCDF</td>\n",
    "<td style=\"text-align: center\">Diário (366 cenas)</td>\n",
    "<td style=\"text-align: center\">5km</td>\n",
    "<td style=\"text-align: center\">1200x1400</td>\n",
    "<td style=\"text-align: center\">Coverage</td>\n",
    "<td style=\"text-align: center\">WTSS</td>\n",
    "<td style=\"text-align: center\">2.3GB</td>\n",
    "</tr>\n",
    "<tr>\n",
    "<td style=\"text-align: left\">5</td>\n",
    "<td style=\"text-align: left\">Risco de Fogo</td>\n",
    "<td>-</td>\n",
    "<td style=\"text-align: center\">NetCDF</td>\n",
    "<td style=\"text-align: center\">Diário (366 cenas)</td>\n",
    "<td style=\"text-align: center\">5km</td>\n",
    "<td style=\"text-align: center\">1200x1400</td>\n",
    "<td style=\"text-align: center\">Coverage</td>\n",
    "<td style=\"text-align: center\">WTSS</td>\n",
    "<td style=\"text-align: center\">2.3GB</td>\n",
    "</tr>\n",
    "<tr>\n",
    "<td style=\"text-align: left\">6</td>\n",
    "<td style=\"text-align: left\">Precipitação</td>\n",
    "<td>-</td>\n",
    "<td style=\"text-align: center\">NetCDF</td>\n",
    "<td style=\"text-align: center\">Diário (366 cenas)</td>\n",
    "<td style=\"text-align: center\">5km</td>\n",
    "<td style=\"text-align: center\">1200x1400</td>\n",
    "<td style=\"text-align: center\">Coverage</td>\n",
    "<td style=\"text-align: center\">WTSS</td>\n",
    "<td style=\"text-align: center\">2.3GB</td>\n",
    "</tr>\n",
    "<tr>\n",
    "<td style=\"text-align: left\">7</td>\n",
    "<td style=\"text-align: left\">Ocorrência mensal de focos</td>\n",
    "<td>Gerado a partir do item 1</td>\n",
    "<td style=\"text-align: center\">TIFF</td>\n",
    "<td style=\"text-align: center\">Mensal (12 cenas)</td>\n",
    "<td style=\"text-align: center\">5km</td>\n",
    "<td style=\"text-align: center\">1200x1400</td>\n",
    "<td style=\"text-align: center\">Coverage</td>\n",
    "<td style=\"text-align: center\">WTSS</td>\n",
    "<td style=\"text-align: center\">39MB</td>\n",
    "</tr>\n",
    "<tr>\n",
    "<td style=\"text-align: left\">8</td>\n",
    "<td style=\"text-align: left\">Temperatura média mensal</td>\n",
    "<td>Normal de Temperatura</td>\n",
    "<td style=\"text-align: center\">HDR</td>\n",
    "<td style=\"text-align: center\">Mensal (12 cenas)</td>\n",
    "<td style=\"text-align: center\">20km</td>\n",
    "<td style=\"text-align: center\">226x196</td>\n",
    "<td style=\"text-align: center\">Coverage</td>\n",
    "<td style=\"text-align: center\">WTSS</td>\n",
    "<td style=\"text-align: center\">2MB</td>\n",
    "</tr>\n",
    "<tr>\n",
    "<td style=\"text-align: left\">9</td>\n",
    "<td style=\"text-align: left\">Precipitação média mensal</td>\n",
    "<td>Normal de Precipitação</td>\n",
    "<td style=\"text-align: center\">HDR</td>\n",
    "<td style=\"text-align: center\">Mensal (12 cenas)</td>\n",
    "<td style=\"text-align: center\">20km</td>\n",
    "<td style=\"text-align: center\">226x196</td>\n",
    "<td style=\"text-align: center\">Coverage</td>\n",
    "<td style=\"text-align: center\">WTSS</td>\n",
    "<td style=\"text-align: center\">2MB</td>\n",
    "</tr>\n",
    "<tr>\n",
    "<td style=\"text-align: left\">10</td>\n",
    "<td style=\"text-align: left\">Umidade relativa média mensal</td>\n",
    "<td>Normal de Umidade relativa</td>\n",
    "<td style=\"text-align: center\">HDR</td>\n",
    "<td style=\"text-align: center\">Mensal (12 cenas)</td>\n",
    "<td style=\"text-align: center\">20km</td>\n",
    "<td style=\"text-align: center\">226x196</td>\n",
    "<td style=\"text-align: center\">Coverage</td>\n",
    "<td style=\"text-align: center\">WTSS</td>\n",
    "<td style=\"text-align: center\">2MB</td>\n",
    "</tr>\n",
    "</tbody>\n",
    "</table>"
   ]
  },
  {
   "cell_type": "markdown",
   "metadata": {
    "slideshow": {
     "slide_type": "subslide"
    }
   },
   "source": [
    "<table>\n",
    "<tr>\n",
    "<td><img src=\"./imgs/focos_bra_2016.png\" alt=\"Focos BRA 2016\" style=\"height: 150px;\"/></td>\n",
    "<td><img src=\"./imgs/land_cover_2012.png\" alt=\"Landcover IGBP 2012\" style=\"height: 150px;\"/></td>\n",
    "<td><img src=\"./imgs/risco.png\" alt=\"Risco 2016\" style=\"height: 150px;\"/></td>\n",
    "<td><img src=\"./imgs/precipitacao.png\" alt=\"Precipitação 2016\" style=\"height: 150px;\"/></td>\n",
    "</tr>\n",
    "<tr>\n",
    "<td style=\"text-align: center\">1. Focos BRA 2016</td>\n",
    "<td style=\"text-align: center\">2. Landcover IGBP 2012</td>\n",
    "<td style=\"text-align: center\">3. Risco 01-01-2016</td>\n",
    "<td style=\"text-align: center\">4. Precipitação 01-01-2016</td>\n",
    "</tr>\n",
    "<tr>\n",
    "<td><img src=\"./imgs/temperatura.png\" alt=\"Temperatura 2016\" style=\"height: 150px;\"/></td>\n",
    "<td><img src=\"./imgs/umidade.png\" alt=\"Umidade 2016\" style=\"height: 150px;\"/></td>\n",
    "<td><img src=\"./imgs/prec_normal.png\" alt=\"Precipitação 2016\" style=\"height: 150px;\"/></td>\n",
    "<td><img src=\"./imgs/temp_normal.png\" alt=\"Temperatura 2016\" style=\"height: 150px;\"/></td>\n",
    "</tr>\n",
    "<tr>\n",
    "<td style=\"text-align: center\">5. Temperatura 01-01-2016</td>\n",
    "<td style=\"text-align: center\">6. Umidade 01-01-2016</td>\n",
    "<td style=\"text-align: center\">7. Precipitação Normal Jan</td>\n",
    "<td style=\"text-align: center\">8. Temperatura Normal Jan</td>\n",
    "</tr>\n",
    "<tr>\n",
    "<td><img src=\"./imgs/umi_normal.png\" alt=\"Umidade 2016\" style=\"height: 150px;\"/></td>\n",
    "<td><img src=\"./imgs/qtd_focos.png\" alt=\"Quantidade de focos\" style=\"height: 150px;\"/></td>\n",
    "<td></td>\n",
    "<td></td>\n",
    "</tr>\n",
    "<tr>\n",
    "<td style=\"text-align: center\">9. Umidade Normal Jan</td>\n",
    "<td style=\"text-align: center\">10. Quantidade de focos Jan</td>\n",
    "<td></td>\n",
    "<td></td>\n",
    "</tr>\n",
    "</table>"
   ]
  },
  {
   "cell_type": "markdown",
   "metadata": {
    "slideshow": {
     "slide_type": "slide"
    }
   },
   "source": [
    "## Infraestrutura\n",
    "<hr style=\"border:2px solid #0077b9;\">"
   ]
  },
  {
   "cell_type": "markdown",
   "metadata": {
    "slideshow": {
     "slide_type": "subslide"
    }
   },
   "source": [
    "## Forma tradicional de manipulação de dados \n",
    "<hr style=\"border:2px solid #0077b9;\">\n",
    "<img src=\"./imgs/arquitetura0.png\" alt=\"Arquitetura 1\" style=\"width: 500px;\"/>"
   ]
  },
  {
   "cell_type": "markdown",
   "metadata": {
    "slideshow": {
     "slide_type": "subslide"
    }
   },
   "source": [
    "## Uso de WebServices para acesso aos dados \n",
    "<hr style=\"border:2px solid #0077b9;\">\n",
    "<img src=\"./imgs/arquitetura1.png\" alt=\"Arquitetura 1\" style=\"width: 1200px;\"/>"
   ]
  },
  {
   "cell_type": "markdown",
   "metadata": {
    "slideshow": {
     "slide_type": "subslide"
    }
   },
   "source": [
    "## Uso da BDQ.py para acesso aos dados\n",
    "<hr style=\"border:2px solid #0077b9;\">\n",
    "<img src=\"./imgs/arquitetura2.png\" alt=\"Arquitetura 2\" style=\"width: 1200px;\"/>"
   ]
  },
  {
   "cell_type": "markdown",
   "metadata": {
    "slideshow": {
     "slide_type": "slide"
    }
   },
   "source": [
    "## BDQ.py\n",
    "<hr style=\"border:2px solid #0077b9;\">"
   ]
  },
  {
   "cell_type": "markdown",
   "metadata": {
    "slideshow": {
     "slide_type": "subslide"
    }
   },
   "source": [
    "O [Cliente Python BDQ.py](https://github.com/vconrado/bdq.py) permite o acesso a <span style=\"color:#16CAC3\">*Features*</span> e <span style=\"color:#E8641B\">*Coverages*</span> do BDQ disponibilizados pelos serviços WFS e WTSS. O BDQ.py fornece sete operações:\n",
    "- <span style=\"color:#16CAC3\">**list_features**</span>: lista as *features* disponíveis no servidor;\n",
    "- <span style=\"color:#16CAC3\">**describe_feature**</span>: obtém a descrição de uma determinada *feature*;\n",
    "- <span style=\"color:#16CAC3\">**feature_collection**</span>: obtém uma coleção de *features*;\n",
    "- <span style=\"color:#16CAC3\">**feature_collection_len**</span>: obtém o tamanho de uma coleção de *features*;\n",
    "- <span style=\"color:#E8641B\">**list_coverage**</span>: lista as *coverages* disponíveis no servidor;\n",
    "- <span style=\"color:#E8641B\">**describe_coverage**</span>: obtém a descrição de um determinada *coverage*;\n",
    "- <span style=\"color:#E8641B\">**time_series**</span>: obtém a série temporal de uma *coverage* selecionada."
   ]
  },
  {
   "cell_type": "markdown",
   "metadata": {
    "slideshow": {
     "slide_type": "subslide"
    }
   },
   "source": [
    "### Acessando *features* através do BDQ.py"
   ]
  },
  {
   "cell_type": "code",
   "execution_count": 23,
   "metadata": {
    "slideshow": {
     "slide_type": "subslide"
    }
   },
   "outputs": [
    {
     "name": "stdout",
     "output_type": "stream",
     "text": [
      "esensing:focos_bra_2016\n",
      "esensing:focos_bra_2016_01_01\n"
     ]
    }
   ],
   "source": [
    "# Obtendo a lista de features disponíveis\n",
    "from bdq import bdq;\n",
    "\n",
    "# conecta ao servidor WFS\n",
    "b = bdq(wfs=\"http://localhost:8080/geoserver-esensing/\", wtss=\"http://localhost:7654\")\n",
    "\n",
    "# recupera lista de feições\n",
    "ft_list = b.list_features()\n",
    "\n",
    "for feature in ft_list['features']:\n",
    "    print(feature)"
   ]
  },
  {
   "cell_type": "code",
   "execution_count": 24,
   "metadata": {
    "scrolled": true,
    "slideshow": {
     "slide_type": "subslide"
    }
   },
   "outputs": [
    {
     "name": "stdout",
     "output_type": "stream",
     "text": [
      "Name : esensing:focos_bra_2016\n",
      "Attributes:\n",
      "  id                  : int\n",
      "  municipio           : string\n",
      "  estado              : string\n",
      "  regiao              : string\n",
      "  pais                : string\n",
      "  satelite            : string\n",
      "  bioma               : string\n",
      "  timestamp           : date-time\n",
      "  satelite_referencia : boolean\n",
      "  rand                : number\n",
      "  geometria           : Point\n"
     ]
    }
   ],
   "source": [
    "# Obtendo a descrição do recurso esensing:focos_bra_2016\n",
    "\n",
    "ft_scheme = b.describe_feature(\"esensing:focos_bra_2016\")\n",
    "\n",
    "print(\"Name : {}\".format(ft_scheme['full_name']))\n",
    "print(\"Attributes:\")\n",
    "for attr in ft_scheme['attributes']:\n",
    "     print(\"  {:<20s}: {}\".format(attr['name'], attr['datatype']))"
   ]
  },
  {
   "cell_type": "code",
   "execution_count": 25,
   "metadata": {
    "slideshow": {
     "slide_type": "subslide"
    }
   },
   "outputs": [
    {
     "data": {
      "text/html": [
       "<style>.dataframe{font-size: 16px !important;}</style>"
      ],
      "text/plain": [
       "<IPython.core.display.HTML object>"
      ]
     },
     "metadata": {},
     "output_type": "display_data"
    },
    {
     "name": "stdout",
     "output_type": "stream",
     "text": [
      "Recuperados: 5 de 2039394\n"
     ]
    },
    {
     "data": {
      "text/html": [
       "<div>\n",
       "<style>\n",
       "    .dataframe thead tr:only-child th {\n",
       "        text-align: right;\n",
       "    }\n",
       "\n",
       "    .dataframe thead th {\n",
       "        text-align: left;\n",
       "    }\n",
       "\n",
       "    .dataframe tbody tr th {\n",
       "        vertical-align: top;\n",
       "    }\n",
       "</style>\n",
       "<table border=\"1\" class=\"dataframe\">\n",
       "  <thead>\n",
       "    <tr style=\"text-align: right;\">\n",
       "      <th></th>\n",
       "      <th>bioma</th>\n",
       "      <th>coordinates</th>\n",
       "      <th>estado</th>\n",
       "      <th>id</th>\n",
       "      <th>municipio</th>\n",
       "      <th>pais</th>\n",
       "      <th>rand</th>\n",
       "      <th>regiao</th>\n",
       "      <th>satelite</th>\n",
       "      <th>satelite_referencia</th>\n",
       "      <th>timestamp</th>\n",
       "    </tr>\n",
       "  </thead>\n",
       "  <tbody>\n",
       "    <tr>\n",
       "      <th>0</th>\n",
       "      <td>Mata Atlântica</td>\n",
       "      <td>[-50.321, -23.297]</td>\n",
       "      <td>Paraná</td>\n",
       "      <td>45465778</td>\n",
       "      <td>Abatiá</td>\n",
       "      <td>Brazil</td>\n",
       "      <td>0.344233</td>\n",
       "      <td>S</td>\n",
       "      <td>NPP</td>\n",
       "      <td>False</td>\n",
       "      <td>2016-04-06T16:43:05Z</td>\n",
       "    </tr>\n",
       "    <tr>\n",
       "      <th>1</th>\n",
       "      <td>Mata Atlântica</td>\n",
       "      <td>[-50.232, -23.282]</td>\n",
       "      <td>Paraná</td>\n",
       "      <td>45465782</td>\n",
       "      <td>Abatiá</td>\n",
       "      <td>Brazil</td>\n",
       "      <td>0.595761</td>\n",
       "      <td>S</td>\n",
       "      <td>NOAA-18</td>\n",
       "      <td>False</td>\n",
       "      <td>2016-11-24T22:44:22Z</td>\n",
       "    </tr>\n",
       "    <tr>\n",
       "      <th>2</th>\n",
       "      <td>Mata Atlântica</td>\n",
       "      <td>[-50.327, -23.311]</td>\n",
       "      <td>Paraná</td>\n",
       "      <td>45465784</td>\n",
       "      <td>Abatiá</td>\n",
       "      <td>Brazil</td>\n",
       "      <td>0.412568</td>\n",
       "      <td>S</td>\n",
       "      <td>AQUA_M-T</td>\n",
       "      <td>True</td>\n",
       "      <td>2016-07-17T17:28:09Z</td>\n",
       "    </tr>\n",
       "    <tr>\n",
       "      <th>3</th>\n",
       "      <td>Mata Atlântica</td>\n",
       "      <td>[-50.324, -23.299]</td>\n",
       "      <td>Paraná</td>\n",
       "      <td>45465786</td>\n",
       "      <td>Abatiá</td>\n",
       "      <td>Brazil</td>\n",
       "      <td>0.918636</td>\n",
       "      <td>S</td>\n",
       "      <td>NPP_375</td>\n",
       "      <td>False</td>\n",
       "      <td>2016-04-06T16:47:52Z</td>\n",
       "    </tr>\n",
       "    <tr>\n",
       "      <th>4</th>\n",
       "      <td>Mata Atlântica</td>\n",
       "      <td>[-50.241, -23.266]</td>\n",
       "      <td>Paraná</td>\n",
       "      <td>45465788</td>\n",
       "      <td>Abatiá</td>\n",
       "      <td>Brazil</td>\n",
       "      <td>0.835385</td>\n",
       "      <td>S</td>\n",
       "      <td>NPP_375</td>\n",
       "      <td>False</td>\n",
       "      <td>2016-04-05T04:38:37Z</td>\n",
       "    </tr>\n",
       "  </tbody>\n",
       "</table>\n",
       "</div>"
      ],
      "text/plain": [
       "            bioma         coordinates  estado        id municipio    pais  \\\n",
       "0  Mata Atlântica  [-50.321, -23.297]  Paraná  45465778    Abatiá  Brazil   \n",
       "1  Mata Atlântica  [-50.232, -23.282]  Paraná  45465782    Abatiá  Brazil   \n",
       "2  Mata Atlântica  [-50.327, -23.311]  Paraná  45465784    Abatiá  Brazil   \n",
       "3  Mata Atlântica  [-50.324, -23.299]  Paraná  45465786    Abatiá  Brazil   \n",
       "4  Mata Atlântica  [-50.241, -23.266]  Paraná  45465788    Abatiá  Brazil   \n",
       "\n",
       "       rand regiao  satelite  satelite_referencia             timestamp  \n",
       "0  0.344233     S        NPP                False  2016-04-06T16:43:05Z  \n",
       "1  0.595761     S    NOAA-18                False  2016-11-24T22:44:22Z  \n",
       "2  0.412568     S   AQUA_M-T                 True  2016-07-17T17:28:09Z  \n",
       "3  0.918636     S    NPP_375                False  2016-04-06T16:47:52Z  \n",
       "4  0.835385     S    NPP_375                False  2016-04-05T04:38:37Z  "
      ]
     },
     "metadata": {},
     "output_type": "display_data"
    }
   ],
   "source": [
    "# Obtendo uma coleção com 5 recursos\n",
    "from IPython.display import display, HTML \n",
    "display(HTML(\"<style>.dataframe{font-size: 16px !important;}</style>\"))\n",
    "\n",
    "# recupera uma coleção de features (focos)\n",
    "fc, fc_metadata = b.feature_collection(\"esensing:focos_bra_2016\", \n",
    "                          max_features=5)\n",
    "\n",
    "print(\"Recuperados: {} de {}\".format(fc_metadata['total'], fc_metadata['total_features']))\n",
    "display(fc)"
   ]
  },
  {
   "cell_type": "code",
   "execution_count": 29,
   "metadata": {
    "slideshow": {
     "slide_type": "subslide"
    }
   },
   "outputs": [
    {
     "name": "stdout",
     "output_type": "stream",
     "text": [
      "Recuperados 5 de 1527\n"
     ]
    },
    {
     "data": {
      "text/html": [
       "<div>\n",
       "<style>\n",
       "    .dataframe thead tr:only-child th {\n",
       "        text-align: right;\n",
       "    }\n",
       "\n",
       "    .dataframe thead th {\n",
       "        text-align: left;\n",
       "    }\n",
       "\n",
       "    .dataframe tbody tr th {\n",
       "        vertical-align: top;\n",
       "    }\n",
       "</style>\n",
       "<table border=\"1\" class=\"dataframe\">\n",
       "  <thead>\n",
       "    <tr style=\"text-align: right;\">\n",
       "      <th></th>\n",
       "      <th>bioma</th>\n",
       "      <th>coordinates</th>\n",
       "      <th>estado</th>\n",
       "      <th>regiao</th>\n",
       "      <th>timestamp</th>\n",
       "    </tr>\n",
       "  </thead>\n",
       "  <tbody>\n",
       "    <tr>\n",
       "      <th>0</th>\n",
       "      <td>Amazônia</td>\n",
       "      <td>[-50.675, 0.808]</td>\n",
       "      <td>Amapá</td>\n",
       "      <td>N</td>\n",
       "      <td>2016-10-08T04:40:35Z</td>\n",
       "    </tr>\n",
       "    <tr>\n",
       "      <th>1</th>\n",
       "      <td>Amazônia</td>\n",
       "      <td>[-50.216, 0.963]</td>\n",
       "      <td>Amapá</td>\n",
       "      <td>N</td>\n",
       "      <td>2016-12-07T16:53:42Z</td>\n",
       "    </tr>\n",
       "    <tr>\n",
       "      <th>2</th>\n",
       "      <td>Amazônia</td>\n",
       "      <td>[-51.022, 0.253]</td>\n",
       "      <td>Amapá</td>\n",
       "      <td>N</td>\n",
       "      <td>2016-11-09T17:24:00Z</td>\n",
       "    </tr>\n",
       "    <tr>\n",
       "      <th>3</th>\n",
       "      <td>Amazônia</td>\n",
       "      <td>[-50.754, 0.452]</td>\n",
       "      <td>Amapá</td>\n",
       "      <td>N</td>\n",
       "      <td>2016-08-28T16:50:00Z</td>\n",
       "    </tr>\n",
       "    <tr>\n",
       "      <th>4</th>\n",
       "      <td>Amazônia</td>\n",
       "      <td>[-51.03, 0.36]</td>\n",
       "      <td>Amapá</td>\n",
       "      <td>N</td>\n",
       "      <td>2016-11-12T20:30:00Z</td>\n",
       "    </tr>\n",
       "  </tbody>\n",
       "</table>\n",
       "</div>"
      ],
      "text/plain": [
       "      bioma       coordinates estado regiao             timestamp\n",
       "0  Amazônia  [-50.675, 0.808]  Amapá     N   2016-10-08T04:40:35Z\n",
       "1  Amazônia  [-50.216, 0.963]  Amapá     N   2016-12-07T16:53:42Z\n",
       "2  Amazônia  [-51.022, 0.253]  Amapá     N   2016-11-09T17:24:00Z\n",
       "3  Amazônia  [-50.754, 0.452]  Amapá     N   2016-08-28T16:50:00Z\n",
       "4  Amazônia    [-51.03, 0.36]  Amapá     N   2016-11-12T20:30:00Z"
      ]
     },
     "metadata": {},
     "output_type": "display_data"
    }
   ],
   "source": [
    "# Obtendo atributos específicos de coleção de focos de uma área específica\n",
    "area=(\"POLYGON((-49.8929205749999 1.21448026000007, -50.945202767 0.671596891000149,\"\n",
    "                \"-51.2334818149999 0.0142109470000378,-49.8929205749999 1.21448026000007))\")\n",
    "\n",
    "# recupera uma coleção de feições (focos) de uma area especifica\n",
    "fc, fc_metadata = b.feature_collection(\"esensing:focos_bra_2016\", \n",
    "                          attributes=(\"bioma\", \"estado\", \"regiao\", \"timestamp\"),\n",
    "                          within=area,\n",
    "                          filter=(\"regiao='N'\", \"timestamp>'2016-07-01'\"),\n",
    "                          max_features=5,\n",
    "                          sort_by=\"rand\")\n",
    "\n",
    "print(\"Recuperados {} de {}\".format(fc_metadata['total'], fc_metadata['total_features']))\n",
    "display(fc)"
   ]
  },
  {
   "cell_type": "code",
   "execution_count": 30,
   "metadata": {
    "slideshow": {
     "slide_type": "subslide"
    }
   },
   "outputs": [
    {
     "data": {
      "text/html": [
       "<div>\n",
       "<style>\n",
       "    .dataframe thead tr:only-child th {\n",
       "        text-align: right;\n",
       "    }\n",
       "\n",
       "    .dataframe thead th {\n",
       "        text-align: left;\n",
       "    }\n",
       "\n",
       "    .dataframe tbody tr th {\n",
       "        vertical-align: top;\n",
       "    }\n",
       "</style>\n",
       "<table border=\"1\" class=\"dataframe\">\n",
       "  <thead>\n",
       "    <tr style=\"text-align: right;\">\n",
       "      <th></th>\n",
       "      <th>Região</th>\n",
       "      <th>Total</th>\n",
       "    </tr>\n",
       "  </thead>\n",
       "  <tbody>\n",
       "    <tr>\n",
       "      <th>0</th>\n",
       "      <td>Norte</td>\n",
       "      <td>858859</td>\n",
       "    </tr>\n",
       "    <tr>\n",
       "      <th>1</th>\n",
       "      <td>Nordeste</td>\n",
       "      <td>500847</td>\n",
       "    </tr>\n",
       "    <tr>\n",
       "      <th>2</th>\n",
       "      <td>Centro-Oeste</td>\n",
       "      <td>485374</td>\n",
       "    </tr>\n",
       "    <tr>\n",
       "      <th>3</th>\n",
       "      <td>Sudeste</td>\n",
       "      <td>130567</td>\n",
       "    </tr>\n",
       "    <tr>\n",
       "      <th>4</th>\n",
       "      <td>Sul</td>\n",
       "      <td>63747</td>\n",
       "    </tr>\n",
       "  </tbody>\n",
       "</table>\n",
       "</div>"
      ],
      "text/plain": [
       "         Região   Total\n",
       "0         Norte  858859\n",
       "1      Nordeste  500847\n",
       "2  Centro-Oeste  485374\n",
       "3       Sudeste  130567\n",
       "4           Sul   63747"
      ]
     },
     "metadata": {},
     "output_type": "display_data"
    }
   ],
   "source": [
    "# Verificando a quantidade de focos de queimadas de 2016 por região\n",
    "import pandas as pd\n",
    "total_N  = b.feature_collection_len(\"esensing:focos_bra_2016\", filter=\"regiao='N'\")\n",
    "total_NE = b.feature_collection_len(\"esensing:focos_bra_2016\", filter=\"regiao='NE'\")\n",
    "total_CO = b.feature_collection_len(\"esensing:focos_bra_2016\", filter=\"regiao='CO'\")\n",
    "total_SE = b.feature_collection_len(\"esensing:focos_bra_2016\", filter=\"regiao='SE'\")\n",
    "total_S  = b.feature_collection_len(\"esensing:focos_bra_2016\", filter=\"regiao='S'\")\n",
    "# tabulando os dados\n",
    "regioes = [\n",
    "    {\"Região\": \"Norte\", \"Total\": total_N}, {\"Região\": \"Nordeste\", \"Total\": total_NE},\n",
    "    {\"Região\": \"Centro-Oeste\", \"Total\": total_CO}, {\"Região\": \"Sudeste\", \"Total\": total_SE},\n",
    "    {\"Região\": \"Sul\", \"Total\": total_S}]\n",
    "# cria um data frame a partir da contagem de cada região\n",
    "regioes_df = pd.DataFrame(data=regioes)\n",
    "display(regioes_df)"
   ]
  },
  {
   "cell_type": "markdown",
   "metadata": {
    "slideshow": {
     "slide_type": "subslide"
    }
   },
   "source": [
    "### Acessando *coverages* através do BDQ.py\n",
    "\n",
    "\n",
    "\n"
   ]
  },
  {
   "cell_type": "code",
   "execution_count": 31,
   "metadata": {
    "slideshow": {
     "slide_type": "subslide"
    }
   },
   "outputs": [
    {
     "name": "stdout",
     "output_type": "stream",
     "text": [
      "climatologia\n",
      "landcover_igbp_2012\n",
      "ocorrencia_focos_2016\n",
      "rpth\n"
     ]
    }
   ],
   "source": [
    "# Obtendo a lista de coverages disponíveis\n",
    "\n",
    "# imprime as coverages disponíveis\n",
    "cv_list = b.list_coverages()\n",
    "for cv_name in cv_list[\"coverages\"]:\n",
    "    print(cv_name)"
   ]
  },
  {
   "cell_type": "code",
   "execution_count": 33,
   "metadata": {
    "slideshow": {
     "slide_type": "subslide"
    }
   },
   "outputs": [
    {
     "name": "stdout",
     "output_type": "stream",
     "text": [
      "Name       : rpth\n",
      "Timeline   : 2016-01-01, 2016-01-02 ... 2016-12-31\n",
      "Attributes :\n",
      "  humidity       : float\n",
      "  precipitation  : float\n",
      "  risk           : float\n",
      "  temperature    : float\n"
     ]
    }
   ],
   "source": [
    "# Obtendo a descrição do recurso rpth\n",
    "\n",
    "# recupera descrição da coverage\n",
    "cv_scheme = b.describe_coverage(\"rpth\")\n",
    "\n",
    "print(\"Name       : {}\".format(cv_scheme['name']))\n",
    "print(\"Timeline   : {} ... {}\".format(\", \".join(cv_scheme['timeline'][0:2]), cv_scheme['timeline'][-1]))\n",
    "print(\"Attributes :\")\n",
    "for k, v in cv_scheme['attributes'].items():\n",
    "    print(\"  {:<15s}: {}\".format(k, v['datatype']))"
   ]
  },
  {
   "cell_type": "code",
   "execution_count": 34,
   "metadata": {
    "slideshow": {
     "slide_type": "subslide"
    }
   },
   "outputs": [
    {
     "name": "stdout",
     "output_type": "stream",
     "text": [
      "{'total': 366}\n"
     ]
    },
    {
     "data": {
      "text/html": [
       "<div>\n",
       "<style>\n",
       "    .dataframe thead tr:only-child th {\n",
       "        text-align: right;\n",
       "    }\n",
       "\n",
       "    .dataframe thead th {\n",
       "        text-align: left;\n",
       "    }\n",
       "\n",
       "    .dataframe tbody tr th {\n",
       "        vertical-align: top;\n",
       "    }\n",
       "</style>\n",
       "<table border=\"1\" class=\"dataframe\">\n",
       "  <thead>\n",
       "    <tr style=\"text-align: right;\">\n",
       "      <th></th>\n",
       "      <th>humidity</th>\n",
       "      <th>precipitation</th>\n",
       "      <th>risk</th>\n",
       "      <th>temperature</th>\n",
       "    </tr>\n",
       "  </thead>\n",
       "  <tbody>\n",
       "    <tr>\n",
       "      <th>2016-01-01</th>\n",
       "      <td>0.620963</td>\n",
       "      <td>0.840492</td>\n",
       "      <td>4.730982e-02</td>\n",
       "      <td>303.245178</td>\n",
       "    </tr>\n",
       "    <tr>\n",
       "      <th>2016-01-02</th>\n",
       "      <td>0.531946</td>\n",
       "      <td>5.364658</td>\n",
       "      <td>2.144232e-02</td>\n",
       "      <td>303.892456</td>\n",
       "    </tr>\n",
       "    <tr>\n",
       "      <th>2016-01-03</th>\n",
       "      <td>0.734242</td>\n",
       "      <td>2.840686</td>\n",
       "      <td>2.945643e-02</td>\n",
       "      <td>300.913147</td>\n",
       "    </tr>\n",
       "    <tr>\n",
       "      <th>2016-01-04</th>\n",
       "      <td>0.535269</td>\n",
       "      <td>3.866830</td>\n",
       "      <td>3.422811e-02</td>\n",
       "      <td>304.197449</td>\n",
       "    </tr>\n",
       "    <tr>\n",
       "      <th>2016-01-05</th>\n",
       "      <td>0.921552</td>\n",
       "      <td>44.529121</td>\n",
       "      <td>3.121508e-07</td>\n",
       "      <td>298.102051</td>\n",
       "    </tr>\n",
       "  </tbody>\n",
       "</table>\n",
       "</div>"
      ],
      "text/plain": [
       "            humidity  precipitation          risk  temperature\n",
       "2016-01-01  0.620963       0.840492  4.730982e-02   303.245178\n",
       "2016-01-02  0.531946       5.364658  2.144232e-02   303.892456\n",
       "2016-01-03  0.734242       2.840686  2.945643e-02   300.913147\n",
       "2016-01-04  0.535269       3.866830  3.422811e-02   304.197449\n",
       "2016-01-05  0.921552      44.529121  3.121508e-07   298.102051"
      ]
     },
     "execution_count": 34,
     "metadata": {},
     "output_type": "execute_result"
    }
   ],
   "source": [
    "# Obtendo uma série temporal\n",
    "latitude  = -12\n",
    "longitude = -54\n",
    "\n",
    "# recupera a série temporal\n",
    "ts, ts_metadata = b.time_series(\"rpth\", \n",
    "                                (\"risk\", \"precipitation\", \"temperature\", \"humidity\"), \n",
    "                                latitude, longitude)\n",
    "print(ts_metadata)\n",
    "ts.head(n=5)"
   ]
  },
  {
   "cell_type": "markdown",
   "metadata": {
    "slideshow": {
     "slide_type": "slide"
    }
   },
   "source": [
    "## Carga de Dados\n",
    "<hr style=\"border:2px solid #0077b9;\">\n",
    "O fluxo para a carga de dados no SciDB é ilustrado pela imagem a seguir:\n",
    "<center><img src=\"./imgs/fluxo_dados.png\" alt=\"Fluxo de Dados\" style=\"width: 1200px;\"/></center>"
   ]
  },
  {
   "cell_type": "markdown",
   "metadata": {
    "slideshow": {
     "slide_type": "subslide"
    }
   },
   "source": [
    "### Repositórios\n",
    "<hr style=\"border:2px solid #0077b9;\">\n",
    "<center><img src=\"./imgs/interleaver_chunkfier.png\" alt=\"Fluxo de Dados\" style=\"width: 1200px;\"/></center>"
   ]
  },
  {
   "cell_type": "markdown",
   "metadata": {
    "slideshow": {
     "slide_type": "slide"
    }
   },
   "source": [
    "## Análise exploratória dos dados\n",
    "<hr style=\"border:2px solid #0077b9;\">\n",
    "\n",
    "<a href=\"Analise.ipynb\" target=\"_blank\">Analise.ipynb</a>\n"
   ]
  }
 ],
 "metadata": {
  "celltoolbar": "Slideshow",
  "kernelspec": {
   "display_name": "Python [ds]",
   "language": "python",
   "name": "ds"
  },
  "language_info": {
   "codemirror_mode": {
    "name": "ipython",
    "version": 2
   },
   "file_extension": ".py",
   "mimetype": "text/x-python",
   "name": "python",
   "nbconvert_exporter": "python",
   "pygments_lexer": "ipython2",
   "version": "2.7.13"
  }
 },
 "nbformat": 4,
 "nbformat_minor": 2
}

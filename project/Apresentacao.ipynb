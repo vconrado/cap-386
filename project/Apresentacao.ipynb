{
 "cells": [
  {
   "cell_type": "markdown",
   "metadata": {
    "slideshow": {
     "slide_type": "slide"
    }
   },
   "source": [
    "# Dados de Queimadas\n",
    "<hr style=\"border:2px solid #0077b9;\">\n",
    "\n",
    "Disciplina: CAP-389 Introdução a *Data Science*\n",
    "- Vitor Gomes\n",
    "- Orientadores: Gilberto Ribeiro e Karine Ferreira\n",
    "- Colaboração: Fabiano XXX\n"
   ]
  },
  {
   "cell_type": "markdown",
   "metadata": {
    "slideshow": {
     "slide_type": "slide"
    }
   },
   "source": [
    "## Objetivos\n",
    "<hr style=\"border:2px solid #0077b9;\">\n",
    "\n",
    "Fornecer uma estrutura para a utilização de grandes volumes de dados de queimadas com aplicações em *Data Science* e explorar os dados para avaliar o índice de risco.\n"
   ]
  },
  {
   "cell_type": "markdown",
   "metadata": {
    "slideshow": {
     "slide_type": "slide"
    }
   },
   "source": [
    "## Agenda\n",
    "<hr style=\"border:2px solid #0077b9;\">\n",
    "- Sobre os dados\n",
    "- Infraestrutura\n",
    "- Acesso aos dados (BDQ.py)\n",
    "    - Features\n",
    "    - Coverages\n",
    "- Disponibilizando novos produtos\n",
    "- Explorando os dados"
   ]
  },
  {
   "cell_type": "markdown",
   "metadata": {
    "slideshow": {
     "slide_type": "subslide"
    }
   },
   "source": [
    "## Sobre os dados\n",
    "<hr style=\"border:2px solid #0077b9;\">\n",
    "Os dados utilizados neste trabalho foram obtidos com o projeto **Queimadas-INPE** e com a **DGI-INPE**\n",
    "\n",
    "|  #  | Dado | Descrição | Formato | Res. Temp. | Res. Espacial | SRS | Tipo | Serviços |\n",
    "|:----|:-----|:------ --|:-------:|:----------:|:-------------:|:---:|:--------:|:---:|\n",
    "| 1 | Focos de Queimadas 2016 | 2.039.394 registros | PostgreSQL | Dados obtidos em 2017-08-11 | - | - | Feature | WFS |\n",
    "| 2 | Landcover IGBP 2012 | - | TIFF | Anual (1 cena) | 1200x1400 | - | Coverage | WTSS |\n",
    "| 3 | Temperatura | -  | NetCDF | Diário (366 cenas) | 1200x1400 | - | Coverage | WTSS |\n",
    "| 4 | Humidade | -  | NetCDF | Diário (366 cenas) | 1200x1400 | - | Coverage | WTSS |\n",
    "| 5 | Risco de Fogo | -  | NetCDF | Diário (366 cenas) | 1200x1400 | - | Coverage | WTSS |\n",
    "| 6 | Precipitação | - | NetCDF | Diário (366 cenas) | 1200x1400 | - | Coverage | WTSS |\n",
    "| 7 | Ocorrência de focos | Gerado a partir do item 1 | TIFF | Mensal (12 cenas) | 1200x1400 | - | Coverage | WTSS |\n",
    "| 8 | Temperatura média mensal | Normal de Temperatura | HDR | Mensal (12 cenas) | 226x196 | - | Coverage | WTSS | |\n",
    "| 9 | Precipitação média mensal | Normal de Precipitação | HDR | Mensal (12 cenas) | 226x196 | - | Coverage | WTSS |\n",
    "| 10 | Umidade relativa média mensal | Normal de Umidade relativa | HDR | Mensal (12 cenas) | 226x196 | - | Coverage | WTSS |\n",
    "\n",
    "\n",
    "\n"
   ]
  },
  {
   "cell_type": "markdown",
   "metadata": {
    "slideshow": {
     "slide_type": "subslide"
    }
   },
   "source": [
    "<table>\n",
    "<tr>\n",
    "<td><img src=\"./imgs/focos_bra_2016.png\" alt=\"Focos BRA 2016\" style=\"height: 150px;\"/></td>\n",
    "<td><img src=\"./imgs/land_cover_2012.png\" alt=\"Landcover IGBP 2012\" style=\"height: 150px;\"/></td>\n",
    "<td><img src=\"./imgs/risco.png\" alt=\"Risco 2016\" style=\"height: 150px;\"/></td>\n",
    "<td><img src=\"./imgs/precipitacao.png\" alt=\"Precipitação 2016\" style=\"height: 150px;\"/></td>\n",
    "</tr>\n",
    "<tr>\n",
    "<td style=\"text-align: center\">1. Focos BRA 2016</td>\n",
    "<td style=\"text-align: center\">2. Landcover IGBP 2012</td>\n",
    "<td style=\"text-align: center\">3. Risco 01-01-2016</td>\n",
    "<td style=\"text-align: center\">4. Precipitação 01-01-2016</td>\n",
    "</tr>\n",
    "<tr>\n",
    "<td><img src=\"./imgs/temperatura.png\" alt=\"Temperatura 2016\" style=\"height: 150px;\"/></td>\n",
    "<td><img src=\"./imgs/umidade.png\" alt=\"Umidade 2016\" style=\"height: 150px;\"/></td>\n",
    "<td><img src=\"./imgs/prec_normal.png\" alt=\"Precipitação 2016\" style=\"height: 150px;\"/></td>\n",
    "<td><img src=\"./imgs/temp_normal.png\" alt=\"Temperatura 2016\" style=\"height: 150px;\"/></td>\n",
    "</tr>\n",
    "<tr>\n",
    "<td style=\"text-align: center\">5. Temperatura 01-01-2016</td>\n",
    "<td style=\"text-align: center\">6. Umidade 01-01-2016</td>\n",
    "<td style=\"text-align: center\">7. Precipitação Normal Jan</td>\n",
    "<td style=\"text-align: center\">8. Temperatura Normal Jan</td>\n",
    "</tr>\n",
    "<tr>\n",
    "<td><img src=\"./imgs/umi_normal.png\" alt=\"Umidade 2016\" style=\"height: 150px;\"/></td>\n",
    "<td><img src=\"./imgs/qtd_focos.png\" alt=\"Quantidade de focos\" style=\"height: 150px;\"/></td>\n",
    "<td></td>\n",
    "<td></td>\n",
    "</tr>\n",
    "<tr>\n",
    "<td style=\"text-align: center\">9. Umidade Normal Jan</td>\n",
    "<td style=\"text-align: center\">10. Quantidade de focos Jan</td>\n",
    "<td></td>\n",
    "<td></td>\n",
    "</tr>\n",
    "</table>"
   ]
  },
  {
   "cell_type": "markdown",
   "metadata": {
    "slideshow": {
     "slide_type": "slide"
    }
   },
   "source": [
    "## Infraestrutura\n",
    "<hr style=\"border:2px solid #0077b9;\">"
   ]
  },
  {
   "cell_type": "markdown",
   "metadata": {
    "slideshow": {
     "slide_type": "subslide"
    }
   },
   "source": [
    "<img src=\"./imgs/arquitetura0.png\" alt=\"Arquitetura 1\" style=\"width: 500px;\"/>"
   ]
  },
  {
   "cell_type": "markdown",
   "metadata": {
    "slideshow": {
     "slide_type": "subslide"
    }
   },
   "source": [
    "<img src=\"./imgs/arquitetura1.png\" alt=\"Arquitetura 1\" style=\"width: 1200px;\"/>"
   ]
  },
  {
   "cell_type": "markdown",
   "metadata": {
    "slideshow": {
     "slide_type": "subslide"
    }
   },
   "source": [
    "<img src=\"./imgs/arquitetura2.png\" alt=\"Arquitetura 2\" style=\"width: 1200px;\"/>"
   ]
  },
  {
   "cell_type": "markdown",
   "metadata": {
    "slideshow": {
     "slide_type": "slide"
    }
   },
   "source": [
    "## BDQ.py\n",
    "<hr style=\"border:2px solid #0077b9;\">"
   ]
  },
  {
   "cell_type": "markdown",
   "metadata": {
    "slideshow": {
     "slide_type": "subslide"
    }
   },
   "source": [
    "O [Cliente Python BDQ.py](https://github.com/vconrado/bdq.py) permite o acesso a <span style=\"color:#16CAC3\">*Features*</span> e <span style=\"color:#E8641B\">*Coverages*</span> do BDQ disponibilizados pelos serviços WFS e WTSS. O BDQ.py fornece sete operações:\n",
    "- <span style=\"color:#16CAC3\">**list_features**</span>: lista as *features* disponíveis no servidor;\n",
    "- <span style=\"color:#16CAC3\">**describe_feature**</span>: obtém a descrição de uma determinada *feature*;\n",
    "- <span style=\"color:#16CAC3\">**feature_collection**</span>: obtém uma coleção de *features*;\n",
    "- <span style=\"color:#16CAC3\">**feature_collection_len**</span>: obtém o tamanho de uma coleção de *features*;\n",
    "- <span style=\"color:#E8641B\">**list_coverage**</span>: lista as *coverages* disponíveis no servidor;\n",
    "- <span style=\"color:#E8641B\">**describe_coverage**</span>: obtém a descrição de um determinada *coverage*;\n",
    "- <span style=\"color:#E8641B\">**time_series**</span>: obtém a série temporal de uma *coverage* selecionada."
   ]
  },
  {
   "cell_type": "markdown",
   "metadata": {
    "slideshow": {
     "slide_type": "subslide"
    }
   },
   "source": [
    "### Acessando *features* através do BDQ.py"
   ]
  },
  {
   "cell_type": "code",
   "execution_count": 1,
   "metadata": {
    "slideshow": {
     "slide_type": "subslide"
    }
   },
   "outputs": [
    {
     "data": {
      "text/html": [
       "<style>.dataframe{font-size: 16px !important;}</style>"
      ],
      "text/plain": [
       "<IPython.core.display.HTML object>"
      ]
     },
     "metadata": {},
     "output_type": "display_data"
    },
    {
     "name": "stdout",
     "output_type": "stream",
     "text": [
      "esensing:focos_bra_2016\n",
      "esensing:focos_bra_2016_01_01\n"
     ]
    }
   ],
   "source": [
    "# Obtendo a lista de feições disponíveis\n",
    "from bdq import bdq;\n",
    "import pandas as pd\n",
    "from IPython.display import display, HTML \n",
    "display(HTML(\"<style>.dataframe{font-size: 16px !important;}</style>\"))\n",
    "\n",
    "# conecta ao servidor WFS\n",
    "b = bdq(wfs_server=\"http://localhost:8080/geoserver-esensing/\", wtss_server=\"http://localhost:7654\")\n",
    "\n",
    "# recupera lista de feições\n",
    "ft_list = b.list_features()\n",
    "\n",
    "for feature in ft_list['features']:\n",
    "    print(feature)"
   ]
  },
  {
   "cell_type": "code",
   "execution_count": 2,
   "metadata": {
    "scrolled": true,
    "slideshow": {
     "slide_type": "subslide"
    }
   },
   "outputs": [
    {
     "name": "stdout",
     "output_type": "stream",
     "text": [
      "Name : esensing:focos_bra_2016\n",
      "Attributes:\n",
      "  id                  : int\n",
      "  municipio           : string\n",
      "  estado              : string\n",
      "  regiao              : string\n",
      "  pais                : string\n",
      "  satelite            : string\n",
      "  bioma               : string\n",
      "  vegetacao           : string\n",
      "  path_row            : string\n",
      "  timestamp           : date-time\n",
      "  frp                 : number\n",
      "  satelite_referencia : boolean\n",
      "  rand                : number\n",
      "  geometria           : Point\n"
     ]
    }
   ],
   "source": [
    "# Obtendo a descrição do recurso esensing:focos_bra_2016\n",
    "# recupera descrição da feição\n",
    "ft_scheme = b.describe_feature(\"esensing:focos_bra_2016\")\n",
    "print(\"Name : {}\".format(ft_scheme['full_name']))\n",
    "print(\"Attributes:\")\n",
    "for attr in ft_scheme['attributes']:\n",
    "     print(\"  {:<20s}: {}\".format(attr['name'], attr['datatype']))"
   ]
  },
  {
   "cell_type": "code",
   "execution_count": 6,
   "metadata": {
    "slideshow": {
     "slide_type": "subslide"
    }
   },
   "outputs": [
    {
     "name": "stdout",
     "output_type": "stream",
     "text": [
      "Recuperados: 5 de 2039394\n"
     ]
    },
    {
     "data": {
      "text/html": [
       "<div>\n",
       "<style>\n",
       "    .dataframe thead tr:only-child th {\n",
       "        text-align: right;\n",
       "    }\n",
       "\n",
       "    .dataframe thead th {\n",
       "        text-align: left;\n",
       "    }\n",
       "\n",
       "    .dataframe tbody tr th {\n",
       "        vertical-align: top;\n",
       "    }\n",
       "</style>\n",
       "<table border=\"1\" class=\"dataframe\">\n",
       "  <thead>\n",
       "    <tr style=\"text-align: right;\">\n",
       "      <th></th>\n",
       "      <th>bioma</th>\n",
       "      <th>coordinates</th>\n",
       "      <th>estado</th>\n",
       "      <th>frp</th>\n",
       "      <th>id</th>\n",
       "      <th>municipio</th>\n",
       "      <th>pais</th>\n",
       "      <th>path_row</th>\n",
       "      <th>rand</th>\n",
       "      <th>regiao</th>\n",
       "      <th>satelite</th>\n",
       "      <th>satelite_referencia</th>\n",
       "      <th>timestamp</th>\n",
       "      <th>vegetacao</th>\n",
       "    </tr>\n",
       "  </thead>\n",
       "  <tbody>\n",
       "    <tr>\n",
       "      <th>0</th>\n",
       "      <td>Mata Atlântica</td>\n",
       "      <td>[-49.271, -24.8]</td>\n",
       "      <td>Paraná</td>\n",
       "      <td>None</td>\n",
       "      <td>45501304</td>\n",
       "      <td>Cerro Azul</td>\n",
       "      <td>Brazil</td>\n",
       "      <td>221_077</td>\n",
       "      <td>0.000001</td>\n",
       "      <td>S</td>\n",
       "      <td>NPP_375</td>\n",
       "      <td>False</td>\n",
       "      <td>2016-10-19T17:10:00Z</td>\n",
       "      <td>None</td>\n",
       "    </tr>\n",
       "    <tr>\n",
       "      <th>1</th>\n",
       "      <td>Amazônia</td>\n",
       "      <td>[-45.855, -1.852]</td>\n",
       "      <td>Maranhão</td>\n",
       "      <td>None</td>\n",
       "      <td>36254415</td>\n",
       "      <td>Governador Nunes Freire</td>\n",
       "      <td>Brazil</td>\n",
       "      <td>222_061</td>\n",
       "      <td>0.000002</td>\n",
       "      <td>NE</td>\n",
       "      <td>NOAA-18</td>\n",
       "      <td>False</td>\n",
       "      <td>2016-09-15T21:16:31Z</td>\n",
       "      <td>None</td>\n",
       "    </tr>\n",
       "    <tr>\n",
       "      <th>2</th>\n",
       "      <td>Amazônia</td>\n",
       "      <td>[-56.368, -1.912]</td>\n",
       "      <td>Pará</td>\n",
       "      <td>None</td>\n",
       "      <td>45097990</td>\n",
       "      <td>Terra Santa</td>\n",
       "      <td>Brazil</td>\n",
       "      <td>228_061</td>\n",
       "      <td>0.000003</td>\n",
       "      <td>N</td>\n",
       "      <td>NPP_375</td>\n",
       "      <td>False</td>\n",
       "      <td>2016-11-25T17:24:00Z</td>\n",
       "      <td>None</td>\n",
       "    </tr>\n",
       "    <tr>\n",
       "      <th>3</th>\n",
       "      <td>Amazônia</td>\n",
       "      <td>[-70.623, -8.879]</td>\n",
       "      <td>Acre</td>\n",
       "      <td>None</td>\n",
       "      <td>2479124</td>\n",
       "      <td>Feijó</td>\n",
       "      <td>Brazil</td>\n",
       "      <td>004_066</td>\n",
       "      <td>0.000003</td>\n",
       "      <td>N</td>\n",
       "      <td>NPP</td>\n",
       "      <td>False</td>\n",
       "      <td>2016-09-08T18:17:11Z</td>\n",
       "      <td>None</td>\n",
       "    </tr>\n",
       "    <tr>\n",
       "      <th>4</th>\n",
       "      <td>Mata Atlântica</td>\n",
       "      <td>[-43.332, -18.906]</td>\n",
       "      <td>Minas Gerais</td>\n",
       "      <td>None</td>\n",
       "      <td>41896384</td>\n",
       "      <td>Dom Joaquim</td>\n",
       "      <td>Brazil</td>\n",
       "      <td>218_073</td>\n",
       "      <td>0.000004</td>\n",
       "      <td>SE</td>\n",
       "      <td>NPP_375</td>\n",
       "      <td>False</td>\n",
       "      <td>2016-10-08T17:15:00Z</td>\n",
       "      <td>None</td>\n",
       "    </tr>\n",
       "  </tbody>\n",
       "</table>\n",
       "</div>"
      ],
      "text/plain": [
       "            bioma         coordinates        estado   frp        id  \\\n",
       "0  Mata Atlântica    [-49.271, -24.8]        Paraná  None  45501304   \n",
       "1        Amazônia   [-45.855, -1.852]      Maranhão  None  36254415   \n",
       "2        Amazônia   [-56.368, -1.912]          Pará  None  45097990   \n",
       "3        Amazônia   [-70.623, -8.879]          Acre  None   2479124   \n",
       "4  Mata Atlântica  [-43.332, -18.906]  Minas Gerais  None  41896384   \n",
       "\n",
       "                 municipio    pais path_row      rand regiao satelite  \\\n",
       "0               Cerro Azul  Brazil  221_077  0.000001     S   NPP_375   \n",
       "1  Governador Nunes Freire  Brazil  222_061  0.000002     NE  NOAA-18   \n",
       "2              Terra Santa  Brazil  228_061  0.000003     N   NPP_375   \n",
       "3                    Feijó  Brazil  004_066  0.000003     N       NPP   \n",
       "4              Dom Joaquim  Brazil  218_073  0.000004     SE  NPP_375   \n",
       "\n",
       "   satelite_referencia             timestamp vegetacao  \n",
       "0                False  2016-10-19T17:10:00Z      None  \n",
       "1                False  2016-09-15T21:16:31Z      None  \n",
       "2                False  2016-11-25T17:24:00Z      None  \n",
       "3                False  2016-09-08T18:17:11Z      None  \n",
       "4                False  2016-10-08T17:15:00Z      None  "
      ]
     },
     "metadata": {},
     "output_type": "display_data"
    }
   ],
   "source": [
    "# Obtendo a uma coleção com 5 recursos\n",
    "\n",
    "# recupera uma coleção de feições (focos)\n",
    "fc, fc_metadata = b.feature_collection(\"esensing:focos_bra_2016\", \n",
    "                          max_features=5)\n",
    "\n",
    "print(\"Recuperados: {} de {}\".format(fc_metadata['total'], fc_metadata['total_features']))\n",
    "display(fc)"
   ]
  },
  {
   "cell_type": "code",
   "execution_count": 9,
   "metadata": {
    "slideshow": {
     "slide_type": "subslide"
    }
   },
   "outputs": [
    {
     "name": "stdout",
     "output_type": "stream",
     "text": [
      "Recuperados 5 de 1541\n"
     ]
    },
    {
     "data": {
      "text/html": [
       "<div>\n",
       "<style>\n",
       "    .dataframe thead tr:only-child th {\n",
       "        text-align: right;\n",
       "    }\n",
       "\n",
       "    .dataframe thead th {\n",
       "        text-align: left;\n",
       "    }\n",
       "\n",
       "    .dataframe tbody tr th {\n",
       "        vertical-align: top;\n",
       "    }\n",
       "</style>\n",
       "<table border=\"1\" class=\"dataframe\">\n",
       "  <thead>\n",
       "    <tr style=\"text-align: right;\">\n",
       "      <th></th>\n",
       "      <th>bioma</th>\n",
       "      <th>coordinates</th>\n",
       "      <th>estado</th>\n",
       "      <th>regiao</th>\n",
       "      <th>timestamp</th>\n",
       "    </tr>\n",
       "  </thead>\n",
       "  <tbody>\n",
       "    <tr>\n",
       "      <th>0</th>\n",
       "      <td>Amazônia</td>\n",
       "      <td>[-50.98, 0.588]</td>\n",
       "      <td>Amapá</td>\n",
       "      <td>N</td>\n",
       "      <td>2016-08-22T14:15:53Z</td>\n",
       "    </tr>\n",
       "    <tr>\n",
       "      <th>1</th>\n",
       "      <td>Amazônia</td>\n",
       "      <td>[-50.977, 0.584]</td>\n",
       "      <td>Amapá</td>\n",
       "      <td>N</td>\n",
       "      <td>2016-12-14T14:03:13Z</td>\n",
       "    </tr>\n",
       "    <tr>\n",
       "      <th>2</th>\n",
       "      <td>Amazônia</td>\n",
       "      <td>[-50.917, 0.531]</td>\n",
       "      <td>Amapá</td>\n",
       "      <td>N</td>\n",
       "      <td>2016-10-21T16:29:05Z</td>\n",
       "    </tr>\n",
       "    <tr>\n",
       "      <th>3</th>\n",
       "      <td>Amazônia</td>\n",
       "      <td>[-51.095, 0.17]</td>\n",
       "      <td>Amapá</td>\n",
       "      <td>N</td>\n",
       "      <td>2016-10-31T16:50:00Z</td>\n",
       "    </tr>\n",
       "    <tr>\n",
       "      <th>4</th>\n",
       "      <td>Amazônia</td>\n",
       "      <td>[-51.086, 0.165]</td>\n",
       "      <td>Amapá</td>\n",
       "      <td>N</td>\n",
       "      <td>2016-10-31T13:40:00Z</td>\n",
       "    </tr>\n",
       "  </tbody>\n",
       "</table>\n",
       "</div>"
      ],
      "text/plain": [
       "      bioma       coordinates estado regiao             timestamp\n",
       "0  Amazônia   [-50.98, 0.588]  Amapá     N   2016-08-22T14:15:53Z\n",
       "1  Amazônia  [-50.977, 0.584]  Amapá     N   2016-12-14T14:03:13Z\n",
       "2  Amazônia  [-50.917, 0.531]  Amapá     N   2016-10-21T16:29:05Z\n",
       "3  Amazônia   [-51.095, 0.17]  Amapá     N   2016-10-31T16:50:00Z\n",
       "4  Amazônia  [-51.086, 0.165]  Amapá     N   2016-10-31T13:40:00Z"
      ]
     },
     "metadata": {},
     "output_type": "display_data"
    }
   ],
   "source": [
    "# Obtendo atributos específicos de coleção de focos de uma área específica\n",
    "\n",
    "area=(\"POLYGON((-49.8929205749999 1.21448026000007, -50.945202767 0.671596891000149,\"\n",
    "                \"-51.2334818149999 0.0142109470000378,-49.8929205749999 1.21448026000007))\")\n",
    "\n",
    "# recupera uma coleção de feições (focos) de uma area especifica\n",
    "fc, fc_metadata = b.feature_collection(\"esensing:focos_bra_2016\", \n",
    "                          attributes=(\"bioma\", \"estado\", \"regiao\", \"timestamp\"),\n",
    "                          within=area, \n",
    "                          max_features=5)\n",
    "\n",
    "print(\"Recuperados {} de {}\".format(fc_metadata['total'], fc_metadata['total_features']))\n",
    "display(fc)"
   ]
  },
  {
   "cell_type": "code",
   "execution_count": 10,
   "metadata": {
    "slideshow": {
     "slide_type": "subslide"
    }
   },
   "outputs": [
    {
     "name": "stdout",
     "output_type": "stream",
     "text": [
      "Done!\n"
     ]
    }
   ],
   "source": [
    "# Verificando a quantidade de focos de queimadas de 2016 por região\n",
    "\n",
    "# recupera uma feição (foco) de cada região como forma de obter o metadado total_features\n",
    "total_N  = b.feature_collection_len(\"esensing:focos_bra_2016\", filter=\"regiao='N'\")\n",
    "total_NE = b.feature_collection_len(\"esensing:focos_bra_2016\", filter=\"regiao='NE'\")\n",
    "total_CO = b.feature_collection_len(\"esensing:focos_bra_2016\", filter=\"regiao='CO'\")\n",
    "total_SE = b.feature_collection_len(\"esensing:focos_bra_2016\", filter=\"regiao='SE'\")\n",
    "total_S  = b.feature_collection_len(\"esensing:focos_bra_2016\", filter=\"regiao='S'\")\n",
    "\n",
    "print(\"Done!\")"
   ]
  },
  {
   "cell_type": "code",
   "execution_count": 11,
   "metadata": {
    "slideshow": {
     "slide_type": "subslide"
    }
   },
   "outputs": [
    {
     "data": {
      "text/html": [
       "<div>\n",
       "<style>\n",
       "    .dataframe thead tr:only-child th {\n",
       "        text-align: right;\n",
       "    }\n",
       "\n",
       "    .dataframe thead th {\n",
       "        text-align: left;\n",
       "    }\n",
       "\n",
       "    .dataframe tbody tr th {\n",
       "        vertical-align: top;\n",
       "    }\n",
       "</style>\n",
       "<table border=\"1\" class=\"dataframe\">\n",
       "  <thead>\n",
       "    <tr style=\"text-align: right;\">\n",
       "      <th></th>\n",
       "      <th>Região</th>\n",
       "      <th>Total</th>\n",
       "    </tr>\n",
       "  </thead>\n",
       "  <tbody>\n",
       "    <tr>\n",
       "      <th>0</th>\n",
       "      <td>Norte</td>\n",
       "      <td>858859</td>\n",
       "    </tr>\n",
       "    <tr>\n",
       "      <th>1</th>\n",
       "      <td>Nordeste</td>\n",
       "      <td>500847</td>\n",
       "    </tr>\n",
       "    <tr>\n",
       "      <th>2</th>\n",
       "      <td>Centro-Oeste</td>\n",
       "      <td>485374</td>\n",
       "    </tr>\n",
       "    <tr>\n",
       "      <th>3</th>\n",
       "      <td>Sudeste</td>\n",
       "      <td>130567</td>\n",
       "    </tr>\n",
       "    <tr>\n",
       "      <th>4</th>\n",
       "      <td>Sul</td>\n",
       "      <td>63747</td>\n",
       "    </tr>\n",
       "  </tbody>\n",
       "</table>\n",
       "</div>"
      ],
      "text/plain": [
       "         Região   Total\n",
       "0         Norte  858859\n",
       "1      Nordeste  500847\n",
       "2  Centro-Oeste  485374\n",
       "3       Sudeste  130567\n",
       "4           Sul   63747"
      ]
     },
     "metadata": {},
     "output_type": "display_data"
    }
   ],
   "source": [
    "# tabulando os dados\n",
    "regioes = [\n",
    "    {\"Região\": \"Norte\", \"Total\": total_N}, \n",
    "    {\"Região\": \"Nordeste\", \"Total\": total_NE},\n",
    "    {\"Região\": \"Centro-Oeste\", \"Total\": total_CO}, \n",
    "    {\"Região\": \"Sudeste\", \"Total\": total_SE},\n",
    "    {\"Região\": \"Sul\", \"Total\": total_S}]\n",
    "\n",
    "# cria um data frame a partir da contagem de cada região\n",
    "regioes_df = pd.DataFrame(data=regioes)\n",
    "display(regioes_df)"
   ]
  },
  {
   "cell_type": "markdown",
   "metadata": {
    "slideshow": {
     "slide_type": "subslide"
    }
   },
   "source": [
    "### Acessando *coverages* através do BDQ.py\n",
    "\n",
    "\n",
    "\n"
   ]
  },
  {
   "cell_type": "code",
   "execution_count": 14,
   "metadata": {
    "slideshow": {
     "slide_type": "subslide"
    }
   },
   "outputs": [
    {
     "name": "stdout",
     "output_type": "stream",
     "text": [
      "climatologia\n",
      "landcover_igbp_2012\n",
      "ocorrencia_focos_2016\n",
      "rpth\n"
     ]
    }
   ],
   "source": [
    "# Obtendo a lista de coverages disponíveis\n",
    "\n",
    "# imprime as coverages disponíveis\n",
    "cv_list = b.list_coverages()\n",
    "for cv_name in cv_list[\"coverages\"]:\n",
    "    print(cv_name)"
   ]
  },
  {
   "cell_type": "code",
   "execution_count": 10,
   "metadata": {
    "slideshow": {
     "slide_type": "subslide"
    }
   },
   "outputs": [
    {
     "name": "stdout",
     "output_type": "stream",
     "text": [
      "Name       : climatologia\n",
      "Timeline   : 2016-01-01, 2016-02-01 ... 2016-12-01\n",
      "Attributes :\n",
      "  precipitation       : float\n",
      "  temperature         : float\n",
      "  humidity            : float\n"
     ]
    }
   ],
   "source": [
    "# Obtendo a descrição do recurso rpth\n",
    "\n",
    "# recupera descrição da coverage\n",
    "cv_scheme = b.describe_coverage(\"climatologia\")\n",
    "\n",
    "print(\"Name       : {}\".format(cv_scheme['name']))\n",
    "print(\"Timeline   : {} ... {}\".format(\", \".join(cv_scheme['timeline'][0:2]), cv_scheme['timeline'][-1]))\n",
    "print(\"Attributes :\")\n",
    "for el in cv_scheme['attributes']:\n",
    "    attr = cv_scheme['attributes'][el]\n",
    "    print(\"  {:<20s}: {}\".format(el, attr['datatype']))"
   ]
  },
  {
   "cell_type": "code",
   "execution_count": 11,
   "metadata": {
    "slideshow": {
     "slide_type": "subslide"
    }
   },
   "outputs": [
    {
     "name": "stdout",
     "output_type": "stream",
     "text": [
      "{'total': 12}\n"
     ]
    },
    {
     "data": {
      "text/html": [
       "<div>\n",
       "<style>\n",
       "    .dataframe thead tr:only-child th {\n",
       "        text-align: right;\n",
       "    }\n",
       "\n",
       "    .dataframe thead th {\n",
       "        text-align: left;\n",
       "    }\n",
       "\n",
       "    .dataframe tbody tr th {\n",
       "        vertical-align: top;\n",
       "    }\n",
       "</style>\n",
       "<table border=\"1\" class=\"dataframe\">\n",
       "  <thead>\n",
       "    <tr style=\"text-align: right;\">\n",
       "      <th></th>\n",
       "      <th>humidity</th>\n",
       "      <th>precipitation</th>\n",
       "      <th>temperature</th>\n",
       "    </tr>\n",
       "  </thead>\n",
       "  <tbody>\n",
       "    <tr>\n",
       "      <th>2016-01-01</th>\n",
       "      <td>0.891427</td>\n",
       "      <td>318.807526</td>\n",
       "      <td>299.769012</td>\n",
       "    </tr>\n",
       "    <tr>\n",
       "      <th>2016-02-01</th>\n",
       "      <td>0.901437</td>\n",
       "      <td>310.824677</td>\n",
       "      <td>299.632324</td>\n",
       "    </tr>\n",
       "    <tr>\n",
       "      <th>2016-03-01</th>\n",
       "      <td>0.904110</td>\n",
       "      <td>261.827362</td>\n",
       "      <td>299.718994</td>\n",
       "    </tr>\n",
       "    <tr>\n",
       "      <th>2016-04-01</th>\n",
       "      <td>0.871960</td>\n",
       "      <td>141.142227</td>\n",
       "      <td>299.883667</td>\n",
       "    </tr>\n",
       "    <tr>\n",
       "      <th>2016-05-01</th>\n",
       "      <td>0.817240</td>\n",
       "      <td>38.000473</td>\n",
       "      <td>299.187988</td>\n",
       "    </tr>\n",
       "    <tr>\n",
       "      <th>2016-06-01</th>\n",
       "      <td>0.713490</td>\n",
       "      <td>8.123626</td>\n",
       "      <td>298.673004</td>\n",
       "    </tr>\n",
       "    <tr>\n",
       "      <th>2016-07-01</th>\n",
       "      <td>0.609053</td>\n",
       "      <td>4.661519</td>\n",
       "      <td>299.266998</td>\n",
       "    </tr>\n",
       "    <tr>\n",
       "      <th>2016-08-01</th>\n",
       "      <td>0.512537</td>\n",
       "      <td>12.356894</td>\n",
       "      <td>301.444336</td>\n",
       "    </tr>\n",
       "    <tr>\n",
       "      <th>2016-09-01</th>\n",
       "      <td>0.576700</td>\n",
       "      <td>70.878075</td>\n",
       "      <td>302.442322</td>\n",
       "    </tr>\n",
       "    <tr>\n",
       "      <th>2016-10-01</th>\n",
       "      <td>0.724877</td>\n",
       "      <td>172.728912</td>\n",
       "      <td>301.626984</td>\n",
       "    </tr>\n",
       "    <tr>\n",
       "      <th>2016-11-01</th>\n",
       "      <td>0.823420</td>\n",
       "      <td>229.432663</td>\n",
       "      <td>300.644989</td>\n",
       "    </tr>\n",
       "    <tr>\n",
       "      <th>2016-12-01</th>\n",
       "      <td>0.873417</td>\n",
       "      <td>303.897461</td>\n",
       "      <td>300.079010</td>\n",
       "    </tr>\n",
       "  </tbody>\n",
       "</table>\n",
       "</div>"
      ],
      "text/plain": [
       "            humidity  precipitation  temperature\n",
       "2016-01-01  0.891427     318.807526   299.769012\n",
       "2016-02-01  0.901437     310.824677   299.632324\n",
       "2016-03-01  0.904110     261.827362   299.718994\n",
       "2016-04-01  0.871960     141.142227   299.883667\n",
       "2016-05-01  0.817240      38.000473   299.187988\n",
       "2016-06-01  0.713490       8.123626   298.673004\n",
       "2016-07-01  0.609053       4.661519   299.266998\n",
       "2016-08-01  0.512537      12.356894   301.444336\n",
       "2016-09-01  0.576700      70.878075   302.442322\n",
       "2016-10-01  0.724877     172.728912   301.626984\n",
       "2016-11-01  0.823420     229.432663   300.644989\n",
       "2016-12-01  0.873417     303.897461   300.079010"
      ]
     },
     "metadata": {},
     "output_type": "display_data"
    }
   ],
   "source": [
    "# Obtendo uma série temporal\n",
    "\n",
    "latitude  = -12\n",
    "longitude = -54\n",
    "\n",
    "# recupera a série temporal\n",
    "ts, ts_metadata = b.time_series(\"climatologia\", (\"precipitation\", \"temperature\", \"humidity\"), latitude, longitude)\n",
    "print(ts_metadata)\n",
    "display(ts)\n"
   ]
  }
 ],
 "metadata": {
  "celltoolbar": "Slideshow",
  "kernelspec": {
   "display_name": "Python [ds]",
   "language": "python",
   "name": "ds"
  },
  "language_info": {
   "codemirror_mode": {
    "name": "ipython",
    "version": 2
   },
   "file_extension": ".py",
   "mimetype": "text/x-python",
   "name": "python",
   "nbconvert_exporter": "python",
   "pygments_lexer": "ipython2",
   "version": "2.7.13"
  }
 },
 "nbformat": 4,
 "nbformat_minor": 2
}

{
 "cells": [
  {
   "cell_type": "markdown",
   "metadata": {
    "slideshow": {
     "slide_type": "slide"
    }
   },
   "source": [
    "# Dados de Queimadas\n",
    "<hr style=\"border:2px solid #0077b9;\">\n",
    "\n",
    "Disciplina: CAP-389 Introdução a *Data Science*\n",
    "- Vitor Gomes\n",
    "- Orientadores: Gilberto Ribeiro e Karine Ferreira\n"
   ]
  },
  {
   "cell_type": "markdown",
   "metadata": {
    "slideshow": {
     "slide_type": "slide"
    }
   },
   "source": [
    "## Agenda\n",
    "\n",
    "- Sobre os dados\n",
    "- Infraestrutura\n",
    "- Acesso aos dados\n",
    "    - BDQ.py\n",
    "    - WTSS.py\n",
    "- Disponibilizando novos produtos"
   ]
  },
  {
   "cell_type": "markdown",
   "metadata": {
    "slideshow": {
     "slide_type": "slide"
    }
   },
   "source": [
    "## Sobre os dados\n",
    "\n",
    "|  #  | Dado | Descrição | Formato | Res. Temp. | Res. Espacial | SRS | Serviços | Detalhes |\n",
    "|:----|:-----|:------ --|:-------:|:----------:|:-------------:|:---:|:--------:|:---:|\n",
    "| 1 | Focos de Queimadas 2016 | 2.039.394 registros | PostgreSQL | Dados obtidos em 2017-08-11 | - | - | WFS | [mais](link) |\n",
    "| 2 | Landcover IGBP 2012 | - | TIFF | Anual (1 cena) | 1200x1400 | - | WTSS | [mais](link) |\n",
    "| 3 | Temperatura | -  | NetCDF | Diário (366 cenas) | 1200x1400 | - | WTSS | [mais](link) |\n",
    "| 4 | Humidade | -  | NetCDF | Diário (366 cenas) | 1200x1400 | - | WTSS | [mais](link) |\n",
    "| 5 | Risco de Fogo | -  | NetCDF | Diário (366 cenas) | 1200x1400 | - | WTSS | [mais](link) |\n",
    "| 6 | Precipitação | - | NetCDF | Diário (366 cenas) | 1200x1400 | - | WTSS | [mais](link) |\n",
    "| 7 | Ocorrência de focos | Gerado a partir do item 1 | TIFF | Mensal (12 cenas) | 1200x1400 | - | WTSS | [mais](link) |\n",
    "| 8 | Temperatura média mensal | Normal de Temperatura | HDR | Mensal (12 cenas) | 226x196 | - | WTSS | [mais](link) |\n",
    "| 9 | Precipitação média mensal | Normal de Precipitação | HDR | Mensal (12 cenas) | 226x196 | - | WTSS | [mais](link) |\n",
    "| 10 | Umidade relativa média mensal | Normal de Umidade relativa | HDR | Mensal (12 cenas) | 226x196 | - | WTSS | [mais](link) |\n"
   ]
  },
  {
   "cell_type": "markdown",
   "metadata": {
    "slideshow": {
     "slide_type": "subslide"
    }
   },
   "source": [
    "<table style=\"border: 1px solid #000\">\n",
    "<tr>\n",
    "<td><h3>1. Focos BRA 2016</h3></td>\n",
    "<td><h3>2. Landcover IGBP 2012</h3></td>\n",
    "<td><h3>3. Risco 01-01-2016</h3></td>\n",
    "<td><h3>4. Precipitação 01-01-2016</h3></td>\n",
    "</tr>\n",
    "<tr>\n",
    "<td><img src=\"./imgs/focos_bra_2016.png\" alt=\"Focos BRA 2016\" style=\"width: 200px;\"/></td>\n",
    "<td><img src=\"./imgs/land_cover_2012.png\" alt=\"Landcover IGBP 2012\" style=\"width: 200px;\"/></td>\n",
    "<td><img src=\"./imgs/risco.png\" alt=\"Risco 2016\" style=\"width: 200px;\"/></td>\n",
    "<td><img src=\"./imgs/precipitacao.png\" alt=\"Precipitação 2016\" style=\"width: 200px;\"/></td>\n",
    "</tr>\n",
    "<tr>\n",
    "<td><h3>5. Temperatura 01-01-2016</h3></td>\n",
    "<td><h3>6. Umidade 01-01-2016</h3></td>\n",
    "<td><h3>7. Precipitação Normal Jan</h3></td>\n",
    "<td><h3>8. Temperatura Normal Jan</h3></td>\n",
    "</tr>\n",
    "<tr>\n",
    "<td><img src=\"./imgs/temperatura.png\" alt=\"Temperatura 2016\" style=\"width: 200px;\"/></td>\n",
    "<td><img src=\"./imgs/umidade.png\" alt=\"Umidade 2016\" style=\"width: 200px;\"/></td>\n",
    "<td><img src=\"./imgs/prec_normal.png\" alt=\"Precipitação 2016\" style=\"width: 200px;\"/></td>\n",
    "<td><img src=\"./imgs/temp_normal.png\" alt=\"Temperatura 2016\" style=\"width: 200px;\"/></td>\n",
    "</tr>\n",
    "<tr>\n",
    "<td><h3>9. Umidade Normal Jan</h3></td>\n",
    "<td><h3>10. Quantidade de focos Jan</h3></td>\n",
    "<td></td>\n",
    "<td></td>\n",
    "</tr>\n",
    "<tr>\n",
    "<td><img src=\"./imgs/umi_normal.png\" alt=\"Umidade 2016\" style=\"width: 200px;\"/></td>\n",
    "<td><img src=\"./imgs/qtd_focos.png\" alt=\"Quantidade de focos\" style=\"width: 200px;\"/></td>\n",
    "<td></td>\n",
    "<td></td>\n",
    "</tr>\n",
    "</table>"
   ]
  },
  {
   "cell_type": "markdown",
   "metadata": {},
   "source": [
    "## Infraestrutura\n",
    "\n",
    "TODO: \n",
    "Diagrama com a infraestrutura \n",
    "- Cliente\n",
    "- WFS\n",
    "- WTSS\n",
    "    - SciDB\n",
    "        - Carga de dados"
   ]
  },
  {
   "cell_type": "markdown",
   "metadata": {
    "slideshow": {
     "slide_type": "slide"
    }
   },
   "source": [
    "## Serviços\n",
    "\n",
    "Comentar"
   ]
  },
  {
   "cell_type": "markdown",
   "metadata": {
    "slideshow": {
     "slide_type": "subslide"
    }
   },
   "source": [
    "### BDQ.py\n",
    "\n",
    "O [Cliente Python BDQ.py](https://github.com/vconrado/bdq.py) permite que usuários acessem aos dados de focos de queimadas disponibilizados através de WFS. Este cliente fornece três operações:\n",
    "- **list_features**: lista as feições disponíveis no servidor;\n",
    "- **describe_feature**: obtém a descrição de uma determinada feições;\n",
    "- **feature_collection**: obtém uma coleção de feições."
   ]
  },
  {
   "cell_type": "code",
   "execution_count": 157,
   "metadata": {
    "slideshow": {
     "slide_type": "subslide"
    }
   },
   "outputs": [
    {
     "name": "stdout",
     "output_type": "stream",
     "text": [
      "esensing:focos_bra_2016\n",
      "esensing:focos_bra_2016_01_01\n"
     ]
    }
   ],
   "source": [
    "# Obtendo a lista de feições disponíveis\n",
    "from bdq import bdq;\n",
    "import json\n",
    "\n",
    "# conecta ao servidor WFS\n",
    "b = bdq(\"http://my_geoserver:8080/geoserver-esensing\")\n",
    "\n",
    "# recupera lista de feições\n",
    "ft_list = b.list_features()\n",
    "\n",
    "for feature in ft_list['features']:\n",
    "    print(feature)"
   ]
  },
  {
   "cell_type": "code",
   "execution_count": 158,
   "metadata": {
    "scrolled": true,
    "slideshow": {
     "slide_type": "subslide"
    }
   },
   "outputs": [
    {
     "name": "stdout",
     "output_type": "stream",
     "text": [
      "Namespace : esensing\n",
      "Name      : focos_bra_2016\n",
      "Full Name : esensing:focos_bra_2016\n",
      "Attributes:\n",
      "  id                  : int\n",
      "  municipio           : string\n",
      "  estado              : string\n",
      "  regiao              : string\n",
      "  pais                : string\n",
      "  satelite            : string\n",
      "  bioma               : string\n",
      "  vegetacao           : string\n",
      "  path_row            : string\n",
      "  timestamp           : date-time\n",
      "  frp                 : number\n",
      "  satelite_referencia : boolean\n",
      "  geometria           : Point\n"
     ]
    }
   ],
   "source": [
    "# Obtendo a descrição do recurso esensing:focos_bra_2016\n",
    "\n",
    "# recupera descrição da feição\n",
    "ft_scheme = b.describe_feature(\"esensing:focos_bra_2016\")\n",
    "\n",
    "print(\"Namespace : {}\".format(ft_scheme['namespace']))\n",
    "print(\"Name      : {}\".format(ft_scheme['name']))\n",
    "print(\"Full Name : {}\".format(ft_scheme['full_name']))\n",
    "print(\"Attributes:\")\n",
    "for attr in ft_scheme['attributes']:\n",
    "     print(\"  {:<20s}: {}\".format(attr['name'], attr['datatype']))"
   ]
  },
  {
   "cell_type": "code",
   "execution_count": 159,
   "metadata": {
    "slideshow": {
     "slide_type": "subslide"
    }
   },
   "outputs": [
    {
     "name": "stdout",
     "output_type": "stream",
     "text": [
      "Recuperados: 5 de 2039394\n",
      "Features:\n",
      "[{u'regiao': u'S ', u'satelite_referencia': False, u'bioma': u'Mata Atl\\xe2ntica', u'timestamp': u'2016-04-06T16:43:05Z', u'path_row': u'221_076', 'coordinates': [-50.321, -23.297], u'vegetacao': None, u'frp': None, u'satelite': u'NPP', u'pais': u'Brazil', u'estado': u'Paran\\xe1', u'id': 45465778, u'municipio': u'Abati\\xe1'}, {u'regiao': u'S ', u'satelite_referencia': False, u'bioma': u'Mata Atl\\xe2ntica', u'timestamp': u'2016-11-24T22:44:22Z', u'path_row': u'221_076', 'coordinates': [-50.232, -23.282], u'vegetacao': None, u'frp': None, u'satelite': u'NOAA-18', u'pais': u'Brazil', u'estado': u'Paran\\xe1', u'id': 45465782, u'municipio': u'Abati\\xe1'}, {u'regiao': u'S ', u'satelite_referencia': True, u'bioma': u'Mata Atl\\xe2ntica', u'timestamp': u'2016-07-17T17:28:09Z', u'path_row': u'221_076', 'coordinates': [-50.327, -23.311], u'vegetacao': None, u'frp': None, u'satelite': u'AQUA_M-T', u'pais': u'Brazil', u'estado': u'Paran\\xe1', u'id': 45465784, u'municipio': u'Abati\\xe1'}, {u'regiao': u'S ', u'satelite_referencia': False, u'bioma': u'Mata Atl\\xe2ntica', u'timestamp': u'2016-04-06T16:47:52Z', u'path_row': u'221_076', 'coordinates': [-50.324, -23.299], u'vegetacao': None, u'frp': None, u'satelite': u'NPP_375', u'pais': u'Brazil', u'estado': u'Paran\\xe1', u'id': 45465786, u'municipio': u'Abati\\xe1'}, {u'regiao': u'S ', u'satelite_referencia': False, u'bioma': u'Mata Atl\\xe2ntica', u'timestamp': u'2016-04-05T04:38:37Z', u'path_row': u'221_076', 'coordinates': [-50.241, -23.266], u'vegetacao': None, u'frp': None, u'satelite': u'NPP_375', u'pais': u'Brazil', u'estado': u'Paran\\xe1', u'id': 45465788, u'municipio': u'Abati\\xe1'}]\n"
     ]
    }
   ],
   "source": [
    "# Obtendo a uma coleção com 5 recursos\n",
    "\n",
    "# recupera uma coleção de feições (focos)\n",
    "fc = b.feature_collection(\"esensing:focos_bra_2016\", \n",
    "                          max_features=5)\n",
    "\n",
    "print(\"Recuperados: {} de {}\".format(fc['total'], fc['total_features']))\n",
    "\n",
    "print(\"Features:\")\n",
    "print(fc['features'])"
   ]
  },
  {
   "cell_type": "code",
   "execution_count": 160,
   "metadata": {
    "slideshow": {
     "slide_type": "subslide"
    }
   },
   "outputs": [
    {
     "data": {
      "text/html": [
       "<div>\n",
       "<style>\n",
       "    .dataframe thead tr:only-child th {\n",
       "        text-align: right;\n",
       "    }\n",
       "\n",
       "    .dataframe thead th {\n",
       "        text-align: left;\n",
       "    }\n",
       "\n",
       "    .dataframe tbody tr th {\n",
       "        vertical-align: top;\n",
       "    }\n",
       "</style>\n",
       "<table border=\"1\" class=\"dataframe\">\n",
       "  <thead>\n",
       "    <tr style=\"text-align: right;\">\n",
       "      <th></th>\n",
       "      <th>bioma</th>\n",
       "      <th>coordinates</th>\n",
       "      <th>estado</th>\n",
       "      <th>frp</th>\n",
       "      <th>id</th>\n",
       "      <th>municipio</th>\n",
       "      <th>pais</th>\n",
       "      <th>path_row</th>\n",
       "      <th>regiao</th>\n",
       "      <th>satelite</th>\n",
       "      <th>satelite_referencia</th>\n",
       "      <th>timestamp</th>\n",
       "      <th>vegetacao</th>\n",
       "    </tr>\n",
       "  </thead>\n",
       "  <tbody>\n",
       "    <tr>\n",
       "      <th>0</th>\n",
       "      <td>Mata Atlântica</td>\n",
       "      <td>[-50.321, -23.297]</td>\n",
       "      <td>Paraná</td>\n",
       "      <td>None</td>\n",
       "      <td>45465778</td>\n",
       "      <td>Abatiá</td>\n",
       "      <td>Brazil</td>\n",
       "      <td>221_076</td>\n",
       "      <td>S</td>\n",
       "      <td>NPP</td>\n",
       "      <td>False</td>\n",
       "      <td>2016-04-06T16:43:05Z</td>\n",
       "      <td>None</td>\n",
       "    </tr>\n",
       "    <tr>\n",
       "      <th>1</th>\n",
       "      <td>Mata Atlântica</td>\n",
       "      <td>[-50.232, -23.282]</td>\n",
       "      <td>Paraná</td>\n",
       "      <td>None</td>\n",
       "      <td>45465782</td>\n",
       "      <td>Abatiá</td>\n",
       "      <td>Brazil</td>\n",
       "      <td>221_076</td>\n",
       "      <td>S</td>\n",
       "      <td>NOAA-18</td>\n",
       "      <td>False</td>\n",
       "      <td>2016-11-24T22:44:22Z</td>\n",
       "      <td>None</td>\n",
       "    </tr>\n",
       "    <tr>\n",
       "      <th>2</th>\n",
       "      <td>Mata Atlântica</td>\n",
       "      <td>[-50.327, -23.311]</td>\n",
       "      <td>Paraná</td>\n",
       "      <td>None</td>\n",
       "      <td>45465784</td>\n",
       "      <td>Abatiá</td>\n",
       "      <td>Brazil</td>\n",
       "      <td>221_076</td>\n",
       "      <td>S</td>\n",
       "      <td>AQUA_M-T</td>\n",
       "      <td>True</td>\n",
       "      <td>2016-07-17T17:28:09Z</td>\n",
       "      <td>None</td>\n",
       "    </tr>\n",
       "    <tr>\n",
       "      <th>3</th>\n",
       "      <td>Mata Atlântica</td>\n",
       "      <td>[-50.324, -23.299]</td>\n",
       "      <td>Paraná</td>\n",
       "      <td>None</td>\n",
       "      <td>45465786</td>\n",
       "      <td>Abatiá</td>\n",
       "      <td>Brazil</td>\n",
       "      <td>221_076</td>\n",
       "      <td>S</td>\n",
       "      <td>NPP_375</td>\n",
       "      <td>False</td>\n",
       "      <td>2016-04-06T16:47:52Z</td>\n",
       "      <td>None</td>\n",
       "    </tr>\n",
       "    <tr>\n",
       "      <th>4</th>\n",
       "      <td>Mata Atlântica</td>\n",
       "      <td>[-50.241, -23.266]</td>\n",
       "      <td>Paraná</td>\n",
       "      <td>None</td>\n",
       "      <td>45465788</td>\n",
       "      <td>Abatiá</td>\n",
       "      <td>Brazil</td>\n",
       "      <td>221_076</td>\n",
       "      <td>S</td>\n",
       "      <td>NPP_375</td>\n",
       "      <td>False</td>\n",
       "      <td>2016-04-05T04:38:37Z</td>\n",
       "      <td>None</td>\n",
       "    </tr>\n",
       "  </tbody>\n",
       "</table>\n",
       "</div>"
      ],
      "text/plain": [
       "            bioma         coordinates  estado   frp        id municipio  \\\n",
       "0  Mata Atlântica  [-50.321, -23.297]  Paraná  None  45465778    Abatiá   \n",
       "1  Mata Atlântica  [-50.232, -23.282]  Paraná  None  45465782    Abatiá   \n",
       "2  Mata Atlântica  [-50.327, -23.311]  Paraná  None  45465784    Abatiá   \n",
       "3  Mata Atlântica  [-50.324, -23.299]  Paraná  None  45465786    Abatiá   \n",
       "4  Mata Atlântica  [-50.241, -23.266]  Paraná  None  45465788    Abatiá   \n",
       "\n",
       "     pais path_row regiao  satelite  satelite_referencia  \\\n",
       "0  Brazil  221_076     S        NPP                False   \n",
       "1  Brazil  221_076     S    NOAA-18                False   \n",
       "2  Brazil  221_076     S   AQUA_M-T                 True   \n",
       "3  Brazil  221_076     S    NPP_375                False   \n",
       "4  Brazil  221_076     S    NPP_375                False   \n",
       "\n",
       "              timestamp vegetacao  \n",
       "0  2016-04-06T16:43:05Z      None  \n",
       "1  2016-11-24T22:44:22Z      None  \n",
       "2  2016-07-17T17:28:09Z      None  \n",
       "3  2016-04-06T16:47:52Z      None  \n",
       "4  2016-04-05T04:38:37Z      None  "
      ]
     },
     "metadata": {},
     "output_type": "display_data"
    }
   ],
   "source": [
    "# Convertendo para pandas.DataFrame\n",
    "import pandas as pd\n",
    "from IPython.display import display # para exibir o dataFrame pandas\n",
    "\n",
    "# cria um data frame a partir das feições (focos) obtidos\n",
    "fc_df = pd.DataFrame(fc['features'])\n",
    "\n",
    "display(fc_df)"
   ]
  },
  {
   "cell_type": "code",
   "execution_count": 161,
   "metadata": {
    "slideshow": {
     "slide_type": "subslide"
    }
   },
   "outputs": [
    {
     "name": "stdout",
     "output_type": "stream",
     "text": [
      "Recuperados 5 de 1541\n"
     ]
    },
    {
     "data": {
      "text/html": [
       "<div>\n",
       "<style>\n",
       "    .dataframe thead tr:only-child th {\n",
       "        text-align: right;\n",
       "    }\n",
       "\n",
       "    .dataframe thead th {\n",
       "        text-align: left;\n",
       "    }\n",
       "\n",
       "    .dataframe tbody tr th {\n",
       "        vertical-align: top;\n",
       "    }\n",
       "</style>\n",
       "<table border=\"1\" class=\"dataframe\">\n",
       "  <thead>\n",
       "    <tr style=\"text-align: right;\">\n",
       "      <th></th>\n",
       "      <th>bioma</th>\n",
       "      <th>coordinates</th>\n",
       "      <th>estado</th>\n",
       "      <th>regiao</th>\n",
       "      <th>timestamp</th>\n",
       "    </tr>\n",
       "  </thead>\n",
       "  <tbody>\n",
       "    <tr>\n",
       "      <th>0</th>\n",
       "      <td>Amazônia</td>\n",
       "      <td>[-50.98, 0.588]</td>\n",
       "      <td>Amapá</td>\n",
       "      <td>N</td>\n",
       "      <td>2016-08-22T14:15:53Z</td>\n",
       "    </tr>\n",
       "    <tr>\n",
       "      <th>1</th>\n",
       "      <td>Amazônia</td>\n",
       "      <td>[-50.977, 0.584]</td>\n",
       "      <td>Amapá</td>\n",
       "      <td>N</td>\n",
       "      <td>2016-12-14T14:03:13Z</td>\n",
       "    </tr>\n",
       "    <tr>\n",
       "      <th>2</th>\n",
       "      <td>Amazônia</td>\n",
       "      <td>[-50.917, 0.531]</td>\n",
       "      <td>Amapá</td>\n",
       "      <td>N</td>\n",
       "      <td>2016-10-21T16:29:05Z</td>\n",
       "    </tr>\n",
       "    <tr>\n",
       "      <th>3</th>\n",
       "      <td>Amazônia</td>\n",
       "      <td>[-51.095, 0.17]</td>\n",
       "      <td>Amapá</td>\n",
       "      <td>N</td>\n",
       "      <td>2016-10-31T16:50:00Z</td>\n",
       "    </tr>\n",
       "    <tr>\n",
       "      <th>4</th>\n",
       "      <td>Amazônia</td>\n",
       "      <td>[-51.086, 0.165]</td>\n",
       "      <td>Amapá</td>\n",
       "      <td>N</td>\n",
       "      <td>2016-10-31T13:40:00Z</td>\n",
       "    </tr>\n",
       "  </tbody>\n",
       "</table>\n",
       "</div>"
      ],
      "text/plain": [
       "      bioma       coordinates estado regiao             timestamp\n",
       "0  Amazônia   [-50.98, 0.588]  Amapá     N   2016-08-22T14:15:53Z\n",
       "1  Amazônia  [-50.977, 0.584]  Amapá     N   2016-12-14T14:03:13Z\n",
       "2  Amazônia  [-50.917, 0.531]  Amapá     N   2016-10-21T16:29:05Z\n",
       "3  Amazônia   [-51.095, 0.17]  Amapá     N   2016-10-31T16:50:00Z\n",
       "4  Amazônia  [-51.086, 0.165]  Amapá     N   2016-10-31T13:40:00Z"
      ]
     },
     "metadata": {},
     "output_type": "display_data"
    }
   ],
   "source": [
    "# Obtendo atributos específicos de coleção de focos de uma área específica\n",
    "\n",
    "area=(\"POLYGON((-49.8929205749999 1.21448026000007,\"\n",
    "               \"-50.945202767 0.671596891000149,\"\n",
    "               \"-51.2334818149999 0.0142109470000378,\"\n",
    "               \"-49.8929205749999 1.21448026000007))\")\n",
    "\n",
    "# recupera uma coleção de feições (focos) de uma area especifica\n",
    "fc = b.feature_collection(\"esensing:focos_bra_2016\", \n",
    "                          attributes=(\"bioma\", \"estado\", \"regiao\", \"timestamp\"),\n",
    "                          within=area, \n",
    "                          max_features=5)\n",
    "\n",
    "print(\"Recuperados {} de {}\".format(fc['total'], fc['total_features']))\n",
    "\n",
    "# cria um data frame a partir das feições (focos) obtidos\n",
    "fc_df = pd.DataFrame(fc['features'])\n",
    "display(fc_df)"
   ]
  },
  {
   "cell_type": "code",
   "execution_count": 162,
   "metadata": {
    "slideshow": {
     "slide_type": "subslide"
    }
   },
   "outputs": [
    {
     "data": {
      "text/html": [
       "<div>\n",
       "<style>\n",
       "    .dataframe thead tr:only-child th {\n",
       "        text-align: right;\n",
       "    }\n",
       "\n",
       "    .dataframe thead th {\n",
       "        text-align: left;\n",
       "    }\n",
       "\n",
       "    .dataframe tbody tr th {\n",
       "        vertical-align: top;\n",
       "    }\n",
       "</style>\n",
       "<table border=\"1\" class=\"dataframe\">\n",
       "  <thead>\n",
       "    <tr style=\"text-align: right;\">\n",
       "      <th></th>\n",
       "      <th>Região</th>\n",
       "      <th>Total</th>\n",
       "    </tr>\n",
       "  </thead>\n",
       "  <tbody>\n",
       "    <tr>\n",
       "      <th>0</th>\n",
       "      <td>Norte</td>\n",
       "      <td>858859</td>\n",
       "    </tr>\n",
       "    <tr>\n",
       "      <th>1</th>\n",
       "      <td>Nordeste</td>\n",
       "      <td>500847</td>\n",
       "    </tr>\n",
       "    <tr>\n",
       "      <th>2</th>\n",
       "      <td>Centro-Oeste</td>\n",
       "      <td>485374</td>\n",
       "    </tr>\n",
       "    <tr>\n",
       "      <th>3</th>\n",
       "      <td>Sudeste</td>\n",
       "      <td>130567</td>\n",
       "    </tr>\n",
       "    <tr>\n",
       "      <th>4</th>\n",
       "      <td>Sul</td>\n",
       "      <td>63747</td>\n",
       "    </tr>\n",
       "  </tbody>\n",
       "</table>\n",
       "</div>"
      ],
      "text/plain": [
       "         Região   Total\n",
       "0         Norte  858859\n",
       "1      Nordeste  500847\n",
       "2  Centro-Oeste  485374\n",
       "3       Sudeste  130567\n",
       "4           Sul   63747"
      ]
     },
     "metadata": {},
     "output_type": "display_data"
    }
   ],
   "source": [
    "# Verificando a quantidade de focos de queimadas de 2016 por região\n",
    "\n",
    "# recupera uma feição (foco) de cada região como forma de obter o metadado total_features\n",
    "fc_N  = b.feature_collection(\"esensing:focos_bra_2016\", filter=\"regiao='N'\",  attributes=(\"id\"), max_features=1)\n",
    "fc_NE = b.feature_collection(\"esensing:focos_bra_2016\", filter=\"regiao='NE'\", attributes=(\"id\"), max_features=1)\n",
    "fc_CO = b.feature_collection(\"esensing:focos_bra_2016\", filter=\"regiao='CO'\", attributes=(\"id\"), max_features=1)\n",
    "fc_SE = b.feature_collection(\"esensing:focos_bra_2016\", filter=\"regiao='SE'\", attributes=(\"id\"), max_features=1)\n",
    "fc_S  = b.feature_collection(\"esensing:focos_bra_2016\", filter=\"regiao='S'\",  attributes=(\"id\"), max_features=1)\n",
    "\n",
    "# tabulando os dados\n",
    "regioes = [\n",
    "    {\"Região\": \"Norte\", \"Total\": fc_N['total_features']},\n",
    "    {\"Região\": \"Nordeste\", \"Total\": fc_NE['total_features']},\n",
    "    {\"Região\": \"Centro-Oeste\", \"Total\": fc_CO['total_features']},\n",
    "    {\"Região\": \"Sudeste\", \"Total\": fc_SE['total_features']},\n",
    "    {\"Região\": \"Sul\", \"Total\": fc_S['total_features']}]\n",
    "\n",
    "# cria um data frame a partir da contagem de cada região\n",
    "regioes_df = pd.DataFrame(data=regioes)\n",
    "\n",
    "display(regioes_df)"
   ]
  },
  {
   "cell_type": "markdown",
   "metadata": {},
   "source": [
    "### WTSS.py\n",
    "\n",
    "O [Cliente Python para WTSS](https://github.com/e-sensing/wtss.py) permite que usuários acessem séries temporais de dados de Observação de Terra armazenados em um SGBD-M SciDB.O WTSS fornece três operações:\n",
    "\n",
    "- list_coverage: lista as *coverages* disponíveis no servidor;\n",
    "- describe_coverage: obtém a descrição de um determinada *coverage*;\n",
    "- time_series: obtém a série temporal de deteminada localização da *coverage* selecionada.\n",
    "\n",
    "\n",
    "\n"
   ]
  },
  {
   "cell_type": "code",
   "execution_count": 163,
   "metadata": {},
   "outputs": [
    {
     "name": "stdout",
     "output_type": "stream",
     "text": [
      "climatologia\n",
      "landcover_igbp_2012\n",
      "ocorrencia_focos_2016\n",
      "rpth\n"
     ]
    }
   ],
   "source": [
    "# Obtendo a lista de coverages disponíveis\n",
    "\n",
    "from wtss import wtss\n",
    "\n",
    "# conecta ao servidor WTSS\n",
    "w = wtss(\"http://wtss_server:7654\")\n",
    "\n",
    "# imprime as coverages disponíveis\n",
    "cv_list = w.list_coverages()\n",
    "for cv_name in cv_list[\"coverages\"]:\n",
    "    print(cv_name)"
   ]
  },
  {
   "cell_type": "code",
   "execution_count": 164,
   "metadata": {},
   "outputs": [
    {
     "name": "stdout",
     "output_type": "stream",
     "text": [
      "Name       : climatologia\n",
      "Timeline   : [u'2016-01-01', u'2016-02-01', u'2016-03-01'] ... [u'2016-10-01', u'2016-11-01', u'2016-12-01']\n",
      "Attributes :\n",
      "  precipitation       : float\n",
      "  temperature         : float\n",
      "  humidity            : float\n"
     ]
    }
   ],
   "source": [
    "# Obtendo a descrição do recurso rpth\n",
    "\n",
    "# recupera descrição da coverage\n",
    "cv_scheme = w.describe_coverage(\"climatologia\")\n",
    "\n",
    "print(\"Name       : {}\".format(cv_scheme['name']))\n",
    "print(\"Timeline   : {} ... {}\".format(cv_scheme['timeline'][0:3], \\\n",
    "                                    cv_scheme['timeline'][-3:]))\n",
    "print(\"Attributes :\")\n",
    "for el in cv_scheme['attributes']:\n",
    "    attr = cv_scheme['attributes'][el]\n",
    "    print(\"  {:<20s}: {}\".format(el, attr['datatype']))"
   ]
  },
  {
   "cell_type": "code",
   "execution_count": 165,
   "metadata": {},
   "outputs": [
    {
     "name": "stdout",
     "output_type": "stream",
     "text": [
      "Timeline      : 2016-01-01 ... 2016-12-01\n",
      "Precipitation : 318.807525635 ... 303.897460938\n",
      "Temperature   : 299.769012451 ... 300.07901001\n",
      "Humidity      : 0.891426622868 ... 0.873416662216\n"
     ]
    }
   ],
   "source": [
    "# Obtendo uma série temporal\n",
    "\n",
    "latitude  = -12\n",
    "longitude = -54\n",
    "\n",
    "# recupera a série temporal\n",
    "ts = w.time_series(\"climatologia\", (\"precipitation\", \"temperature\", \"humidity\"), latitude, longitude)\n",
    "\n",
    "print(\"Timeline      : {} ... {}\".format(ts.timeline[0], ts.timeline[-1]))\n",
    "print(\"Precipitation : {} ... {}\".format(ts['precipitation'][0], ts['precipitation'][-1]))\n",
    "print(\"Temperature   : {} ... {}\".format(ts['temperature'][0], ts['temperature'][-1]))\n",
    "print(\"Humidity      : {} ... {}\".format(ts['humidity'][0], ts['humidity'][-1]))"
   ]
  },
  {
   "cell_type": "code",
   "execution_count": 166,
   "metadata": {},
   "outputs": [
    {
     "data": {
      "text/html": [
       "<div>\n",
       "<style>\n",
       "    .dataframe thead tr:only-child th {\n",
       "        text-align: right;\n",
       "    }\n",
       "\n",
       "    .dataframe thead th {\n",
       "        text-align: left;\n",
       "    }\n",
       "\n",
       "    .dataframe tbody tr th {\n",
       "        vertical-align: top;\n",
       "    }\n",
       "</style>\n",
       "<table border=\"1\" class=\"dataframe\">\n",
       "  <thead>\n",
       "    <tr style=\"text-align: right;\">\n",
       "      <th></th>\n",
       "      <th>humidity</th>\n",
       "      <th>precipitation</th>\n",
       "      <th>temperature</th>\n",
       "    </tr>\n",
       "  </thead>\n",
       "  <tbody>\n",
       "    <tr>\n",
       "      <th>2016-01-01</th>\n",
       "      <td>0.891427</td>\n",
       "      <td>318.807526</td>\n",
       "      <td>299.769012</td>\n",
       "    </tr>\n",
       "    <tr>\n",
       "      <th>2016-02-01</th>\n",
       "      <td>0.901437</td>\n",
       "      <td>310.824677</td>\n",
       "      <td>299.632324</td>\n",
       "    </tr>\n",
       "    <tr>\n",
       "      <th>2016-03-01</th>\n",
       "      <td>0.904110</td>\n",
       "      <td>261.827362</td>\n",
       "      <td>299.718994</td>\n",
       "    </tr>\n",
       "    <tr>\n",
       "      <th>2016-04-01</th>\n",
       "      <td>0.871960</td>\n",
       "      <td>141.142227</td>\n",
       "      <td>299.883667</td>\n",
       "    </tr>\n",
       "    <tr>\n",
       "      <th>2016-05-01</th>\n",
       "      <td>0.817240</td>\n",
       "      <td>38.000473</td>\n",
       "      <td>299.187988</td>\n",
       "    </tr>\n",
       "    <tr>\n",
       "      <th>2016-06-01</th>\n",
       "      <td>0.713490</td>\n",
       "      <td>8.123626</td>\n",
       "      <td>298.673004</td>\n",
       "    </tr>\n",
       "    <tr>\n",
       "      <th>2016-07-01</th>\n",
       "      <td>0.609053</td>\n",
       "      <td>4.661519</td>\n",
       "      <td>299.266998</td>\n",
       "    </tr>\n",
       "    <tr>\n",
       "      <th>2016-08-01</th>\n",
       "      <td>0.512537</td>\n",
       "      <td>12.356894</td>\n",
       "      <td>301.444336</td>\n",
       "    </tr>\n",
       "    <tr>\n",
       "      <th>2016-09-01</th>\n",
       "      <td>0.576700</td>\n",
       "      <td>70.878075</td>\n",
       "      <td>302.442322</td>\n",
       "    </tr>\n",
       "    <tr>\n",
       "      <th>2016-10-01</th>\n",
       "      <td>0.724877</td>\n",
       "      <td>172.728912</td>\n",
       "      <td>301.626984</td>\n",
       "    </tr>\n",
       "    <tr>\n",
       "      <th>2016-11-01</th>\n",
       "      <td>0.823420</td>\n",
       "      <td>229.432663</td>\n",
       "      <td>300.644989</td>\n",
       "    </tr>\n",
       "    <tr>\n",
       "      <th>2016-12-01</th>\n",
       "      <td>0.873417</td>\n",
       "      <td>303.897461</td>\n",
       "      <td>300.079010</td>\n",
       "    </tr>\n",
       "  </tbody>\n",
       "</table>\n",
       "</div>"
      ],
      "text/plain": [
       "            humidity  precipitation  temperature\n",
       "2016-01-01  0.891427     318.807526   299.769012\n",
       "2016-02-01  0.901437     310.824677   299.632324\n",
       "2016-03-01  0.904110     261.827362   299.718994\n",
       "2016-04-01  0.871960     141.142227   299.883667\n",
       "2016-05-01  0.817240      38.000473   299.187988\n",
       "2016-06-01  0.713490       8.123626   298.673004\n",
       "2016-07-01  0.609053       4.661519   299.266998\n",
       "2016-08-01  0.512537      12.356894   301.444336\n",
       "2016-09-01  0.576700      70.878075   302.442322\n",
       "2016-10-01  0.724877     172.728912   301.626984\n",
       "2016-11-01  0.823420     229.432663   300.644989\n",
       "2016-12-01  0.873417     303.897461   300.079010"
      ]
     },
     "metadata": {},
     "output_type": "display_data"
    }
   ],
   "source": [
    "# Convertendo para pandas.DataFrame\n",
    "\n",
    "# organiza os dados em um dicionário\n",
    "data = {\n",
    "    \"precipitation\": ts['precipitation'],\n",
    "    \"temperature\": ts['temperature'],\n",
    "    \"humidity\": ts['humidity']}\n",
    "\n",
    "# cria o data frame\n",
    "ts_df = pd.DataFrame(data=data, index=ts.timeline)\n",
    "\n",
    "display(ts_df)"
   ]
  }
 ],
 "metadata": {
  "celltoolbar": "Slideshow",
  "kernelspec": {
   "display_name": "Python [ds]",
   "language": "python",
   "name": "ds"
  },
  "language_info": {
   "codemirror_mode": {
    "name": "ipython",
    "version": 2
   },
   "file_extension": ".py",
   "mimetype": "text/x-python",
   "name": "python",
   "nbconvert_exporter": "python",
   "pygments_lexer": "ipython2",
   "version": "2.7.13"
  }
 },
 "nbformat": 4,
 "nbformat_minor": 2
}

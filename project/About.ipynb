{
 "cells": [
  {
   "cell_type": "markdown",
   "metadata": {
    "slideshow": {
     "slide_type": "-"
    }
   },
   "source": [
    "# Resumo\n",
    "\n",
    "Este trabalho trata da preparação e disponibilização de uma série temporal de dados relacionados ao tema de queimadas de uma região do estado de São Paulo. Os seguintes dados do ano de 2016 serão utilizados:\n",
    "\n",
    "|  #  | Dado | Detalhes | Formato | Res. Temp. | Res. Espacial | SRS | Serviços | \n",
    "|:----|:-----|:------ --|:-------:|:----------:|:-------------:|:---:|:--------:|\n",
    "| 1 | Imagens Brutas Landsat8 | Órbita/Ponto 221/074, Bandas 1-11 | Tif | 16 dias (23 cenas) \\* | 7721x7841| EPSG 4326 | WTSS/WMS |\n",
    "| 2 | Índices NDVI, NBRL, DNDVI e DNBRL  | Órbita/Ponto 221/074 | Tif | 16 dias (23 cenas) \\* | 6676x6053 | EPSG 4326 | WTSS/WMS |\n",
    "| 3 | Máscara de Núvens | Órbita/Ponto 221/074 | Tif | 16 dias (23 cenas)\\* | 6676x6053 | EPSG 4326 | WTSS/WMS |\n",
    "| 4 | Reflectância Landsat8 | Órbita/Ponto 221/074, Bandas 2-7 | Tif | 16 dias (23 cenas)\\* | 6676x6053 | EPSG 4326 | WTSS/WMS |\n",
    "| 5 | Focos de Queimadas | 49721772 registros | Dump BD PostgreSQL | Dado do dia 2017-08-11 | - | - | WS próprio |\n",
    "| 6 | Talhões | 34560 registros | Shapefile | Dado do dia 2017-08-11 | - | EPSG 4326| WFS |\n",
    "| 7 | Temperatura e Umidade | -  | NetCDF | 1 dia (366 cenas) | 1200x1400 | - | WTSS/WMS |\n",
    "| 8 | Risco de Fogo | -  | NetCDF | 1 dia (306* cenas) | 1200x1400 | - | WTSS/WMS |\n",
    "| 9 | Precipitação | - | NetCDF | 1 dia (366 cenas) | 1200x1400 | - | WTSS/WMS |\n",
    "\n",
    "\n",
    "** \\* Datas**\n",
    ">   2016-01-11, 2016-01-27, 2016-02-12, 2016-02-28, 2016-03-15, 2016-03-31, 2016-04-16, 2016-05-02, 2016-05-18, 2016-06-03, 2016-06-19, 2016-07-05, 2016-07-21, 2016-08-06, 2016-08-22, 2016-09-07, 2016-09-23, 2016-10-09, 2016-10-25, 2016-11-10, 2016-11-26, 2016-12-12, 2016-12-28\n",
    "\n",
    "Além da preparação e disponibilização dos dados através de serviços web, será produzido um Notebook Python (ipynb) ilustrando o acesso e uso dos dados e uma análise dos dados.\n",
    "\n",
    " "
   ]
  },
  {
   "cell_type": "markdown",
   "metadata": {
    "slideshow": {
     "slide_type": "-"
    }
   },
   "source": [
    "# 1. Preparando os dados\n",
    "As subseções a seguir trazem detalhes sobre a preparação de cada conjunto de dados:\n"
   ]
  },
  {
   "cell_type": "markdown",
   "metadata": {
    "slideshow": {
     "slide_type": "-"
    }
   },
   "source": [
    "### 1.1. Imagens Brutas Landsat8"
   ]
  },
  {
   "cell_type": "markdown",
   "metadata": {
    "slideshow": {
     "slide_type": "-"
    }
   },
   "source": [
    "Os nomes dos arquivos segue o formato ([Fonte](https://landsat.usgs.gov/what-are-naming-conventions-landsat-scene-identifiers)):\n",
    "\n",
    "LXSPPPRRRYYYYDDDGSIVV_BB.tif:\n",
    "- L: Landsat\n",
    "- X: Sensor\n",
    "- S: Satellite\n",
    "- PPP: WRS path\n",
    "- RRR: WRS row\n",
    "- YYYY: Year\n",
    "- DDD: Julian day of year\n",
    "- GSI: Ground station identifier\n",
    "- VV: Archive version number\n",
    "- BB: Band name\n",
    "\n"
   ]
  },
  {
   "cell_type": "markdown",
   "metadata": {},
   "source": [
    "### 1.2. \tÍndices NDVI, NBRL, DNDVI e DNBRL"
   ]
  },
  {
   "cell_type": "markdown",
   "metadata": {},
   "source": [
    "### 1.3. Máscara de Núvens"
   ]
  },
  {
   "cell_type": "markdown",
   "metadata": {},
   "source": [
    "### 1.4. Reflectância Landsat8"
   ]
  },
  {
   "cell_type": "markdown",
   "metadata": {},
   "source": [
    "### 1.5. Focos de Queimadas"
   ]
  },
  {
   "cell_type": "markdown",
   "metadata": {},
   "source": [
    "### 1.6. Talhões"
   ]
  },
  {
   "cell_type": "markdown",
   "metadata": {},
   "source": [
    "### 1.7. Temperatura e Umidade"
   ]
  },
  {
   "cell_type": "markdown",
   "metadata": {},
   "source": [
    "Estes dados estão disponibilizados em formato netCDF com dois subsets em cada arquivo. Em parte dos dados (arquivos com nome no formato \"**GPOSNMC**[20160302182016030218]**P.icn.TQ0213L042.nc**\"), os subsets são *tems* e *umrs*. Para o outro grupo de arquivos (arquivos com nome no formato \"**BAM**20161231182016123118**.nc**\"), os subsets são *tk2m* e *ur2m*. \n",
    "\n",
    "Para extrair cada um dos subsets de cada tipo de arquivo, foram utilizados os seguintes comandos utilizando o *bash* do linux:\n",
    "\n",
    "\n",
    "`find . -name \"G*.nc\" -exec gdal_translate NETCDF:'{}':tems tif/'{}'.tk2m.tif \\;`\n",
    "\n",
    "`find . -name \"G*.nc\" -exec gdal_translate NETCDF:'{}':umrs tif/'{}'.ur2m.tif \\;`\n",
    "\n",
    "`find . -name \"B*.nc\" -exec gdal_translate NETCDF:'{}':tk2m tif/'{}'.tk2m.tif \\;`\n",
    "\n",
    "`find . -name \"B*.nc\" -exec gdal_translate NETCDF:'{}':ur2m tif/'{}'.ur2m.tif \\;`\n",
    "\n",
    "\n",
    "Para padronizar os nomes dos arquivos, foi feito:\n",
    "\n",
    "`find . -name \"G*.tif\" -exec  sh -c 'A=$(basename $1 | cut -c 8-15);B=$(basename $1 | cut -c 44-); C=\"${A}${B}\"; mv $1 $C' - {} \\;`\n",
    "\n",
    "\n",
    "`find . -name \"BAM*.tif\" -exec  sh -c 'A=$(basename $1 | cut -c 4-11);B=$(basename $1 | cut -c 24-35); C=\"${A}${B}\"; mv $1 $C' - {} \\;`\n"
   ]
  },
  {
   "cell_type": "markdown",
   "metadata": {},
   "source": [
    "### 1.8. Risco de Fogo\n",
    "Os dados de risco de fogo estavam em formato netCDF, foram convertidos usando o seguinte comando:"
   ]
  },
  {
   "cell_type": "markdown",
   "metadata": {},
   "source": [
    "find . -name \"*.nc\" -exec gdal_translate '{}' tif/'{}'.tif \\;"
   ]
  },
  {
   "cell_type": "markdown",
   "metadata": {},
   "source": [
    "### 1.9. Precipitação\n",
    "Os dados de precipitação estavam em formato netCDF, foram convertidos usando o seguinte comando:"
   ]
  },
  {
   "cell_type": "markdown",
   "metadata": {},
   "source": [
    "find . -name \"*.nc\" -exec gdal_translate '{}' tif/'{}'.tif \\;"
   ]
  },
  {
   "cell_type": "markdown",
   "metadata": {},
   "source": [
    "## 2. Verificando metadados \n",
    "\n",
    "Para a verificação dos metadados, foi utilizado os módulos ogr, osr e gdal da osgeo.\n",
    "Para suportar esses módulos é preciso instalar a *gdal* e o *numpy*, usando os comandos:\n",
    "\n",
    "`conda install gdal`\n",
    "\n",
    "`conda upgrade numpy`\n"
   ]
  },
  {
   "cell_type": "markdown",
   "metadata": {},
   "source": [
    "Fora implementadas duas funcoes para a extração dos metadados, **printRastaerInfo** e **printVectorInfo** para imprimir metadados de arquivos raster e vetoriais, respectivamente."
   ]
  },
  {
   "cell_type": "code",
   "execution_count": 2,
   "metadata": {
    "collapsed": true
   },
   "outputs": [],
   "source": [
    "from osgeo import ogr, osr, gdal\n",
    "\n",
    "# Enable python exceptions \n",
    "gdal.UseExceptions()\n",
    "\n",
    "\n",
    "def printRasterInfo(fileName):\n",
    "    src = gdal.Open(fileName)\n",
    "    if src is None:\n",
    "        print(\"Unable to open {}\".format(fileName))\n",
    "\n",
    "    print \"[ COLS ] = {}\".format(src.RasterXSize)\n",
    "    print \"[ ROWS ] = {}\".format(src.RasterYSize)\n",
    "    prj = src.GetProjection()\n",
    "    \n",
    "    if prj != None:\n",
    "        print osr.SpatialReference(wkt=prj)\n",
    "    \n",
    "    for band in range(1, src.RasterCount+1 ):\n",
    "        \n",
    "        print \"\\n[ GETTING BAND ]: {}\".format(band)\n",
    "    \n",
    "        srcband = src.GetRasterBand(band)\n",
    "\n",
    "        stats = srcband.GetStatistics( True, True )\n",
    "\n",
    "        print \"\\t[ STATS ] =  Minimum={}, Maximum={}, Mean={}, StdDev={}\".format(stats[0],stats[1],stats[2],stats[3])\n",
    "\n",
    "        print \"\\t[ NO DATA VALUE ] = {}\".format(srcband.GetNoDataValue())\n",
    "        print \"\\t[ MIN ] = {}\".format(srcband.GetMinimum())\n",
    "        print \"\\t[ MAX ] = {}\".format(srcband.GetMaximum())\n",
    "        print \"\\t[ SCALE ] = {}\".format(srcband.GetScale())\n",
    "        src = None\n",
    "        \n",
    "def printVectorInfo(fileName):\n",
    "    driver = ogr.GetDriverByName('ESRI Shapefile')\n",
    "    dataSource = driver.Open(fileName, 0)\n",
    "    # Check to see if shapefile is found.\n",
    "    if dataSource is None:\n",
    "        print \"Could not open {}\",format(fileName)\n",
    "    else:\n",
    "        layer = dataSource.GetLayer()\n",
    "        print layer.GetSpatialRef()\n",
    "        featureCount = layer.GetFeatureCount()\n",
    "        print \"[ NUMBER OF FEATURES] = {}\".format(featureCount)\n",
    "        feat = layer.GetNextFeature()\n",
    "        geom = feat.GetGeometryRef()\n",
    "        print \"[ GEOMETRY NAME ] = {}\".format(geom.GetGeometryName())\n",
    "        \n",
    "        \n",
    "        layerDefinition = layer.GetLayerDefn()\n",
    "        fmt = \"{:10s} {:10s} {:5s}\"\n",
    "        print fmt.format(\"Name\",\"Type\", \"Width\")\n",
    "        for i in range(layerDefinition.GetFieldCount()):\n",
    "            fieldName =  layerDefinition.GetFieldDefn(i).GetName()\n",
    "            fieldTypeCode = layerDefinition.GetFieldDefn(i).GetType()\n",
    "            fieldType = layerDefinition.GetFieldDefn(i).GetFieldTypeName(fieldTypeCode)\n",
    "            fieldWidth = layerDefinition.GetFieldDefn(i).GetWidth()\n",
    "            GetPrecision = layerDefinition.GetFieldDefn(i).GetPrecision()\n",
    "\n",
    "            print fmt.format(fieldName, fieldType, str(fieldWidth))  \n",
    "\n"
   ]
  },
  {
   "cell_type": "code",
   "execution_count": 3,
   "metadata": {},
   "outputs": [
    {
     "name": "stdout",
     "output_type": "stream",
     "text": [
      "[ COLS ] = 7721\n",
      "[ ROWS ] = 7841\n",
      "PROJCS[\"WGS 84 / UTM zone 22N\",\n",
      "    GEOGCS[\"WGS 84\",\n",
      "        DATUM[\"WGS_1984\",\n",
      "            SPHEROID[\"WGS 84\",6378137,298.257223563,\n",
      "                AUTHORITY[\"EPSG\",\"7030\"]],\n",
      "            AUTHORITY[\"EPSG\",\"6326\"]],\n",
      "        PRIMEM[\"Greenwich\",0,\n",
      "            AUTHORITY[\"EPSG\",\"8901\"]],\n",
      "        UNIT[\"degree\",0.0174532925199433,\n",
      "            AUTHORITY[\"EPSG\",\"9122\"]],\n",
      "        AUTHORITY[\"EPSG\",\"4326\"]],\n",
      "    PROJECTION[\"Transverse_Mercator\"],\n",
      "    PARAMETER[\"latitude_of_origin\",0],\n",
      "    PARAMETER[\"central_meridian\",-51],\n",
      "    PARAMETER[\"scale_factor\",0.9996],\n",
      "    PARAMETER[\"false_easting\",500000],\n",
      "    PARAMETER[\"false_northing\",0],\n",
      "    UNIT[\"metre\",1,\n",
      "        AUTHORITY[\"EPSG\",\"9001\"]],\n",
      "    AXIS[\"Easting\",EAST],\n",
      "    AXIS[\"Northing\",NORTH],\n",
      "    AUTHORITY[\"EPSG\",\"32622\"]]\n",
      "\n",
      "[ GETTING BAND ]: 1\n",
      "\t[ STATS ] =  Minimum=0.0, Maximum=46816.0, Mean=17440.536482, StdDev=13497.3432714\n",
      "\t[ NO DATA VALUE ] = None\n",
      "\t[ MIN ] = 0.0\n",
      "\t[ MAX ] = 46816.0\n",
      "\t[ SCALE ] = 1.0\n"
     ]
    }
   ],
   "source": [
    "# 2.1. Landsat 8\n",
    "landSat8File = '/home/vconrado/Documents/dados/queimadas/221_074_2016/imagens_brutas/LC82210742016011LGN00_B1.TIF';\n",
    "printRasterInfo(landSat8File)"
   ]
  },
  {
   "cell_type": "code",
   "execution_count": 4,
   "metadata": {},
   "outputs": [
    {
     "name": "stdout",
     "output_type": "stream",
     "text": [
      "[ COLS ] = 6676\n",
      "[ ROWS ] = 6053\n",
      "GEOGCS[\"WGS 84\",\n",
      "    DATUM[\"WGS_1984\",\n",
      "        SPHEROID[\"WGS 84\",6378137,298.257223563,\n",
      "            AUTHORITY[\"EPSG\",\"7030\"]],\n",
      "        AUTHORITY[\"EPSG\",\"6326\"]],\n",
      "    PRIMEM[\"Greenwich\",0],\n",
      "    UNIT[\"degree\",0.0174532925199433],\n",
      "    AUTHORITY[\"EPSG\",\"4326\"]]\n",
      "\n",
      "[ GETTING BAND ]: 1\n",
      "\t[ STATS ] =  Minimum=0.154082298279, Maximum=0.814603626728, Mean=0.532789811162, StdDev=0.101695359567\n",
      "\t[ NO DATA VALUE ] = 0.0\n",
      "\t[ MIN ] = 0.154082298279\n",
      "\t[ MAX ] = 0.814603626728\n",
      "\t[ SCALE ] = 1.0\n"
     ]
    }
   ],
   "source": [
    "# 2.2. Índices\n",
    "nbrl = '/home/vconrado/Documents/dados/queimadas/221_074_2016/indices/221_074_2016-01-11_nbrl.tif';\n",
    "printRasterInfo(nbrl)"
   ]
  },
  {
   "cell_type": "code",
   "execution_count": 5,
   "metadata": {},
   "outputs": [
    {
     "name": "stdout",
     "output_type": "stream",
     "text": [
      "[ COLS ] = 6676\n",
      "[ ROWS ] = 6053\n",
      "GEOGCS[\"WGS 84\",\n",
      "    DATUM[\"WGS_1984\",\n",
      "        SPHEROID[\"WGS 84\",6378137,298.257223563,\n",
      "            AUTHORITY[\"EPSG\",\"7030\"]],\n",
      "        AUTHORITY[\"EPSG\",\"6326\"]],\n",
      "    PRIMEM[\"Greenwich\",0],\n",
      "    UNIT[\"degree\",0.0174532925199433],\n",
      "    AUTHORITY[\"EPSG\",\"4326\"]]\n",
      "\n",
      "[ GETTING BAND ]: 1\n",
      "\t[ STATS ] =  Minimum=1.0, Maximum=3.0, Mean=1.11773160393, StdDev=0.470746723086\n",
      "\t[ NO DATA VALUE ] = 0.0\n",
      "\t[ MIN ] = 1.0\n",
      "\t[ MAX ] = 3.0\n",
      "\t[ SCALE ] = 1.0\n"
     ]
    }
   ],
   "source": [
    "# 2.3. Nuvens\n",
    "nuvens = '/home/vconrado/Documents/dados/queimadas/221_074_2016/nuvens/221_074_2016-01-11_nuvem.tif';\n",
    "printRasterInfo(nuvens)"
   ]
  },
  {
   "cell_type": "code",
   "execution_count": 6,
   "metadata": {},
   "outputs": [
    {
     "name": "stdout",
     "output_type": "stream",
     "text": [
      "[ COLS ] = 6676\n",
      "[ ROWS ] = 6053\n",
      "GEOGCS[\"WGS 84\",\n",
      "    DATUM[\"WGS_1984\",\n",
      "        SPHEROID[\"WGS 84\",6378137,298.257223563,\n",
      "            AUTHORITY[\"EPSG\",\"7030\"]],\n",
      "        AUTHORITY[\"EPSG\",\"6326\"]],\n",
      "    PRIMEM[\"Greenwich\",0],\n",
      "    UNIT[\"degree\",0.0174532925199433],\n",
      "    AUTHORITY[\"EPSG\",\"4326\"]]\n",
      "\n",
      "[ GETTING BAND ]: 1\n",
      "\t[ STATS ] =  Minimum=0.0, Maximum=0.888872802258, Mean=0.320362609187, StdDev=0.253952737591\n",
      "\t[ NO DATA VALUE ] = None\n",
      "\t[ MIN ] = 0.0\n",
      "\t[ MAX ] = 0.888872802258\n",
      "\t[ SCALE ] = 1.0\n"
     ]
    }
   ],
   "source": [
    "# 2.4. Reflectância\n",
    "nuvens = '/home/vconrado/Documents/dados/queimadas/221_074_2016/reflectancia/221_074_2016-01-11_ref_B2.tif';\n",
    "printRasterInfo(nuvens)"
   ]
  },
  {
   "cell_type": "code",
   "execution_count": 7,
   "metadata": {},
   "outputs": [
    {
     "name": "stdout",
     "output_type": "stream",
     "text": [
      "[ COLS ] = 1200\n",
      "[ ROWS ] = 1400\n",
      "\n",
      "\n",
      "[ GETTING BAND ]: 1\n",
      "\t[ STATS ] =  Minimum=0.0, Maximum=90.6248016357, Mean=2.49681837593, StdDev=7.00832669619\n",
      "\t[ NO DATA VALUE ] = -9999.0\n",
      "\t[ MIN ] = 0.0\n",
      "\t[ MAX ] = 90.6248016357\n",
      "\t[ SCALE ] = None\n"
     ]
    }
   ],
   "source": [
    "# 2.5. Precipitação\n",
    "prec = '/home/vconrado/Documents/dados/queimadas/precipitacao_cosch_2016/S10648241_201601011200.nc';\n",
    "printRasterInfo(prec)"
   ]
  },
  {
   "cell_type": "code",
   "execution_count": 8,
   "metadata": {},
   "outputs": [
    {
     "name": "stdout",
     "output_type": "stream",
     "text": [
      "[ COLS ] = 1200\n",
      "[ ROWS ] = 1400\n",
      "\n",
      "\n",
      "[ GETTING BAND ]: 1\n",
      "\t[ STATS ] =  Minimum=0.0, Maximum=1.0, Mean=0.39165301621, StdDev=0.401821619298\n",
      "\t[ NO DATA VALUE ] = 9.96920996839e+36\n",
      "\t[ MIN ] = 0.0\n",
      "\t[ MAX ] = 1.0\n",
      "\t[ SCALE ] = None\n"
     ]
    }
   ],
   "source": [
    "# 2.6. Risco de Fogo\n",
    "rf = '/home/vconrado/Documents/dados/queimadas/risco_fogo_2016/RF.20160101.nc';\n",
    "printRasterInfo(rf)"
   ]
  },
  {
   "cell_type": "code",
   "execution_count": 9,
   "metadata": {},
   "outputs": [
    {
     "name": "stdout",
     "output_type": "stream",
     "text": [
      "[ COLS ] = 1200\n",
      "[ ROWS ] = 1400\n",
      "\n",
      "\n",
      "[ GETTING BAND ]: 1\n",
      "\t[ STATS ] =  Minimum=269.818511963, Maximum=319.019714355, Mean=293.433673211, StdDev=10.6562843459\n",
      "\t[ NO DATA VALUE ] = -999.0\n",
      "\t[ MIN ] = 269.818511963\n",
      "\t[ MAX ] = 319.019714355\n",
      "\t[ SCALE ] = 1.0\n"
     ]
    }
   ],
   "source": [
    "# 2.7. Temperatura e Umidade Superfície\n",
    "temp_us = '/home/vconrado/Documents/dados/queimadas/temperatura_umidade_superficie_2016/tif/BAM20161101182016110118.nc.tk2m.tif';\n",
    "printRasterInfo(temp_us)"
   ]
  },
  {
   "cell_type": "code",
   "execution_count": 10,
   "metadata": {},
   "outputs": [
    {
     "name": "stdout",
     "output_type": "stream",
     "text": [
      "GEOGCS[\"GCS_WGS_1984\",\n",
      "    DATUM[\"WGS_1984\",\n",
      "        SPHEROID[\"WGS_84\",6378137,298.257223563]],\n",
      "    PRIMEM[\"Greenwich\",0],\n",
      "    UNIT[\"Degree\",0.017453292519943295]]\n",
      "[ NUMBER OF FEATURES] = 34560\n",
      "[ GEOMETRY NAME ] = POLYGON\n",
      "Name       Type       Width\n",
      "Bloco      String     50   \n",
      "Talhão    String     50   \n",
      "Unidade    String     50   \n",
      "Contrato   String     254  \n"
     ]
    }
   ],
   "source": [
    "# 2.8. Talhões\n",
    "talhoes = '/home/vconrado/Documents/dados/queimadas/221_074_2016/talhoes/Mapa_Geral.shp';\n",
    "printVectorInfo(talhoes)"
   ]
  },
  {
   "cell_type": "markdown",
   "metadata": {},
   "source": [
    "## 3. Carga dos dados\n",
    "\n",
    "Para a carga dos dados, foi escolhido a construção de dois arrays com multiplos atributos por célula. O primeiro array possui os dados brutos e índices do LandSat8 e o segundo array os demais dados ambientais e de risco de queimada. \n",
    "\n",
    "Para fazer a carga dos dados, foi preciso converter os dados, juntar os diferentes atributos e reorganizar os dados do modo que o SciDB armazena internamento. Para isso, foram utilizados os seguinte programas/scripts:\n",
    "\n",
    "**1.** [tiff-to-raw](https://github.com/tfogal/tiff-to-raw): Converte de Tiff para dados brutos (implementação de terceiro);\n",
    "\n",
    "**2.**  [interleaver](https://github.com/vconrado/cap-386/tree/master/project/src/interleaver): Recebe os diferentes arquivos de atributos e junta na sequência esperada pelo SciDB (implementação própria);\n",
    "\n",
    "**3.**  [chunkfier](https://github.com/vconrado/cap-386/tree/master/project/src/chunkfier): rearranja um cubo de dados no formato que é usado para armazenamento pelo SciDB. Reduz o tempo necessário para a carga dos dados e a utilização de espaço em disco (implementação própria);\n",
    "\n",
    "**4.** [prepare_queimadas.sh](https://github.com/vconrado/cap-386/blob/master/project/src/scripts/prepare_queimadas.sh): utiliza os programas anteriores para preparar automaticamente o arquivo para ser carregado no SciDB;\n",
    "\n",
    "**5.** [test_rand.sh](https://github.com/vconrado/cap-386/blob/master/project/src/scripts/test_rand.sh): gera pontos aleatórios no domínio do cubo de dados e verifica se os dados armazenados no SciDB estão de acordo com os dados dos arquivos brutos (tif). Esse script foi feito para validar os programas implementados.\n",
    "\n",
    "\n",
    "Demais scripts utilizados para a carga de dados podem se encontrados [aqui](https://github.com/vconrado/cap-386/tree/master/project/src). "
   ]
  },
  {
   "cell_type": "markdown",
   "metadata": {},
   "source": [
    "## 4. Disponibilização dos dados através de WTSS\n",
    "\n",
    "Os arrays carregados no SciDB foram disponibilizados através de um serviço [WTSS](https://github.com/e-sensing/eows/blob/master/doc/wtss.md). \n",
    "\n",
    "Os serviços podem ser acessados em *links omitidos*. "
   ]
  },
  {
   "cell_type": "markdown",
   "metadata": {},
   "source": [
    "## 5.  Cliente Python para acesso aos dados de queimadas em Web Feature Service (WFS) \n",
    "\n",
    "\n",
    "O banco de focos de queimadas foi reestruturado e carregado em um servidor PostgreSQL. Na sequência, um servidor Geoserver foi configurado para servir esses dados via WFS. Para facilitar o acesso aos dados, foi criado um cliente em python para acessos aos dados. Esse cliente está disponível [aqui](https://github.com/vconrado/bdq.py).\n",
    "\n"
   ]
  },
  {
   "cell_type": "markdown",
   "metadata": {},
   "source": [
    "## Proposta de Análise\n",
    "\n",
    "\n",
    "\n",
    "- Para cada foco dentro dos talhões \n",
    "    - Obter dados (pixel) de Temperatura, Umidade, Risco de Fogo e Precipitação para o dia e X dias anteriores\n",
    "    - Obter últimos X dados para bandas Landsat, índices (NDVI, NBRL, DNDVI, DNBRL)\n",
    "- Para cada foco de queimada, obter outro ponto aleatoriamente dentro dos talhões que não é foco e obter mesmos dados\n",
    "\n",
    "- ???? EDA/Classificação"
   ]
  }
 ],
 "metadata": {
  "celltoolbar": "Slideshow",
  "kernelspec": {
   "display_name": "Python [geospatial]",
   "language": "python",
   "name": "geospatial"
  },
  "language_info": {
   "codemirror_mode": {
    "name": "ipython",
    "version": 2
   },
   "file_extension": ".py",
   "mimetype": "text/x-python",
   "name": "python",
   "nbconvert_exporter": "python",
   "pygments_lexer": "ipython2",
   "version": "2.7.13"
  }
 },
 "nbformat": 4,
 "nbformat_minor": 2
}
